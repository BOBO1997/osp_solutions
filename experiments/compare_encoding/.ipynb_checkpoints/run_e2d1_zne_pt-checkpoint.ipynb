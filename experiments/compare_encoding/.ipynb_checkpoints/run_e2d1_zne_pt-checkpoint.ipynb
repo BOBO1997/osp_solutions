{
 "cells": [
  {
   "cell_type": "code",
   "execution_count": 1,
   "id": "feaeeae2",
   "metadata": {},
   "outputs": [],
   "source": [
    "import numpy as np\n",
    "import matplotlib.pyplot as plt\n",
    "from pprint import pprint\n",
    "import pickle\n",
    "import time\n",
    "import datetime"
   ]
  },
  {
   "cell_type": "code",
   "execution_count": 2,
   "id": "82b20aee",
   "metadata": {},
   "outputs": [],
   "source": [
    "# Import qubit states Zero (|0>) and One (|1>), and Pauli operators (X, Y, Z)\n",
    "from qiskit.opflow import Zero, One\n",
    "from qiskit import QuantumCircuit, QuantumRegister, IBMQ, execute, transpile, Aer\n",
    "from qiskit.tools.monitor import job_monitor\n",
    "from qiskit.circuit import Parameter\n",
    "from qiskit.transpiler.passes import RemoveBarriers"
   ]
  },
  {
   "cell_type": "code",
   "execution_count": 3,
   "id": "6d97c6b3",
   "metadata": {},
   "outputs": [
    {
     "name": "stderr",
     "output_type": "stream",
     "text": [
      "/var/folders/vr/d82vcp297v78vk4sb0_nzzdc0000gn/T/ipykernel_54868/3056705909.py:2: DeprecationWarning: The qiskit.ignis package is deprecated and has been supersceded by the qiskit-experiments project. Refer to the migration guide: https://github.com/Qiskit/qiskit-ignis#migration-guide on how to migrate to the new project.\n",
      "  from qiskit.ignis.mitigation.measurement import complete_meas_cal, CompleteMeasFitter\n"
     ]
    }
   ],
   "source": [
    "# Import QREM package\n",
    "from qiskit.ignis.mitigation.measurement import complete_meas_cal, CompleteMeasFitter\n",
    "from qiskit.ignis.mitigation import expectation_value"
   ]
  },
  {
   "cell_type": "code",
   "execution_count": 4,
   "id": "9ad1eb4c",
   "metadata": {},
   "outputs": [],
   "source": [
    "# Import mitiq for zne\n",
    "# unused for this file\n",
    "import mitiq"
   ]
  },
  {
   "cell_type": "code",
   "execution_count": 5,
   "id": "bb3233e3",
   "metadata": {},
   "outputs": [],
   "source": [
    "# Import state tomography modules\n",
    "from qiskit.ignis.verification.tomography import state_tomography_circuits, StateTomographyFitter\n",
    "from qiskit.quantum_info import state_fidelity"
   ]
  },
  {
   "cell_type": "code",
   "execution_count": 6,
   "id": "bff89d32",
   "metadata": {},
   "outputs": [],
   "source": [
    "import sys\n",
    "import importlib\n",
    "sys.path.append(\"../../solutions/utils/\")\n",
    "import circuit_utils, zne_utils, tomography_utils\n",
    "importlib.reload(circuit_utils)\n",
    "importlib.reload(zne_utils) # unused for this file\n",
    "importlib.reload(tomography_utils) # unused for this file\n",
    "from circuit_utils import *\n",
    "from zne_utils import zne_wrapper, zne_decoder\n",
    "from tomography_utils import expvals_to_valid_rho"
   ]
  },
  {
   "cell_type": "code",
   "execution_count": 7,
   "id": "0b013b07",
   "metadata": {},
   "outputs": [],
   "source": [
    "from qiskit.test.mock import FakeJakarta\n",
    "backend = FakeJakarta()\n",
    "# backend = Aer.get_backend(\"qasm_simulator\")"
   ]
  },
  {
   "cell_type": "code",
   "execution_count": 8,
   "id": "c64163ac",
   "metadata": {},
   "outputs": [
    {
     "name": "stdout",
     "output_type": "stream",
     "text": [
      "trotter step list:  [1, 2, 3, 4, 5, 6, 7, 8, 9, 10, 20, 30, 40, 50, 60, 70, 80, 90, 100]\n"
     ]
    }
   ],
   "source": [
    "num_qubits = 3\n",
    "\n",
    "# The final time of the state evolution\n",
    "target_time = np.pi\n",
    "\n",
    "# Parameterize variable t to be evaluated at t=pi later\n",
    "dt = Parameter('t')\n",
    "\n",
    "# Convert custom quantum circuit into a gate\n",
    "trot_gate = trotter_gate(dt)\n",
    "\n",
    "# initial layout\n",
    "initial_layout = [5,3,1]\n",
    "\n",
    "# Number of trotter steps\n",
    "num_steps_list = [1,2,3,4,5,6,7,8,9,10,20,30,40,50,60,70,80,90,100]\n",
    "print(\"trotter step list: \", num_steps_list)\n",
    "\n",
    "scale_factors = [1.0, 2.0, 3.0] # unused for this file\n",
    "\n",
    "shots = 1 << 13\n",
    "reps = 8 # unused\n",
    "\n",
    "target_state = (One^One^Zero).to_matrix() # DO NOT CHANGE!!!"
   ]
  },
  {
   "cell_type": "code",
   "execution_count": 9,
   "id": "ef57c2e4",
   "metadata": {},
   "outputs": [
    {
     "name": "stdout",
     "output_type": "stream",
     "text": [
      "Job ID 3c9e4b7e-d156-4f18-8b0c-78adb8aae5d6\n"
     ]
    }
   ],
   "source": [
    "# QREM\n",
    "qr = QuantumRegister(num_qubits, name=\"calq\")\n",
    "meas_calibs, state_labels = complete_meas_cal(qr=qr, circlabel='mcal')\n",
    "# we have to feed initial_layout to calibration matrix\n",
    "cal_job = execute(meas_calibs, backend=backend, shots=shots, optimization_level=3, initial_layout = initial_layout)\n",
    "print('Job ID', cal_job.job_id())\n",
    "\n",
    "retrieved_cal_job = cal_job\n",
    "cal_results = retrieved_cal_job.result()\n",
    "meas_fitter = CompleteMeasFitter(cal_results, state_labels, circlabel='mcal')"
   ]
  },
  {
   "cell_type": "code",
   "execution_count": null,
   "id": "2c702d2c",
   "metadata": {
    "scrolled": true
   },
   "outputs": [
    {
     "name": "stdout",
     "output_type": "stream",
     "text": [
      "trotter steps:  1\n",
      "created qc\n",
      "created st_qcs (length: 27 )\n",
      "removed barriers from st_qcs\n",
      "created t3_st_qcs (length: 27 )\n",
      "created zne_qcs (length: 81 )\n",
      "created t3_zne_qcs (length: 81 )\n",
      "Job ID 0b81da94-1b01-484f-978b-2ac70ebc1882\n",
      "Job ID 19fbc871-06d4-464d-bea4-7f9ceab0b0fe\n",
      "Job ID 3b4da250-ee1c-46c8-8f18-125f46727668\n",
      "Job ID 0f93b0a5-bbc8-4095-bcbb-9aa10a0dc702\n",
      "Job ID 17568ba8-e980-4499-b44d-e804dc97f34f\n",
      "Job ID 3d6ce249-d028-4d6f-abe2-ff1744857c93\n",
      "Job ID 075ad194-b396-40dc-b7dc-be1d0c282d0a\n",
      "Job ID 254521a0-47cb-425c-85fb-043818c32b11\n",
      "zne pt state tomography fidelity = 0.9844 ± 0.0046\n",
      "time: 46.156308199\n",
      "\n",
      "trotter steps:  2\n",
      "created qc\n",
      "created st_qcs (length: 27 )\n",
      "removed barriers from st_qcs\n",
      "created t3_st_qcs (length: 27 )\n"
     ]
    }
   ],
   "source": [
    "zne_fid_list = []\n",
    "zne_stddev_list = []\n",
    "\n",
    "for num_steps in num_steps_list:\n",
    "    \n",
    "    print(\"trotter steps: \", num_steps)\n",
    "    t1 = time.perf_counter()\n",
    "    \n",
    "    # Initialize quantum circuit for 3 qubits\n",
    "    qr = QuantumRegister(num_qubits, name=\"q\")\n",
    "    qc = QuantumCircuit(qr)\n",
    "\n",
    "    # Prepare initial state (remember we are only evolving 3 of the 7 qubits on jakarta qubits (q_5, q_3, q_1) corresponding to the state |110>)\n",
    "    make_initial_state(qc, \"110\")  # DO NOT MODIFY (|q_5,q_3,q_1> = |110>)\n",
    "\n",
    "    subspace_encoder_init110(qc, targets=[0, 1, 2]) # encode\n",
    "    trotterize(qc, trot_gate, num_steps, targets=[1, 2]) # Simulate time evolution under H_heis3 Hamiltonian\n",
    "    subspace_decoder(qc, targets=[0, 1, 2]) # decode\n",
    "\n",
    "    # Evaluate simulation at target_time (t=pi) meaning each trotter step evolves pi/trotter_steps in time\n",
    "    qc = qc.bind_parameters({dt: target_time / num_steps})\n",
    "    print(\"created qc\")\n",
    "\n",
    "    # Generate state tomography circuits to evaluate fidelity of simulation\n",
    "    st_qcs = state_tomography_circuits(qc, [0, 1, 2][::-1])  #! state tomography requires === BIG ENDIAN === \n",
    "    print(\"created st_qcs (length:\", len(st_qcs), \")\")\n",
    "\n",
    "    # remove barriers\n",
    "    st_qcs = [RemoveBarriers()(qc) for qc in st_qcs]\n",
    "    print(\"removed barriers from st_qcs\")\n",
    "\n",
    "    # optimize circuit\n",
    "    t3_st_qcs = transpile(st_qcs, optimization_level=3, basis_gates=[\"sx\", \"cx\", \"rz\"])\n",
    "    t3_st_qcs = transpile(t3_st_qcs, optimization_level=3, basis_gates=[\"sx\", \"cx\", \"rz\"])\n",
    "    print(\"created t3_st_qcs (length:\", len(t3_st_qcs), \")\")\n",
    "\n",
    "    # zne wrapping\n",
    "    zne_qcs = t3_st_qcs\n",
    "    zne_qcs = zne_wrapper(t3_st_qcs, scale_factors = scale_factors, pt = True)\n",
    "    print(\"created zne_qcs (length:\", len(zne_qcs), \")\")\n",
    "\n",
    "    # optimization_level must be 0\n",
    "    # feed initial_layout here to see the picture of the circuits before casting the job\n",
    "    t3_zne_qcs = transpile(zne_qcs, optimization_level=0, basis_gates=[\"sx\", \"cx\", \"rz\"], initial_layout=initial_layout)\n",
    "    print(\"created t3_zne_qcs (length:\", len(t3_zne_qcs), \")\")\n",
    "    \n",
    "    jobs = []\n",
    "    for _ in range(reps):\n",
    "        #! CHECK: run t3_zne_qcs, with optimization_level = 0 and straightforward initial_layout\n",
    "        job = execute(t3_zne_qcs, backend, shots=shots, optimization_level=0)\n",
    "        print('Job ID', job.job_id())\n",
    "        jobs.append(job)\n",
    "    \n",
    "    retrieved_jobs = jobs\n",
    "    zne_fids = []\n",
    "    for job in retrieved_jobs:\n",
    "        raw_results = job.result()\n",
    "        mit_results = meas_fitter.filter.apply(raw_results)\n",
    "        zne_expvals = zne_decoder(num_qubits, mit_results, scale_factors = scale_factors)\n",
    "        zne_rho = expvals_to_valid_rho(num_qubits, zne_expvals)\n",
    "        zne_fid = state_fidelity(zne_rho, target_state)\n",
    "        zne_fids.append(zne_fid)\n",
    "\n",
    "    zne_fid_list.append(np.mean(zne_fids))\n",
    "    zne_stddev_list.append(np.std(zne_fids))\n",
    "    \n",
    "    t2 = time.perf_counter()\n",
    "    print('zne pt state tomography fidelity = {:.4f} \\u00B1 {:.4f}'.format(np.mean(zne_fids), np.std(zne_fids)))\n",
    "    print(\"time:\", t2 - t1)\n",
    "    print()"
   ]
  },
  {
   "cell_type": "code",
   "execution_count": null,
   "id": "a4961034",
   "metadata": {},
   "outputs": [],
   "source": [
    "with open(\"e2d1_zne_pt.pkl\", \"wb\") as f:\n",
    "    pickle.dump({\"num_steps_list\": num_steps_list, \"fid\": zne_fid_list, \"stddev\": zne_stddev_list}, f)"
   ]
  },
  {
   "cell_type": "code",
   "execution_count": null,
   "id": "27a30f4a",
   "metadata": {},
   "outputs": [],
   "source": [
    "import qiskit.tools.jupyter\n",
    "%qiskit_version_table"
   ]
  },
  {
   "cell_type": "code",
   "execution_count": null,
   "id": "9247d221",
   "metadata": {},
   "outputs": [],
   "source": [
    "plt.plot(num_steps_list, zne_fid_list)"
   ]
  }
 ],
 "metadata": {
  "kernelspec": {
   "display_name": "Python 3 (ipykernel)",
   "language": "python",
   "name": "python3"
  },
  "language_info": {
   "codemirror_mode": {
    "name": "ipython",
    "version": 3
   },
   "file_extension": ".py",
   "mimetype": "text/x-python",
   "name": "python",
   "nbconvert_exporter": "python",
   "pygments_lexer": "ipython3",
   "version": "3.9.7"
  }
 },
 "nbformat": 4,
 "nbformat_minor": 5
}
