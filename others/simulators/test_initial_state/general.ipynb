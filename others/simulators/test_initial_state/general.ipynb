{
 "cells": [
  {
   "cell_type": "markdown",
   "id": "7f7b7f17",
   "metadata": {},
   "source": [
    "# Test Trotterization on FakeJakarta with QREM\n",
    "\n",
    "- Status: OK"
   ]
  },
  {
   "cell_type": "markdown",
   "id": "2479c61b",
   "metadata": {},
   "source": [
    "# Import Libiraries"
   ]
  },
  {
   "cell_type": "code",
   "execution_count": 1,
   "id": "6c48acd1",
   "metadata": {},
   "outputs": [],
   "source": [
    "import numpy as np\n",
    "import matplotlib.pyplot as plt\n",
    "import itertools\n",
    "plt.rcParams.update({'font.size': 16})  # enlarge matplotlib fonts"
   ]
  },
  {
   "cell_type": "code",
   "execution_count": 2,
   "id": "d2b9e40b",
   "metadata": {},
   "outputs": [],
   "source": [
    "# Import qubit states Zero (|0>) and One (|1>), and Pauli operators (X, Y, Z)\n",
    "from qiskit.opflow import Zero, One, I, X, Y, Z\n",
    "from qiskit import QuantumCircuit, QuantumRegister, IBMQ, execute, transpile, Aer\n",
    "from qiskit.providers.aer import QasmSimulator\n",
    "from qiskit.tools.monitor import job_monitor\n",
    "from qiskit.circuit import Parameter\n",
    "from qiskit.transpiler.passes import RemoveBarriers\n",
    "backend = Aer.get_backend(\"qasm_simulator\")"
   ]
  },
  {
   "cell_type": "markdown",
   "id": "b2e42c7d",
   "metadata": {},
   "source": [
    "# Initial State Function"
   ]
  },
  {
   "cell_type": "code",
   "execution_count": 3,
   "id": "716bd2c1",
   "metadata": {},
   "outputs": [],
   "source": [
    "def make_initial_state(qc, initial_state):\n",
    "    \"\"\"\n",
    "    logical qubit index\n",
    "    little endian\n",
    "    \"\"\"\n",
    "    for i, state in enumerate(initial_state):\n",
    "        if state == \"1\":\n",
    "            qc.x(i)"
   ]
  },
  {
   "cell_type": "markdown",
   "id": "82a64e6f",
   "metadata": {},
   "source": [
    "# エンコーダとデコーダ\n",
    "\n",
    "論理|q_0, q_1, q_2>を、論理|q_1, q_2>にエンコード\n",
    "\n",
    "エンコードするときに、q_0が1を保っていれば、デコードの際にcnotが1個減らせる？？→嘘"
   ]
  },
  {
   "cell_type": "code",
   "execution_count": 4,
   "id": "4eadd934",
   "metadata": {},
   "outputs": [],
   "source": [
    "def subspace_encoder(qc, targets):\n",
    "    \"\"\"\n",
    "    naive method, can be optimized for init state |110>\n",
    "    little endian\n",
    "    \"\"\"\n",
    "    n = qc.num_qubits\n",
    "    qc.cx(targets[0],targets[1])\n",
    "    qc.cx(targets[2],targets[1])\n",
    "    qc.cx(targets[1],targets[2])\n",
    "    qc.cx(targets[0],targets[1])\n",
    "    qc.cx(targets[1],targets[0])"
   ]
  },
  {
   "cell_type": "code",
   "execution_count": 5,
   "id": "8b0953a7",
   "metadata": {},
   "outputs": [],
   "source": [
    "def subspace_encoder_init110(qc, targets):\n",
    "    \"\"\"\n",
    "    optimized encoder for init state |110>\n",
    "    endian: |q_0, q_1, q_2> (little endian)\n",
    "    encode |110> to |0>|10>\n",
    "    \"\"\"\n",
    "    n = qc.num_qubits\n",
    "    qc.x(targets[0])"
   ]
  },
  {
   "cell_type": "code",
   "execution_count": 6,
   "id": "cc55290b",
   "metadata": {},
   "outputs": [],
   "source": [
    "def subspace_decoder(qc, targets):\n",
    "    \"\"\"\n",
    "    naive method\n",
    "    little endian\n",
    "    \"\"\"\n",
    "    n = qc.num_qubits\n",
    "    qc.cx(targets[1],targets[0])\n",
    "    qc.cx(targets[0],targets[1])\n",
    "    qc.cx(targets[1],targets[2])\n",
    "    qc.cx(targets[2],targets[1])\n",
    "    qc.cx(targets[0],targets[1])"
   ]
  },
  {
   "cell_type": "code",
   "execution_count": 7,
   "id": "afcf68d8",
   "metadata": {},
   "outputs": [],
   "source": [
    "# Combine subcircuits into a single multiqubit gate representing a single trotter step\n",
    "num_qubits = 3\n",
    "\n",
    "# initial layout\n",
    "initial_layout = [5,3,1]"
   ]
  },
  {
   "cell_type": "code",
   "execution_count": 18,
   "id": "2da746c5",
   "metadata": {},
   "outputs": [
    {
     "data": {
      "image/png": "[encoded data removed]",
      "text/plain": [
       "<Figure size 901.731x445.48 with 1 Axes>"
      ]
     },
     "execution_count": 18,
     "metadata": {},
     "output_type": "execute_result"
    }
   ],
   "source": [
    "qr = QuantumRegister(num_qubits, name=\"lq\")\n",
    "qc = QuantumCircuit(qr)\n",
    "qc.x([1])\n",
    "qc.barrier()\n",
    "subspace_encoder(qc, targets=[0, 1, 2]) # encode\n",
    "qc.measure_all()\n",
    "t3_qc = transpile(qc, optimization_level=3, basis_gates=[\"sx\", \"cx\", \"rz\"], initial_layout=initial_layout)\n",
    "t3_qc.draw(\"mpl\")"
   ]
  },
  {
   "cell_type": "code",
   "execution_count": 19,
   "id": "aef2c936",
   "metadata": {},
   "outputs": [
    {
     "data": {
      "text/plain": [
       "{'001': 1024}"
      ]
     },
     "execution_count": 19,
     "metadata": {},
     "output_type": "execute_result"
    }
   ],
   "source": [
    "execute(qc, backend).result().get_counts()"
   ]
  },
  {
   "cell_type": "code",
   "execution_count": null,
   "id": "969dd438",
   "metadata": {},
   "outputs": [],
   "source": []
  }
 ],
 "metadata": {
  "kernelspec": {
   "display_name": "Python 3 (ipykernel)",
   "language": "python",
   "name": "python3"
  },
  "language_info": {
   "codemirror_mode": {
    "name": "ipython",
    "version": 3
   },
   "file_extension": ".py",
   "mimetype": "text/x-python",
   "name": "python",
   "nbconvert_exporter": "python",
   "pygments_lexer": "ipython3",
   "version": "3.9.7"
  },
  "widgets": {
   "application/vnd.jupyter.widget-state+json": {
    "state": {},
    "version_major": 2,
    "version_minor": 0
   }
  }
 },
 "nbformat": 4,
 "nbformat_minor": 5
}
