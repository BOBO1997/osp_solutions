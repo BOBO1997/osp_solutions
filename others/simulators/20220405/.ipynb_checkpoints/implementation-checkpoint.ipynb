{
 "cells": [
  {
   "cell_type": "code",
   "execution_count": 1,
   "id": "46db88ee",
   "metadata": {},
   "outputs": [],
   "source": [
    "import numpy as np\n",
    "import pandas as pd\n",
    "import itertools\n",
    "import cma\n",
    "import os\n",
    "import sys\n",
    "import argparse\n",
    "import pickle\n",
    "import random\n",
    "import re\n",
    "from pprint import pprint"
   ]
  },
  {
   "cell_type": "code",
   "execution_count": 2,
   "id": "fa962b51",
   "metadata": {},
   "outputs": [
    {
     "name": "stderr",
     "output_type": "stream",
     "text": [
      "/var/folders/vr/d82vcp297v78vk4sb0_nzzdc0000gn/T/ipykernel_21494/1914122980.py:9: DeprecationWarning: The qiskit.ignis package is deprecated and has been supersceded by the qiskit-experiments project. Refer to the migration guide: https://github.com/Qiskit/qiskit-ignis#migration-guide on how to migrate to the new project.\n",
      "  from qiskit.ignis.mitigation.measurement import complete_meas_cal, CompleteMeasFitter\n"
     ]
    }
   ],
   "source": [
    "import qiskit\n",
    "from qiskit import QuantumCircuit, QuantumRegister, ClassicalRegister, execute\n",
    "from qiskit import Aer\n",
    "from qiskit import IBMQ\n",
    "from qiskit.compiler import transpile\n",
    "from qiskit.providers.aer.noise.noise_model import NoiseModel\n",
    "from qiskit.test.mock import *\n",
    "from qiskit.providers.aer import AerSimulator, QasmSimulator\n",
    "from qiskit.ignis.mitigation.measurement import complete_meas_cal, CompleteMeasFitter\n",
    "import mitiq"
   ]
  },
  {
   "cell_type": "code",
   "execution_count": null,
   "id": "8580bad8",
   "metadata": {},
   "outputs": [],
   "source": [
    "IBMQ.load_account()\n",
    "# provider = IBMQ.get_provider(hub='ibm-q-utokyo', group='internal', project='hirashi-jst')\n",
    "provider = IBMQ.get_provider(hub='ibm-q-community', group='ibmquantumawards', project='open-science-22')\n",
    "print(\"provider:\", provider)"
   ]
  },
  {
   "cell_type": "code",
   "execution_count": null,
   "id": "da204651",
   "metadata": {},
   "outputs": [],
   "source": [
    "real_device = provider.get_backend('ibmq_jakarta')"
   ]
  },
  {
   "cell_type": "code",
   "execution_count": null,
   "id": "cb8af597",
   "metadata": {},
   "outputs": [],
   "source": [
    "def qrem_encoder(num_qubits: int, initial_layout: list) -> list:\n",
    "    qr = QuantumRegister(num_qubits)\n",
    "    meas_calibs, state_labels = complete_meas_cal(qr=qr, circlabel='mcal')\n",
    "    return transpile(meas_calibs, initial_layout=initial_layout, basis_gates=[\"sx\", \"rz\", \"cx\"])"
   ]
  },
  {
   "cell_type": "code",
   "execution_count": null,
   "id": "df5efd05",
   "metadata": {},
   "outputs": [],
   "source": [
    "def execute_circuits(qcs: list, backend) -> (qiskit.providers.Job, str):\n",
    "    job = exec\n",
    "    meas_fitter = CompleteMeasFitter(cal_results, state_labels, circlabel='mcal')"
   ]
  },
  {
   "cell_type": "code",
   "execution_count": null,
   "id": "e1cacc21",
   "metadata": {},
   "outputs": [],
   "source": [
    "def qrem_decoder():"
   ]
  },
  {
   "cell_type": "code",
   "execution_count": null,
   "id": "bb72d206",
   "metadata": {},
   "outputs": [],
   "source": []
  },
  {
   "cell_type": "code",
   "execution_count": null,
   "id": "f5af2a21",
   "metadata": {},
   "outputs": [],
   "source": []
  },
  {
   "cell_type": "code",
   "execution_count": null,
   "id": "218ce4b0",
   "metadata": {},
   "outputs": [],
   "source": []
  },
  {
   "cell_type": "code",
   "execution_count": null,
   "id": "16d5487c",
   "metadata": {},
   "outputs": [],
   "source": []
  },
  {
   "cell_type": "code",
   "execution_count": null,
   "id": "d203c80a",
   "metadata": {},
   "outputs": [],
   "source": []
  }
 ],
 "metadata": {
  "kernelspec": {
   "display_name": "Python 3 (ipykernel)",
   "language": "python",
   "name": "python3"
  },
  "language_info": {
   "codemirror_mode": {
    "name": "ipython",
    "version": 3
   },
   "file_extension": ".py",
   "mimetype": "text/x-python",
   "name": "python",
   "nbconvert_exporter": "python",
   "pygments_lexer": "ipython3",
   "version": "3.9.7"
  }
 },
 "nbformat": 4,
 "nbformat_minor": 5
}
