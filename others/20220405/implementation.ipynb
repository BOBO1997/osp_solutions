{
 "cells": [
  {
   "cell_type": "code",
   "execution_count": 1,
   "id": "454a5951",
   "metadata": {},
   "outputs": [],
   "source": [
    "import numpy as np\n",
    "import pandas as pd\n",
    "import itertools\n",
    "import cma\n",
    "import os\n",
    "import sys\n",
    "import argparse\n",
    "import pickle\n",
    "import random\n",
    "import re\n",
    "from pprint import pprint"
   ]
  },
  {
   "cell_type": "code",
   "execution_count": 3,
   "id": "f07db0fb",
   "metadata": {},
   "outputs": [],
   "source": [
    "import qiskit\n",
    "from qiskit import QuantumCircuit, QuantumRegister, ClassicalRegister, execute\n",
    "from qiskit import Aer\n",
    "from qiskit import IBMQ\n",
    "from qiskit.compiler import transpile\n",
    "from qiskit.providers.aer.noise.noise_model import NoiseModel\n",
    "from qiskit.test.mock import *\n",
    "from qiskit.providers.aer import AerSimulator, QasmSimulator\n",
    "from qiskit.ignis.mitigation.measurement import complete_meas_cal, CompleteMeasFitter\n",
    "import mitiq"
   ]
  },
  {
   "cell_type": "code",
   "execution_count": null,
   "id": "496a240f",
   "metadata": {},
   "outputs": [],
   "source": [
    "IBMQ.load_account()\n",
    "# provider = IBMQ.get_provider(hub='ibm-q-utokyo', group='internal', project='hirashi-jst')\n",
    "provider = IBMQ.get_provider(hub='ibm-q-community', group='ibmquantumawards', project='open-science-22')\n",
    "print(\"provider:\", provider)"
   ]
  },
  {
   "cell_type": "code",
   "execution_count": null,
   "id": "bea03d61",
   "metadata": {},
   "outputs": [],
   "source": [
    "real_device = provider.get_backend('ibmq_jakarta')"
   ]
  },
  {
   "cell_type": "code",
   "execution_count": null,
   "id": "684d64e0",
   "metadata": {},
   "outputs": [],
   "source": [
    "def qrem_encoder(num_qubits: int, initial_layout: list) -> list:\n",
    "    qr = QuantumRegister(num_qubits)\n",
    "    meas_calibs, state_labels = complete_meas_cal(qr=qr, circlabel='mcal')\n",
    "    return transpile(meas_calibs, initial_layout=initial_layout, basis_gates=[\"sx\", \"rz\", \"cx\"])"
   ]
  },
  {
   "cell_type": "code",
   "execution_count": null,
   "id": "fbb79ad4",
   "metadata": {},
   "outputs": [],
   "source": [
    "def execute_circuits(qcs: list, backend, ) -> (qiskit.providers.Job, str):\n",
    "    job = execute(qcs, backend=backend, )\n",
    "    meas_fitter = CompleteMeasFitter(cal_results, state_labels, circlabel='mcal')"
   ]
  },
  {
   "cell_type": "code",
   "execution_count": null,
   "id": "6340f058",
   "metadata": {},
   "outputs": [],
   "source": [
    "def qrem_decoder():\n",
    "    "
   ]
  },
  {
   "cell_type": "markdown",
   "id": "40206bdb",
   "metadata": {},
   "source": [
    "# ZNE Circuit"
   ]
  },
  {
   "cell_type": "code",
   "execution_count": null,
   "id": "5d8261ea",
   "metadata": {},
   "outputs": [],
   "source": [
    "def TwirlCircuit(circ: str) -> QuantumCircuit:\n",
    "    \"\"\"\n",
    "    そのまま使う: 修正は後回し\n",
    "    \"\"\"\n",
    "    #! qasm ベタ書き\n",
    "    def apply_pauli(num: int, qb: int) -> str:\n",
    "        if (num == 0):\n",
    "            return f'id q[{qb}];\\n'\n",
    "        elif (num == 1):\n",
    "            return f'x q[{qb}];\\n'\n",
    "        elif (num == 2):\n",
    "            return f'y q[{qb}];\\n'\n",
    "        else:\n",
    "            return f'z q[{qb}];\\n'\n",
    "\n",
    "    paulis = [(i,j) for i in range(0,4) for j in range(0,4)]\n",
    "    paulis.remove((0,0))\n",
    "    paulis_map = [(0, 1), (3, 2), (3, 3), (1, 1), (1, 0), (2, 3), (2, 2), (2, 1), (2, 0), (1, 3), (1, 2), (3, 0), (3, 1), (0, 2), (0, 3)]\n",
    "\n",
    "    new_circ = ''\n",
    "    ops = circ.qasm().splitlines(True) #! 生のqasmコードを持ってきてる: オペレータに分解\n",
    "    for op in ops:\n",
    "        if (op[:2] == 'cx'): # can add for cz, etc.\n",
    "            num = random.randrange(len(paulis)) #! permute paulis\n",
    "            qbs = re.findall('q\\[(.)\\]', op)\n",
    "            new_circ += apply_pauli(paulis[num][0], qbs[0])\n",
    "            new_circ += apply_pauli(paulis[num][1], qbs[1])\n",
    "            new_circ += op\n",
    "            new_circ += apply_pauli(paulis_map[num][0], qbs[0])\n",
    "            new_circ += apply_pauli(paulis_map[num][1], qbs[1])\n",
    "        else:\n",
    "            new_circ += op\n",
    "    return qiskit.circuit.QuantumCircuit.from_qasm_str(new_circ)"
   ]
  },
  {
   "cell_type": "code",
   "execution_count": null,
   "id": "fa0626cb",
   "metadata": {},
   "outputs": [],
   "source": [
    "def zne_wrapper(qcs, scale_factors = [1.0, 2.0, 3.0]):\n",
    "    \"\"\"\n",
    "    \"\"\"\n",
    "    folded_qcs = [] #! ZNE用の回路\n",
    "    for qc in qcs:\n",
    "        folded_qcs.append([mitiq.zne.scaling.fold_gates_at_random(qc, scale) for scale in scale_factors]) #! ここでmitiqを使用\n",
    "    folded_qcs = list(itertools.chain(*folded_qcs)) #! folded_qcsを平坦化\n",
    "    folded_qcs = [Twirlqc(circ) for circ in folded_qcs] #! 後からPauli Twirlingを施す!\n",
    "    return folded_qcs"
   ]
  },
  {
   "cell_type": "code",
   "execution_count": null,
   "id": "6933c270",
   "metadata": {},
   "outputs": [],
   "source": [
    "def zne_decoder(expvals: list, scale_factors = [1.0, 2.0, 3.0]) -> list:\n",
    "    \"\"\"\n",
    "    \"\"\"\n",
    "    zero_noise_values = []\n",
    "    if isinstance(backend, qiskit.providers.aer.backends.qasm_simulator.QasmSimulator): # exact_sim\n",
    "        for i in range(len(expvals)):\n",
    "            zero_noise_values.append( np.mean(expectation_values[i * len(scale_factors): (i + 1) * len(scale_factors)]) )\n",
    "    else: # device_sim, real_device\n",
    "        fac = mitiq.zne.inference.LinearFactory(scale_factors)\n",
    "        for i in range(len(expvals)):\n",
    "            zero_noise_values.append( fac.extrapolate(scale_factors, expectation_values[i * len(scale_factors): (i + 1) * len(scale_factors)]) )\n",
    "    \n",
    "    return zero_noise_values"
   ]
  },
  {
   "cell_type": "code",
   "execution_count": null,
   "id": "a8d8e38d",
   "metadata": {},
   "outputs": [],
   "source": [
    "def trotter_circuit():\n",
    "    "
   ]
  },
  {
   "cell_type": "code",
   "execution_count": null,
   "id": "d3f7392c",
   "metadata": {},
   "outputs": [],
   "source": []
  },
  {
   "cell_type": "code",
   "execution_count": null,
   "id": "4f09e1a8",
   "metadata": {},
   "outputs": [],
   "source": [
    "# Compute the state tomography based on the st_qcs quantum circuits and the results from those ciricuits\n",
    "def state_tomo(result, st_qcs):\n",
    "    # The expected final state; necessary to determine state tomography fidelity\n",
    "    target_state = (One^One^Zero).to_matrix()  # DO NOT MODIFY (|q_5,q_3,q_1> = |110>)\n",
    "    # Fit state tomography results\n",
    "    tomo_fitter = StateTomographyFitter(result, st_qcs)\n",
    "    rho_fit = tomo_fitter.fit(method='lstsq')\n",
    "    # Compute fidelity\n",
    "    fid = state_fidelity(rho_fit, target_state)\n",
    "    return fid"
   ]
  },
  {
   "cell_type": "code",
   "execution_count": null,
   "id": "eacda2f8",
   "metadata": {},
   "outputs": [],
   "source": []
  },
  {
   "cell_type": "code",
   "execution_count": null,
   "id": "25bb5f10",
   "metadata": {},
   "outputs": [],
   "source": []
  },
  {
   "cell_type": "code",
   "execution_count": null,
   "id": "9382a4d8",
   "metadata": {},
   "outputs": [],
   "source": []
  },
  {
   "cell_type": "code",
   "execution_count": null,
   "id": "f69af2b2",
   "metadata": {},
   "outputs": [],
   "source": []
  },
  {
   "cell_type": "code",
   "execution_count": null,
   "id": "be4ce514",
   "metadata": {},
   "outputs": [],
   "source": []
  },
  {
   "cell_type": "code",
   "execution_count": null,
   "id": "b38d4fa3",
   "metadata": {},
   "outputs": [],
   "source": []
  },
  {
   "cell_type": "code",
   "execution_count": null,
   "id": "86182f77",
   "metadata": {},
   "outputs": [],
   "source": []
  },
  {
   "cell_type": "code",
   "execution_count": null,
   "id": "933ce0af",
   "metadata": {},
   "outputs": [],
   "source": []
  },
  {
   "cell_type": "code",
   "execution_count": null,
   "id": "de8697dd",
   "metadata": {},
   "outputs": [],
   "source": []
  },
  {
   "cell_type": "code",
   "execution_count": null,
   "id": "f352494a",
   "metadata": {},
   "outputs": [],
   "source": []
  },
  {
   "cell_type": "code",
   "execution_count": null,
   "id": "40628944",
   "metadata": {},
   "outputs": [],
   "source": []
  }
 ],
 "metadata": {
  "kernelspec": {
   "display_name": "Python 3 (ipykernel)",
   "language": "python",
   "name": "python3"
  },
  "language_info": {
   "codemirror_mode": {
    "name": "ipython",
    "version": 3
   },
   "file_extension": ".py",
   "mimetype": "text/x-python",
   "name": "python",
   "nbconvert_exporter": "python",
   "pygments_lexer": "ipython3",
   "version": "3.9.7"
  }
 },
 "nbformat": 4,
 "nbformat_minor": 5
}
