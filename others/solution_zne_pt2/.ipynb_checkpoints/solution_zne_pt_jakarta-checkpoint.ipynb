{
 "cells": [
  {
   "cell_type": "markdown",
   "id": "18add09b",
   "metadata": {},
   "source": [
    "# ZNE with PT"
   ]
  },
  {
   "cell_type": "markdown",
   "id": "7f7b7f17",
   "metadata": {},
   "source": [
    "# Test Trotterization on FakeJakarta with QREM and ZNE\n",
    "\n",
    "- Status: Incomplete"
   ]
  },
  {
   "cell_type": "markdown",
   "id": "2479c61b",
   "metadata": {},
   "source": [
    "# Import Libiraries"
   ]
  },
  {
   "cell_type": "code",
   "execution_count": 1,
   "id": "6c48acd1",
   "metadata": {},
   "outputs": [],
   "source": [
    "import numpy as np\n",
    "import matplotlib.pyplot as plt\n",
    "import itertools\n",
    "from pprint import pprint\n",
    "# plt.rcParams.update({'font.size': 16})  # enlarge matplotlib fonts\n",
    "import pickle\n",
    "import time\n",
    "import datetime"
   ]
  },
  {
   "cell_type": "code",
   "execution_count": 2,
   "id": "d2b9e40b",
   "metadata": {},
   "outputs": [],
   "source": [
    "# Import qubit states Zero (|0>) and One (|1>), and Pauli operators (X, Y, Z)\n",
    "from qiskit.opflow import Zero, One, I, X, Y, Z\n",
    "from qiskit import QuantumCircuit, QuantumRegister, IBMQ, execute, transpile, Aer\n",
    "from qiskit.tools.monitor import job_monitor\n",
    "from qiskit.circuit import Parameter\n",
    "from qiskit.transpiler.passes import RemoveBarriers"
   ]
  },
  {
   "cell_type": "code",
   "execution_count": 3,
   "id": "c96c5a8c",
   "metadata": {},
   "outputs": [
    {
     "name": "stderr",
     "output_type": "stream",
     "text": [
      "/var/folders/vr/d82vcp297v78vk4sb0_nzzdc0000gn/T/ipykernel_38250/3056705909.py:2: DeprecationWarning: The qiskit.ignis package is deprecated and has been supersceded by the qiskit-experiments project. Refer to the migration guide: https://github.com/Qiskit/qiskit-ignis#migration-guide on how to migrate to the new project.\n",
      "  from qiskit.ignis.mitigation.measurement import complete_meas_cal, CompleteMeasFitter\n"
     ]
    }
   ],
   "source": [
    "# Import QREM package\n",
    "from qiskit.ignis.mitigation.measurement import complete_meas_cal, CompleteMeasFitter\n",
    "from qiskit.ignis.mitigation import expectation_value"
   ]
  },
  {
   "cell_type": "code",
   "execution_count": 4,
   "id": "021cc2b7",
   "metadata": {},
   "outputs": [],
   "source": [
    "# Import mitiq for zne\n",
    "import mitiq"
   ]
  },
  {
   "cell_type": "code",
   "execution_count": 5,
   "id": "384a1073",
   "metadata": {},
   "outputs": [],
   "source": [
    "# Import state tomography modules\n",
    "from qiskit.ignis.verification.tomography import state_tomography_circuits\n",
    "from qiskit.quantum_info import state_fidelity"
   ]
  },
  {
   "cell_type": "markdown",
   "id": "d0c11cbd",
   "metadata": {},
   "source": [
    "# Import Libraries"
   ]
  },
  {
   "cell_type": "code",
   "execution_count": 6,
   "id": "a17d2667",
   "metadata": {},
   "outputs": [],
   "source": [
    "import sys\n",
    "import importlib\n",
    "sys.path.append(\"./\")\n",
    "import circuit_utils, zne_utils, tomography_utils, sgs_algorithm\n",
    "importlib.reload(circuit_utils)\n",
    "importlib.reload(zne_utils)\n",
    "importlib.reload(tomography_utils)\n",
    "importlib.reload(sgs_algorithm)\n",
    "from circuit_utils import *\n",
    "from zne_utils import *\n",
    "from tomography_utils import *\n",
    "from sgs_algorithm import *"
   ]
  },
  {
   "cell_type": "markdown",
   "id": "2b869090",
   "metadata": {},
   "source": [
    "# Set Parameters"
   ]
  },
  {
   "cell_type": "code",
   "execution_count": 7,
   "id": "afcf68d8",
   "metadata": {},
   "outputs": [],
   "source": [
    "# Combine subcircuits into a single multiqubit gate representing a single trotter step\n",
    "num_qubits = 3\n",
    "\n",
    "# The final time of the state evolution\n",
    "target_time = np.pi\n",
    "\n",
    "# Parameterize variable t to be evaluated at t=pi later\n",
    "dt = Parameter('t')\n",
    "\n",
    "# Convert custom quantum circuit into a gate\n",
    "trot_gate = trotter_gate(dt)\n",
    "\n",
    "# initial layout\n",
    "initial_layout = [5,3,1]"
   ]
  },
  {
   "cell_type": "markdown",
   "id": "5646956e",
   "metadata": {},
   "source": [
    "# Prepare Circuits\n",
    "\n",
    "logical circuits = little endian\n",
    "name: lq = logical qubits "
   ]
  },
  {
   "cell_type": "code",
   "execution_count": 8,
   "id": "c905314f",
   "metadata": {},
   "outputs": [
    {
     "name": "stdout",
     "output_type": "stream",
     "text": [
      "trotter step:  100\n"
     ]
    }
   ],
   "source": [
    "# Number of trotter steps\n",
    "num_steps = 100\n",
    "\n",
    "print(\"trotter step: \", num_steps)\n",
    "# Initialize quantum circuit for 3 qubits\n",
    "qr = QuantumRegister(num_qubits, name=\"q\")\n",
    "qc = QuantumCircuit(qr)\n",
    "\n",
    "# Prepare initial state (remember we are only evolving 3 of the 7 qubits on jakarta qubits (q_5, q_3, q_1) corresponding to the state |110>)\n",
    "make_initial_state(qc, \"110\")  # DO NOT MODIFY (|q_5,q_3,q_1> = |110>)\n",
    "\n",
    "subspace_encoder_init110(qc, targets=[0, 1, 2]) # encode\n",
    "trotterize(qc, trot_gate, num_steps, targets=[1, 2]) # Simulate time evolution under H_heis3 Hamiltonian\n",
    "subspace_decoder(qc, targets=[0,1,2]) # decode"
   ]
  },
  {
   "cell_type": "code",
   "execution_count": 9,
   "id": "b368dda5",
   "metadata": {},
   "outputs": [
    {
     "name": "stdout",
     "output_type": "stream",
     "text": [
      "created qc, 0.04207941900000023 s\n",
      "created st_qcs (length: 27 ), 0.03407034700000011 s\n",
      "removed barriers from st_qcs, 2.5394904700000005 s\n",
      "created t3_st_qcs (length: 27 ), 21.241341043000006 s\n"
     ]
    }
   ],
   "source": [
    "# Evaluate simulation at target_time (t=pi) meaning each trotter step evolves pi/trotter_steps in time\n",
    "t1 = time.perf_counter()\n",
    "qc = qc.bind_parameters({dt: target_time / num_steps})\n",
    "t2 = time.perf_counter()\n",
    "print(\"created qc,\", t2 - t1, \"s\")\n",
    "\n",
    "# Generate state tomography circuits to evaluate fidelity of simulation\n",
    "t1 = time.perf_counter()\n",
    "st_qcs = state_tomography_circuits(qc, [0, 1, 2][::-1])  #! state tomography requires === BIG ENDIAN === \n",
    "t2 = time.perf_counter()\n",
    "print(\"created st_qcs (length:\", len(st_qcs), \"),\", t2 - t1, \"s\")\n",
    "\n",
    "# remove barriers\n",
    "t1 = time.perf_counter()\n",
    "st_qcs = [RemoveBarriers()(qc) for qc in st_qcs]\n",
    "t2 = time.perf_counter()\n",
    "print(\"removed barriers from st_qcs,\", t2 - t1, \"s\")\n",
    "\n",
    "# optimize circuit\n",
    "t1 = time.perf_counter()\n",
    "t3_st_qcs = transpile(st_qcs, optimization_level=3, basis_gates=[\"sx\", \"cx\", \"rz\"])\n",
    "t2 = time.perf_counter()\n",
    "print(\"created t3_st_qcs (length:\", len(t3_st_qcs), \"),\", t2 - t1, \"s\")"
   ]
  },
  {
   "cell_type": "code",
   "execution_count": 10,
   "id": "ab601941",
   "metadata": {},
   "outputs": [
    {
     "data": {
      "image/png": "[encoded data removed]",
      "text/plain": [
       "<Figure size 1591.6x565.88 with 1 Axes>"
      ]
     },
     "execution_count": 10,
     "metadata": {},
     "output_type": "execute_result"
    }
   ],
   "source": [
    "t3_st_qcs[0].draw(\"mpl\")"
   ]
  },
  {
   "cell_type": "code",
   "execution_count": 11,
   "id": "1e443618",
   "metadata": {},
   "outputs": [
    {
     "name": "stdout",
     "output_type": "stream",
     "text": [
      "created zne_qcs (length: 81 ), 16.405132784000003 s\n",
      "decomposed zne_qcs into basis gates (length: 81 ), 1.9144548459999982 s\n",
      "optimized zne_qcs -> create t3_zne_qcs (length: 81 ), 11.496133398999994 s\n",
      "fit the t3_zne_qcs to the initial layoit (length: 81 ), 0.5900471789999955 s\n"
     ]
    }
   ],
   "source": [
    "# zne wrapping\n",
    "t1 = time.perf_counter()\n",
    "zne_qcs = zne_wrapper(t3_st_qcs)\n",
    "t2 = time.perf_counter()\n",
    "print(\"created zne_qcs (length:\", len(zne_qcs), \"),\", t2 - t1, \"s\")\n",
    "\n",
    "t1 = time.perf_counter()\n",
    "zne_qcs = transpile(zne_qcs, optimization_level=0, basis_gates=[\"sx\", \"cx\", \"rz\"])\n",
    "t2 = time.perf_counter()\n",
    "print(\"decomposed zne_qcs into basis gates (length:\", len(zne_qcs), \"),\", t2 - t1, \"s\")\n",
    "\n",
    "t1 = time.perf_counter()\n",
    "t3_zne_qcs = transpile(zne_qcs, optimization_level=3, basis_gates=[\"sx\", \"cx\", \"rz\"])\n",
    "t2 = time.perf_counter()\n",
    "print(\"optimized zne_qcs -> create t3_zne_qcs (length:\", len(t3_zne_qcs), \"),\", t2 - t1, \"s\")\n",
    "\n",
    "t1 = time.perf_counter()\n",
    "t3_zne_qcs = transpile(t3_zne_qcs, optimization_level=0, basis_gates=[\"sx\", \"cx\", \"rz\"], initial_layout=initial_layout)\n",
    "t2 = time.perf_counter()\n",
    "print(\"fit the t3_zne_qcs to the initial layoit (length:\", len(t3_zne_qcs), \"),\", t2 - t1, \"s\")"
   ]
  },
  {
   "cell_type": "code",
   "execution_count": 12,
   "id": "3f2f5993",
   "metadata": {},
   "outputs": [
    {
     "data": {
      "image/png": "[encoded data removed]",
      "text/plain": [
       "<Figure size 1563.93x445.48 with 1 Axes>"
      ]
     },
     "execution_count": 12,
     "metadata": {},
     "output_type": "execute_result"
    }
   ],
   "source": [
    "t3_zne_qcs[-3].draw(\"mpl\")"
   ]
  },
  {
   "cell_type": "markdown",
   "id": "fc642fd9",
   "metadata": {},
   "source": [
    "# Set Backend"
   ]
  },
  {
   "cell_type": "code",
   "execution_count": 13,
   "id": "f7347fa4",
   "metadata": {},
   "outputs": [
    {
     "name": "stdout",
     "output_type": "stream",
     "text": [
      "provider: <AccountProvider for IBMQ(hub='ibm-q-community', group='ibmquantumawards', project='open-science-22')>\n"
     ]
    }
   ],
   "source": [
    "from qiskit.test.mock import FakeJakarta\n",
    "# backend = FakeJakarta()\n",
    "# backend = Aer.get_backend(\"qasm_simulator\")\n",
    "\n",
    "IBMQ.load_account()\n",
    "# provider = IBMQ.get_provider(hub='ibm-q-utokyo', group='internal', project='hirashi-jst')\n",
    "provider = IBMQ.get_provider(hub='ibm-q-community', group='ibmquantumawards', project='open-science-22')\n",
    "print(\"provider:\", provider)\n",
    "backend = provider.get_backend(\"ibmq_jakarta\")"
   ]
  },
  {
   "cell_type": "markdown",
   "id": "a28eaa5a",
   "metadata": {},
   "source": [
    "# Execute QREM Circuits"
   ]
  },
  {
   "cell_type": "code",
   "execution_count": 14,
   "id": "240bad4a",
   "metadata": {},
   "outputs": [
    {
     "name": "stdout",
     "output_type": "stream",
     "text": [
      "Job ID 6255a7a47ec04e3191b05eda\n"
     ]
    }
   ],
   "source": [
    "# QREM\n",
    "shots = 1 << 13\n",
    "qr = QuantumRegister(num_qubits)\n",
    "meas_calibs, state_labels = complete_meas_cal(qr=qr, circlabel='mcal')\n",
    "cal_job = execute(meas_calibs, backend=backend, shots=shots, optimization_level=3, initial_layout = initial_layout)\n",
    "print('Job ID', cal_job.job_id())"
   ]
  },
  {
   "cell_type": "markdown",
   "id": "c7f6dad0",
   "metadata": {},
   "source": [
    "# Execute Circuits"
   ]
  },
  {
   "cell_type": "code",
   "execution_count": 15,
   "id": "7f97085a",
   "metadata": {
    "scrolled": true
   },
   "outputs": [
    {
     "name": "stdout",
     "output_type": "stream",
     "text": [
      "Job ID 6255a7a78233e8e33dad1bcb\n",
      "Job ID 6255a7a9a21878642f6482db\n",
      "Job ID 6255a7aba2187841ec6482dc\n",
      "Job ID 6255a7aebca2b992c777be51\n",
      "Job ID 6255a7b0d8e31ae0fc8b4dea\n",
      "Job ID 6255a7b3d66fd6402aa9493f\n",
      "Job ID 6255a7b5d66fd65f26a94940\n",
      "Job ID 6255a7b83bfc76f2b3eac4ff\n"
     ]
    }
   ],
   "source": [
    "shots = 1 << 13\n",
    "reps = 8 # unused\n",
    "jobs = []\n",
    "for _ in range(reps):\n",
    "    job = execute(t3_zne_qcs, backend, shots=shots, optimization_level = 0) # 毎回チェック: ここちゃんと変えた？\n",
    "    print('Job ID', job.job_id())\n",
    "    jobs.append(job)"
   ]
  },
  {
   "cell_type": "code",
   "execution_count": 16,
   "id": "2ebd2c7d",
   "metadata": {},
   "outputs": [
    {
     "name": "stdout",
     "output_type": "stream",
     "text": [
      "2022-04-13 01:24:25.403860\n"
     ]
    }
   ],
   "source": [
    "dt_now = datetime.datetime.now()\n",
    "print(dt_now)"
   ]
  },
  {
   "cell_type": "code",
   "execution_count": 17,
   "id": "c09b541a",
   "metadata": {},
   "outputs": [
    {
     "name": "stderr",
     "output_type": "stream",
     "text": [
      "/var/folders/vr/d82vcp297v78vk4sb0_nzzdc0000gn/T/ipykernel_38250/1980726029.py:3: DeprecationWarning: The `backends` provider attribute is deprecated. Please use `provider.backend` (singular) instead. You can continue to use `provider.backends()` to retrieve all backends.\n",
      "  pickle.dump({\"jobs\": jobs, \"cal_job\": cal_job}, f)\n"
     ]
    }
   ],
   "source": [
    "import pickle\n",
    "with open(\"jobs_jakarta_100step_\" + dt_now.strftime('%Y%m%d_%H%M%S') + \"_.pkl\", \"wb\") as f:\n",
    "    pickle.dump({\"jobs\": jobs, \"cal_job\": cal_job}, f)"
   ]
  },
  {
   "cell_type": "code",
   "execution_count": 18,
   "id": "ca2b9b0e",
   "metadata": {},
   "outputs": [],
   "source": [
    "with open(\"job_ids_jakarta_100step_\" + dt_now.strftime('%Y%m%d_%H%M%S') + \"_.pkl\", \"wb\") as f:\n",
    "    pickle.dump({\"job_ids\": [job.job_id() for job in jobs], \"cal_job_id\": cal_job.job_id()}, f)"
   ]
  },
  {
   "cell_type": "code",
   "execution_count": 19,
   "id": "29571fae",
   "metadata": {},
   "outputs": [],
   "source": [
    "with open(\"properties_jakarta\" + dt_now.strftime('%Y%m%d_%H%M%S') + \"_.pkl\", \"wb\") as f:\n",
    "    pickle.dump(backend.properties(), f)"
   ]
  },
  {
   "cell_type": "markdown",
   "id": "d124c85e",
   "metadata": {},
   "source": [
    "#  Post Processing Start from Here ========================="
   ]
  },
  {
   "cell_type": "code",
   "execution_count": 13,
   "id": "52e27c80",
   "metadata": {},
   "outputs": [],
   "source": [
    "cal_results = cal_job.result()\n",
    "meas_fitter = CompleteMeasFitter(cal_results, state_labels, circlabel='mcal')"
   ]
  },
  {
   "cell_type": "code",
   "execution_count": 14,
   "id": "54875158",
   "metadata": {},
   "outputs": [],
   "source": [
    "mit_results = meas_fitter.filter.apply(job.result())"
   ]
  },
  {
   "cell_type": "code",
   "execution_count": 15,
   "id": "016b8e45",
   "metadata": {},
   "outputs": [],
   "source": [
    "zne_expvals = zne_decoder(num_qubits, mit_results)"
   ]
  },
  {
   "cell_type": "markdown",
   "id": "404fed71",
   "metadata": {},
   "source": [
    "# State Tomography"
   ]
  },
  {
   "cell_type": "code",
   "execution_count": 50,
   "id": "32d731d2",
   "metadata": {},
   "outputs": [],
   "source": [
    "target_state = (One^One^Zero).to_matrix() # DO NOT CHANGE!!!"
   ]
  },
  {
   "cell_type": "code",
   "execution_count": 48,
   "id": "7ecf1abc",
   "metadata": {},
   "outputs": [],
   "source": [
    "rho = expvals_to_valid_rho(num_qubits, zne_expvals)"
   ]
  },
  {
   "cell_type": "code",
   "execution_count": 51,
   "id": "81bdc7bb",
   "metadata": {},
   "outputs": [
    {
     "data": {
      "text/plain": [
       "0.931775231067305"
      ]
     },
     "execution_count": 51,
     "metadata": {},
     "output_type": "execute_result"
    }
   ],
   "source": [
    "fidelity = state_fidelity(rho, target_state)\n",
    "print(fidelity)"
   ]
  }
 ],
 "metadata": {
  "kernelspec": {
   "display_name": "Python 3 (ipykernel)",
   "language": "python",
   "name": "python3"
  },
  "language_info": {
   "codemirror_mode": {
    "name": "ipython",
    "version": 3
   },
   "file_extension": ".py",
   "mimetype": "text/x-python",
   "name": "python",
   "nbconvert_exporter": "python",
   "pygments_lexer": "ipython3",
   "version": "3.9.7"
  },
  "widgets": {
   "application/vnd.jupyter.widget-state+json": {
    "state": {},
    "version_major": 2,
    "version_minor": 0
   }
  }
 },
 "nbformat": 4,
 "nbformat_minor": 5
}
