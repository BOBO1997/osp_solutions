{
 "cells": [
  {
   "cell_type": "code",
   "execution_count": 1,
   "id": "c4eead85",
   "metadata": {},
   "outputs": [],
   "source": [
    "filename = \"job_ids_jakarta_100step_20220412_030333_.pkl\""
   ]
  },
  {
   "cell_type": "code",
   "execution_count": 3,
   "id": "3953cefb",
   "metadata": {},
   "outputs": [
    {
     "name": "stdout",
     "output_type": "stream",
     "text": [
      "{'job_ids': ['62546d5d434999832c770b61', '62546d60d66fd659e0a944e4', '62546d63de7fc62d46c20b43', '62546d66d7294bd93f9f0fdc', '62546d69d66fd6390fa944e6', '62546d6cd8e31ac6b88b49a8', '62546d70d8e31ad72f8b49a9', '62546d733bfc7696ddeac09a'], 'cal_job_id': '62546d59de7fc6329fc20b42'}\n"
     ]
    }
   ],
   "source": [
    "import pickle\n",
    "with open(filename, \"rb\") as f:\n",
    "    print(pickle.load(f))"
   ]
  },
  {
   "cell_type": "code",
   "execution_count": 4,
   "id": "a7636aeb",
   "metadata": {},
   "outputs": [],
   "source": [
    "filename = \"job_ids_jakarta_100step_20220413_012425_.pkl\""
   ]
  },
  {
   "cell_type": "code",
   "execution_count": 5,
   "id": "9cf502de",
   "metadata": {},
   "outputs": [
    {
     "name": "stdout",
     "output_type": "stream",
     "text": [
      "{'job_ids': ['6255a7a78233e8e33dad1bcb', '6255a7a9a21878642f6482db', '6255a7aba2187841ec6482dc', '6255a7aebca2b992c777be51', '6255a7b0d8e31ae0fc8b4dea', '6255a7b3d66fd6402aa9493f', '6255a7b5d66fd65f26a94940', '6255a7b83bfc76f2b3eac4ff'], 'cal_job_id': '6255a7a47ec04e3191b05eda'}\n"
     ]
    }
   ],
   "source": [
    "with open(filename, \"rb\") as f:\n",
    "    print(pickle.load(f))"
   ]
  },
  {
   "cell_type": "code",
   "execution_count": null,
   "id": "6c7d22c0",
   "metadata": {},
   "outputs": [],
   "source": []
  }
 ],
 "metadata": {
  "kernelspec": {
   "display_name": "Python 3 (ipykernel)",
   "language": "python",
   "name": "python3"
  },
  "language_info": {
   "codemirror_mode": {
    "name": "ipython",
    "version": 3
   },
   "file_extension": ".py",
   "mimetype": "text/x-python",
   "name": "python",
   "nbconvert_exporter": "python",
   "pygments_lexer": "ipython3",
   "version": "3.9.7"
  }
 },
 "nbformat": 4,
 "nbformat_minor": 5
}
