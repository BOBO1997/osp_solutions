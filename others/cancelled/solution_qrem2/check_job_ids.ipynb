{
 "cells": [
  {
   "cell_type": "code",
   "execution_count": 1,
   "id": "c4eead85",
   "metadata": {},
   "outputs": [],
   "source": [
    "filename = \"job_ids_jakarta_100step_20220412_172743_.pkl\""
   ]
  },
  {
   "cell_type": "code",
   "execution_count": 2,
   "id": "3953cefb",
   "metadata": {},
   "outputs": [
    {
     "name": "stdout",
     "output_type": "stream",
     "text": [
      "{'job_ids': ['625537e58233e85b09ad1a37', '625537e88b86e92685c0d165', '625537f2bca2b9004477bcc6', '625537f542d2a403cf7d40d5', '625537f8d66fd6d501a947e7', '625537fad8e31a84978b4c7f', '625537fcd66fd68340a947e8', '625537ff7ec04eb592b05d79'], 'cal_job_id': '625537e2bca2b972ef77bcc5'}\n"
     ]
    }
   ],
   "source": [
    "import pickle\n",
    "with open(filename, \"rb\") as f:\n",
    "    print(pickle.load(f))"
   ]
  },
  {
   "cell_type": "code",
   "execution_count": null,
   "id": "6c7d22c0",
   "metadata": {},
   "outputs": [],
   "source": []
  }
 ],
 "metadata": {
  "kernelspec": {
   "display_name": "Python 3 (ipykernel)",
   "language": "python",
   "name": "python3"
  },
  "language_info": {
   "codemirror_mode": {
    "name": "ipython",
    "version": 3
   },
   "file_extension": ".py",
   "mimetype": "text/x-python",
   "name": "python",
   "nbconvert_exporter": "python",
   "pygments_lexer": "ipython3",
   "version": "3.9.7"
  }
 },
 "nbformat": 4,
 "nbformat_minor": 5
}
