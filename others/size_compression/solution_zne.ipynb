{
 "cells": [
  {
   "cell_type": "markdown",
   "id": "7f7b7f17",
   "metadata": {},
   "source": [
    "# Test Trotterization on FakeJakarta with QREM and ZNE\n",
    "\n",
    "- Status: Incomplete"
   ]
  },
  {
   "cell_type": "markdown",
   "id": "2479c61b",
   "metadata": {},
   "source": [
    "# Import Libiraries"
   ]
  },
  {
   "cell_type": "code",
   "execution_count": 96,
   "id": "6c48acd1",
   "metadata": {},
   "outputs": [],
   "source": [
    "import copy\n",
    "import heapq\n",
    "from heapq import heappush, heappop\n",
    "import numpy as np\n",
    "import matplotlib.pyplot as plt\n",
    "import itertools\n",
    "from pprint import pprint\n",
    "plt.rcParams.update({'font.size': 16})  # enlarge matplotlib fonts"
   ]
  },
  {
   "cell_type": "code",
   "execution_count": 2,
   "id": "d2b9e40b",
   "metadata": {},
   "outputs": [],
   "source": [
    "# Import qubit states Zero (|0>) and One (|1>), and Pauli operators (X, Y, Z)\n",
    "from qiskit.opflow import Zero, One, I, X, Y, Z\n",
    "from qiskit import QuantumCircuit, QuantumRegister, IBMQ, execute, transpile, Aer\n",
    "from qiskit.providers.aer import QasmSimulator\n",
    "from qiskit.tools.monitor import job_monitor\n",
    "from qiskit.circuit import Parameter\n",
    "from qiskit.transpiler.passes import RemoveBarriers"
   ]
  },
  {
   "cell_type": "code",
   "execution_count": 53,
   "id": "c96c5a8c",
   "metadata": {},
   "outputs": [],
   "source": [
    "# Import QREM package\n",
    "from qiskit.ignis.mitigation.measurement import complete_meas_cal, CompleteMeasFitter\n",
    "from qiskit.ignis.mitigation import expectation_value\n",
    "from qiskit.quantum_info import DensityMatrix\n",
    "from qiskit.quantum_info.operators.predicates import is_hermitian_matrix\n",
    "from qiskit.quantum_info.operators.predicates import is_positive_semidefinite_matrix"
   ]
  },
  {
   "cell_type": "code",
   "execution_count": 4,
   "id": "021cc2b7",
   "metadata": {},
   "outputs": [],
   "source": [
    "# Import mitiq for zne\n",
    "import mitiq"
   ]
  },
  {
   "cell_type": "code",
   "execution_count": 5,
   "id": "384a1073",
   "metadata": {},
   "outputs": [],
   "source": [
    "# Import state tomography modules\n",
    "from qiskit.ignis.verification.tomography import state_tomography_circuits, StateTomographyFitter\n",
    "from qiskit.quantum_info import state_fidelity"
   ]
  },
  {
   "cell_type": "code",
   "execution_count": 6,
   "id": "5bc6e3c4",
   "metadata": {},
   "outputs": [],
   "source": [
    "# Suppress warnings\n",
    "import warnings\n",
    "warnings.filterwarnings('ignore')"
   ]
  },
  {
   "cell_type": "markdown",
   "id": "1994c600",
   "metadata": {},
   "source": [
    "# Trotter Gate"
   ]
  },
  {
   "cell_type": "code",
   "execution_count": 7,
   "id": "eb54d1d5",
   "metadata": {},
   "outputs": [],
   "source": [
    "def trotter_gate(dt, to_instruction = True):\n",
    "    qc = QuantumCircuit(2)\n",
    "    qc.rx(2 * dt, 0)\n",
    "    qc.rz(2 * dt, 1)\n",
    "    qc.h(1)\n",
    "    qc.cx(1, 0)\n",
    "    qc.rz(-2 * dt, 0)\n",
    "    qc.rx(-2 * dt, 1)\n",
    "    qc.rz(2 * dt, 1)\n",
    "    qc.cx(1, 0)\n",
    "    qc.h(1)\n",
    "    qc.rz(2 * dt, 0)\n",
    "    return qc.to_instruction() if to_instruction else qc"
   ]
  },
  {
   "cell_type": "markdown",
   "id": "b2e42c7d",
   "metadata": {},
   "source": [
    "# Initial State Function"
   ]
  },
  {
   "cell_type": "code",
   "execution_count": 8,
   "id": "716bd2c1",
   "metadata": {},
   "outputs": [],
   "source": [
    "def make_initial_state(qc, initial_state):\n",
    "    \"\"\"\n",
    "    logical qubit index\n",
    "    little endian\n",
    "    \"\"\"\n",
    "    for i, state in enumerate(initial_state):\n",
    "        if state == \"1\":\n",
    "            qc.x(i)"
   ]
  },
  {
   "cell_type": "markdown",
   "id": "82a64e6f",
   "metadata": {},
   "source": [
    "# エンコーダとデコーダ\n",
    "\n",
    "論理|q_0, q_1, q_2>を、論理|q_1, q_2>にエンコード\n",
    "\n",
    "エンコードするときに、q_0が1を保っていれば、デコードの際にcnotが1個減らせる？？→嘘"
   ]
  },
  {
   "cell_type": "code",
   "execution_count": 9,
   "id": "4eadd934",
   "metadata": {},
   "outputs": [],
   "source": [
    "def subspace_encoder(qc, targets):\n",
    "    \"\"\"\n",
    "    naive method, can be optimized for init state |110>\n",
    "    little endian\n",
    "    \"\"\"\n",
    "    n = qc.num_qubits\n",
    "    qc.cx(targets[2],targets[1])\n",
    "    qc.cx(targets[1],targets[0])"
   ]
  },
  {
   "cell_type": "code",
   "execution_count": 10,
   "id": "8b0953a7",
   "metadata": {},
   "outputs": [],
   "source": [
    "def subspace_encoder_init110(qc, targets):\n",
    "    \"\"\"\n",
    "    optimized encoder for init state |110>\n",
    "    endian: |q_0, q_1, q_2> (little endian)\n",
    "    encode |110> to |0>|10>\n",
    "    \"\"\"\n",
    "    n = qc.num_qubits\n",
    "    qc.x(targets[0])"
   ]
  },
  {
   "cell_type": "code",
   "execution_count": 11,
   "id": "cc55290b",
   "metadata": {},
   "outputs": [],
   "source": [
    "def subspace_decoder(qc, targets):\n",
    "    \"\"\"\n",
    "    naive method\n",
    "    little endian\n",
    "    \"\"\"\n",
    "    n = qc.num_qubits\n",
    "    qc.cx(targets[1], targets[0])\n",
    "    qc.cx(targets[2], targets[1])"
   ]
  },
  {
   "cell_type": "markdown",
   "id": "27bfae4e",
   "metadata": {},
   "source": [
    "# Trotterization Function"
   ]
  },
  {
   "cell_type": "code",
   "execution_count": 12,
   "id": "0dd46a49",
   "metadata": {},
   "outputs": [],
   "source": [
    "def trotterize(qc, trot_gate, num_steps, targets):\n",
    "    for _ in range(num_steps):\n",
    "        qc.append(trot_gate, qargs = targets)"
   ]
  },
  {
   "cell_type": "markdown",
   "id": "eec95548",
   "metadata": {},
   "source": [
    "# ZNE Functions"
   ]
  },
  {
   "cell_type": "code",
   "execution_count": 13,
   "id": "7d28892b",
   "metadata": {},
   "outputs": [],
   "source": [
    "def zne_wrapper(qcs, scale_factors = [1.0, 2.0, 3.0]):\n",
    "    \"\"\"\n",
    "    outputs the circuit list for zero noise extrapolation\n",
    "    WITHOUT Pauli twirling\n",
    "    \"\"\"\n",
    "    folded_qcs = [] #! ZNE用の回路\n",
    "    for qc in qcs:\n",
    "        folded_qcs.append([mitiq.zne.scaling.fold_gates_at_random(qc, scale) for scale in scale_factors]) #! ここでmitiqを使用\n",
    "    folded_qcs = list(itertools.chain(*folded_qcs)) #! folded_qcsを平坦化\n",
    "    return folded_qcs"
   ]
  },
  {
   "cell_type": "code",
   "execution_count": 14,
   "id": "cfea30c3",
   "metadata": {},
   "outputs": [],
   "source": [
    "def make_stf_basis(n, basis_elements = [\"X\",\"Y\",\"Z\"]):\n",
    "    if n == 1:\n",
    "        return basis_elements\n",
    "    basis = []\n",
    "    for i in basis_elements:\n",
    "        sub_basis = make_stf_basis(n - 1, basis_elements)\n",
    "        basis += [i + j for j in sub_basis]\n",
    "    return basis"
   ]
  },
  {
   "cell_type": "code",
   "execution_count": 15,
   "id": "254a352d",
   "metadata": {},
   "outputs": [],
   "source": [
    "def reduce_hist(hist, poses):\n",
    "    n = len(poses)\n",
    "    ret_hist = {format(i, \"0\" + str(n) + \"b\"): 0 for i in range(1 << n)}\n",
    "    for k, v in hist.items():\n",
    "        pos = \"\"\n",
    "        for i in range(n):\n",
    "            pos += k[poses[i]]\n",
    "        ret_hist[pos] += v\n",
    "    return ret_hist"
   ]
  },
  {
   "cell_type": "code",
   "execution_count": 44,
   "id": "724dcfc8",
   "metadata": {},
   "outputs": [],
   "source": [
    "def make_stf_expvals(n, stf_hists):\n",
    "    assert len(stf_hists) == 3 ** n\n",
    "    stf_basis = make_stf_basis(n, basis_elements=[\"X\",\"Y\",\"Z\"])\n",
    "    st_basis = make_stf_basis(n, basis_elements=[\"I\",\"X\",\"Y\",\"Z\"])\n",
    "    \n",
    "    stf_hists_dict = {basis: hist for basis, hist in zip(stf_basis, stf_hists)}\n",
    "    st_hists_dict = {basis: stf_hists_dict.get(basis, None) for basis in st_basis}\n",
    "    \n",
    "    # remaining\n",
    "    for basis in sorted(set(st_basis) - set(stf_basis)):\n",
    "        if basis == \"I\" * n:\n",
    "            continue\n",
    "        reduction_poses = []\n",
    "        reduction_basis = \"\"\n",
    "        for i, b in enumerate(basis):\n",
    "            if b != \"I\":\n",
    "                reduction_poses.append(n - 1 - i) # big endian \n",
    "                reduction_basis += b # こっちはそのまま(なぜならラベルはlittle endianだから)\n",
    "            else:\n",
    "                reduction_basis += \"Z\"\n",
    "        \n",
    "        st_hists_dict[basis] = reduce_hist(stf_hists_dict[reduction_basis], reduction_poses)\n",
    "    \n",
    "    st_expvals = dict()\n",
    "    for basis, hist in st_hists_dict.items():\n",
    "        if basis == \"I\" * n:\n",
    "            st_expvals[basis] = 1.0\n",
    "            continue\n",
    "        st_expvals[basis], _ = expectation_value(hist)\n",
    "    return st_expvals"
   ]
  },
  {
   "cell_type": "code",
   "execution_count": 45,
   "id": "65228212",
   "metadata": {},
   "outputs": [],
   "source": [
    "def zne_decoder(n, result, scale_factors=[1.0, 2.0, 3.0]):\n",
    "    \n",
    "    hists = result.get_counts()\n",
    "    num_scale_factors = len(scale_factors)\n",
    "    assert len(hists) % num_scale_factors == 0\n",
    "    scale_wise_expvals = [] # num_scale_factors * 64\n",
    "    for i in range(num_scale_factors):\n",
    "        scale_wise_hists = [hists[3 * j + i] for j in range(len(hists) // num_scale_factors)]\n",
    "        st_expvals = make_stf_expvals(n, scale_wise_hists)\n",
    "        scale_wise_expvals.append( list(st_expvals.values()) )\n",
    "    \n",
    "    scale_wise_expvals = np.array(scale_wise_expvals)\n",
    "    \n",
    "    fac = mitiq.zne.inference.LinearFactory(scale_factors)\n",
    "    zne_expvals = []\n",
    "    for i in range(4 ** n):\n",
    "        zne_expvals.append( fac.extrapolate(scale_factors, scale_wise_expvals[:, i]) )\n",
    "        # or we can use the following exp factory\n",
    "        # zne.ExpFactory.extrapolate(scale_factors, expectation_values)\n",
    "    \n",
    "    return zne_expvals"
   ]
  },
  {
   "cell_type": "markdown",
   "id": "2b869090",
   "metadata": {},
   "source": [
    "# Set Parameters"
   ]
  },
  {
   "cell_type": "code",
   "execution_count": 18,
   "id": "afcf68d8",
   "metadata": {},
   "outputs": [],
   "source": [
    "# Combine subcircuits into a single multiqubit gate representing a single trotter step\n",
    "num_qubits = 3\n",
    "\n",
    "# The final time of the state evolution\n",
    "target_time = np.pi\n",
    "\n",
    "# Parameterize variable t to be evaluated at t=pi later\n",
    "dt = Parameter('t')\n",
    "\n",
    "# Convert custom quantum circuit into a gate\n",
    "trot_gate = trotter_gate(dt)\n",
    "\n",
    "# initial layout\n",
    "initial_layout = [5,3,1]"
   ]
  },
  {
   "cell_type": "markdown",
   "id": "5646956e",
   "metadata": {},
   "source": [
    "# Prepare Circuits\n",
    "\n",
    "logical circuits = little endian\n",
    "name: lq = logical qubits "
   ]
  },
  {
   "cell_type": "code",
   "execution_count": 19,
   "id": "c905314f",
   "metadata": {},
   "outputs": [
    {
     "name": "stdout",
     "output_type": "stream",
     "text": [
      "trotter step:  15\n",
      "created qc\n",
      "created st_qcs (length: 27 )\n",
      "removed barriers from st_qcs\n",
      "created t3_st_qcs (length: 27 )\n",
      "created zne_qcs (length: 81 )\n",
      "created t3_zne_qcs (length: 81 )\n"
     ]
    }
   ],
   "source": [
    "# Number of trotter steps\n",
    "num_steps = 15\n",
    "\n",
    "print(\"trotter step: \", num_steps)\n",
    "# Initialize quantum circuit for 3 qubits\n",
    "qr = QuantumRegister(num_qubits, name=\"lq\")\n",
    "qc = QuantumCircuit(qr)\n",
    "\n",
    "# Prepare initial state (remember we are only evolving 3 of the 7 qubits on jakarta qubits (q_5, q_3, q_1) corresponding to the state |110>)\n",
    "make_initial_state(qc, \"110\")  # DO NOT MODIFY (|q_5,q_3,q_1> = |110>)\n",
    "\n",
    "subspace_encoder_init110(qc, targets=[0, 1, 2]) # encode\n",
    "trotterize(qc, trot_gate, num_steps, targets=[1, 2]) # Simulate time evolution under H_heis3 Hamiltonian\n",
    "subspace_decoder(qc, targets=[0,1,2]) # decode\n",
    "\n",
    "# Evaluate simulation at target_time (t=pi) meaning each trotter step evolves pi/trotter_steps in time\n",
    "qc = qc.bind_parameters({dt: target_time / num_steps})\n",
    "print(\"created qc\")\n",
    "\n",
    "# Generate state tomography circuits to evaluate fidelity of simulation\n",
    "st_qcs = state_tomography_circuits(qc, [0, 1, 2][::-1])  #! state tomography requires === BIG ENDIAN === \n",
    "print(\"created st_qcs (length:\", len(st_qcs), \")\")\n",
    "\n",
    "# remove barriers\n",
    "st_qcs = [RemoveBarriers()(qc) for qc in st_qcs]\n",
    "print(\"removed barriers from st_qcs\")\n",
    "\n",
    "# optimize circuit\n",
    "t3_st_qcs = transpile(st_qcs, optimization_level=3, basis_gates=[\"sx\", \"cx\", \"rz\"])\n",
    "print(\"created t3_st_qcs (length:\", len(t3_st_qcs), \")\")\n",
    "\n",
    "# zne wrapping\n",
    "zne_qcs = zne_wrapper(t3_st_qcs)\n",
    "print(\"created zne_qcs (length:\", len(zne_qcs), \")\")\n",
    "\n",
    "t3_zne_qcs = transpile(zne_qcs, optimization_level=0, basis_gates=[\"sx\", \"cx\", \"rz\"], initial_layout=initial_layout)\n",
    "print(\"created t3_zne_qcs (length:\", len(t3_zne_qcs), \")\")"
   ]
  },
  {
   "cell_type": "code",
   "execution_count": 20,
   "id": "f4326183",
   "metadata": {},
   "outputs": [
    {
     "data": {
      "image/png": "[encoded data removed]",
      "text/plain": [
       "<Figure size 1383.33x445.48 with 1 Axes>"
      ]
     },
     "execution_count": 20,
     "metadata": {},
     "output_type": "execute_result"
    }
   ],
   "source": [
    "t3_zne_qcs[-3].draw(\"mpl\")"
   ]
  },
  {
   "cell_type": "markdown",
   "id": "fc642fd9",
   "metadata": {},
   "source": [
    "# Set Backend"
   ]
  },
  {
   "cell_type": "code",
   "execution_count": 21,
   "id": "f7347fa4",
   "metadata": {},
   "outputs": [],
   "source": [
    "from qiskit.test.mock import FakeJakarta\n",
    "backend = FakeJakarta()\n",
    "# backend = Aer.get_backend(\"qasm_simulator\")\n",
    "\n",
    "# IBMQ.load_account()\n",
    "# provider = IBMQ.get_provider(hub='ibm-q-utokyo', group='internal', project='hirashi-jst')\n",
    "# provider = IBMQ.get_provider(hub='ibm-q-community', group='ibmquantumawards', project='open-science-22')\n",
    "# print(\"provider:\", provider)\n",
    "# backend = provider.get_backend(\"ibmq_jakarta\")"
   ]
  },
  {
   "cell_type": "markdown",
   "id": "c7f6dad0",
   "metadata": {},
   "source": [
    "# Execute Circuits"
   ]
  },
  {
   "cell_type": "code",
   "execution_count": 31,
   "id": "7f97085a",
   "metadata": {
    "scrolled": true
   },
   "outputs": [
    {
     "name": "stdout",
     "output_type": "stream",
     "text": [
      "trotter step:  15\n",
      "Job ID 9a9147f0-59cb-4458-9182-b48f0bcc5c26\n"
     ]
    }
   ],
   "source": [
    "shots = 1 << 13\n",
    "reps = 1 # unused\n",
    "# Number of trotter steps\n",
    "print(\"trotter step: \", num_steps)\n",
    "# execute: reps = 1\n",
    "job = execute(t3_zne_qcs, backend, shots=shots) # 毎回チェック: ここちゃんと変えた？\n",
    "print('Job ID', job.job_id())"
   ]
  },
  {
   "cell_type": "markdown",
   "id": "a28eaa5a",
   "metadata": {},
   "source": [
    "# QREM"
   ]
  },
  {
   "cell_type": "code",
   "execution_count": 23,
   "id": "240bad4a",
   "metadata": {},
   "outputs": [
    {
     "name": "stdout",
     "output_type": "stream",
     "text": [
      "Job ID f79d9378-8ed5-40c4-a9b1-1d3bf3333349\n"
     ]
    }
   ],
   "source": [
    "# QREM\n",
    "qr = QuantumRegister(num_qubits)\n",
    "meas_calibs, state_labels = complete_meas_cal(qr=qr, circlabel='mcal')\n",
    "cal_job = execute(meas_calibs, backend=backend, shots=shots, optimization_level=3, initial_layout = initial_layout)\n",
    "print('Job ID', cal_job.job_id())"
   ]
  },
  {
   "cell_type": "code",
   "execution_count": 24,
   "id": "52e27c80",
   "metadata": {},
   "outputs": [],
   "source": [
    "cal_results = cal_job.result()\n",
    "meas_fitter = CompleteMeasFitter(cal_results, state_labels, circlabel='mcal')"
   ]
  },
  {
   "cell_type": "code",
   "execution_count": 32,
   "id": "b2d5cd62",
   "metadata": {},
   "outputs": [],
   "source": [
    "mit_results = meas_fitter.filter.apply(job.result())"
   ]
  },
  {
   "cell_type": "code",
   "execution_count": 46,
   "id": "57969114",
   "metadata": {},
   "outputs": [],
   "source": [
    "zne_expvals = zne_decoder(num_qubits, mit_results)"
   ]
  },
  {
   "cell_type": "markdown",
   "id": "404fed71",
   "metadata": {},
   "source": [
    "# State Tomography"
   ]
  },
  {
   "cell_type": "markdown",
   "id": "8f6fc5b3",
   "metadata": {},
   "source": [
    "# 密度行列を自分で再構築\n",
    "\n",
    "$$\\rho=\\sum_{\\vec{v}} \\frac{\\operatorname{tr}\\left(\\sigma_{v_{1}} \\otimes \\sigma_{v_{2}} \\otimes \\cdots \\otimes \\sigma_{v_{n}} \\rho\\right) \\sigma_{v_{1}} \\otimes \\sigma_{v_{2}} \\otimes \\cdots \\otimes \\sigma_{v_{n}}}{2^{n}}$$"
   ]
  },
  {
   "cell_type": "code",
   "execution_count": 48,
   "id": "00673adc",
   "metadata": {},
   "outputs": [],
   "source": [
    "def pauli_matrix(basis):\n",
    "    \"\"\"\n",
    "    リトルエンディアン\n",
    "    \"\"\"\n",
    "    matrix = np.ones(1, dtype=\"complex\")\n",
    "    for b in basis:\n",
    "        if b == \"I\":\n",
    "            matrix = np.kron(matrix, np.array([[1,0],\n",
    "                                               [0,1]], dtype=\"complex\"))\n",
    "        elif b == \"X\":\n",
    "            matrix = np.kron(matrix, np.array([[0,1],\n",
    "                                               [1,0]], dtype=\"complex\"))\n",
    "        elif b == \"Y\":\n",
    "            matrix = np.kron(matrix, np.array([[0,-1j],\n",
    "                                               [1j,0]], dtype=\"complex\"))\n",
    "        elif b == \"Z\":\n",
    "            matrix = np.kron(matrix, np.array([[1,0],\n",
    "                                               [0,-1]], dtype=\"complex\"))\n",
    "        else:\n",
    "            raise Exception\n",
    "    return matrix"
   ]
  },
  {
   "cell_type": "code",
   "execution_count": 51,
   "id": "2b45becd",
   "metadata": {},
   "outputs": [],
   "source": [
    "def reconstruct_density_matrix(n, expvals):\n",
    "    \"\"\"\n",
    "    エンディアンに注意\n",
    "    \"\"\"\n",
    "    st_basis = make_stf_basis(n, basis_elements=[\"I\",\"X\",\"Y\",\"Z\"])\n",
    "    rho = np.zeros((1 << n, 1 << n), dtype=\"complex\")\n",
    "    for expval, basis in zip(expvals, st_basis):\n",
    "        rho += expval * pauli_matrix(basis)\n",
    "    rho /= (1 << n)\n",
    "    return rho"
   ]
  },
  {
   "cell_type": "code",
   "execution_count": 89,
   "id": "370500b2",
   "metadata": {},
   "outputs": [],
   "source": [
    "class priority_queue(object):\n",
    "    \"\"\"\n",
    "    Priority queue wrapper which enables to compare the specific elements of container as keys.\n",
    "    \"\"\"\n",
    "\n",
    "    def __init__(self, key_index=0):\n",
    "        \"\"\"\n",
    "        Arguments\n",
    "            key_index: the index of elements as keys\n",
    "        \"\"\"\n",
    "        self.key = lambda item: item[key_index]\n",
    "        self.index = 0\n",
    "        self.data = []\n",
    "\n",
    "    def size(self):\n",
    "        \"\"\"\n",
    "        Return the size of heap\n",
    "        \"\"\"\n",
    "        return len(self.data)\n",
    "\n",
    "    def push(self, item):\n",
    "        \"\"\"\n",
    "        Push a container to heap list\n",
    "        \n",
    "        Arguments\n",
    "            item: container\n",
    "        \"\"\"\n",
    "        heapq.heappush(self.data, (self.key(item), self.index, item))\n",
    "        self.index += 1\n",
    "\n",
    "    def pop(self):\n",
    "        \"\"\"\n",
    "        Pop the smallest element of heap\n",
    "        \"\"\"\n",
    "        if len(self.data) > 0:\n",
    "            return heapq.heappop(self.data)[2]\n",
    "        else:\n",
    "            return None\n",
    "\n",
    "    def top(self):\n",
    "        \"\"\"\n",
    "        Refer the smallest element of heap\n",
    "        \"\"\"\n",
    "        if self.size() > 0:\n",
    "            return self.data[0][2]\n",
    "        else:\n",
    "            return None "
   ]
  },
  {
   "cell_type": "code",
   "execution_count": 107,
   "id": "db3d4e63",
   "metadata": {},
   "outputs": [],
   "source": [
    "def sgs_algorithm(x, make_sum_to_one = False):\n",
    "    \"\"\"\n",
    "    The negative cancellation algorithm by Smolin, Gambetta, and Smith.\n",
    "    O(NlogN) time, O(N) memory to the size of x: N\n",
    "    Arguments\n",
    "        x: sum 1 probability vecotor with negative values\n",
    "    Returns\n",
    "        x_tilde: physically correct probability vector\n",
    "    \"\"\"\n",
    "\n",
    "    # compute the number and the sum of negative values\n",
    "    pq = priority_queue(key_index=1)\n",
    "    sum_of_x = 0\n",
    "    negative_accumulator = 0\n",
    "\n",
    "    for state_idx in x:  # O(N) time\n",
    "        pq.push((state_idx, x[state_idx]))  # O(log(N)) time\n",
    "        sum_of_x += x[state_idx]\n",
    "\n",
    "    x_tilde = {}\n",
    "    while pq.size() > 0:  # O(N) time\n",
    "        state_idx, x_hat_i = pq.top()\n",
    "        if x_hat_i + negative_accumulator / pq.size() < 0:\n",
    "            negative_accumulator += x_hat_i\n",
    "            x_tilde[state_idx] = 0\n",
    "            _, _ = pq.pop()  # O(log(N)) time\n",
    "            continue\n",
    "        else:\n",
    "            break\n",
    "\n",
    "    denominator = pq.size()\n",
    "    while pq.size() > 0:  # O(N) time\n",
    "        state_idx, x_hat_i = pq.pop()  # O(log(N))\n",
    "        x_tilde[state_idx] = x_hat_i + negative_accumulator / denominator\n",
    "\n",
    "    return x_tilde"
   ]
  },
  {
   "cell_type": "code",
   "execution_count": 123,
   "id": "b98a58ca",
   "metadata": {},
   "outputs": [],
   "source": [
    "def fit_valid_rho(rho):\n",
    "    eigs, P = np.linalg.eig(rho)\n",
    "    eigs_dict = {i: eig for i, eig in enumerate(np.real(eigs))}\n",
    "    eigs_fit_dict = sgs_algorithm(eigs_dict)\n",
    "    eigs_fit = np.array(list(eigs_fit_dict.values()), dtype=\"complex\")[np.argsort(list(eigs_fit_dict.keys()))]\n",
    "    rho_fit = P @ np.diag(eigs_fit) @ P.T.conjugate()\n",
    "    return rho_fit"
   ]
  },
  {
   "cell_type": "code",
   "execution_count": 133,
   "id": "d13520f0",
   "metadata": {},
   "outputs": [],
   "source": [
    "def compute_fidelity(n, zne_expvals):\n",
    "    rho = reconstruct_density_matrix(n, zne_expvals)\n",
    "    rho_fit = fit_valid_rho(rho)\n",
    "    assert is_hermitian_matrix(rho_fit) and is_positive_semidefinite_matrix(rho_fit)\n",
    "    target_state = (One^One^Zero).to_matrix()\n",
    "    return state_fidelity(rho_fit, target_state)"
   ]
  },
  {
   "cell_type": "code",
   "execution_count": 134,
   "id": "2f4e0e79",
   "metadata": {},
   "outputs": [
    {
     "data": {
      "text/plain": [
       "0.906805848948996"
      ]
     },
     "execution_count": 134,
     "metadata": {},
     "output_type": "execute_result"
    }
   ],
   "source": [
    "compute_fidelity(num_qubits, zne_expvals)"
   ]
  },
  {
   "cell_type": "markdown",
   "id": "6e279e3d",
   "metadata": {},
   "source": [
    "# Compute Fidelity"
   ]
  },
  {
   "cell_type": "code",
   "execution_count": null,
   "id": "54110546",
   "metadata": {},
   "outputs": [],
   "source": [
    "# Compute tomography fidelities for each repetition\n",
    "raw_fids = []\n",
    "for result in results:\n",
    "    fid = state_tomo(result, st_qcs)\n",
    "    raw_fids.append(fid)\n",
    "    \n",
    "# print('state tomography fidelity = {:.4f} \\u00B1 {:.4f}'.format(np.mean(fids), np.std(fids)))"
   ]
  },
  {
   "cell_type": "code",
   "execution_count": null,
   "id": "80cc4549",
   "metadata": {},
   "outputs": [],
   "source": [
    "# Compute tomography fidelities for each repetition\n",
    "fids = []\n",
    "for result in mit_results:\n",
    "    fid = state_tomo(result, st_qcs)\n",
    "    fids.append(fid)\n",
    "    \n",
    "# print('state tomography fidelity = {:.4f} \\u00B1 {:.4f}'.format(np.mean(fids), np.std(fids)))"
   ]
  },
  {
   "cell_type": "markdown",
   "id": "98d53aca",
   "metadata": {},
   "source": [
    "# Plot Fidelity"
   ]
  },
  {
   "cell_type": "code",
   "execution_count": null,
   "id": "751723c2",
   "metadata": {},
   "outputs": [],
   "source": [
    "plt.clf()\n",
    "plt.style.use('ggplot')\n",
    "plt.figure(dpi=200)\n",
    "plt.title(\"state fidelity from Trotter step 1 to \"+str(trotter_steps))\n",
    "plt.plot(trotter_steps, raw_fids, label=\"raw fidelity\")\n",
    "plt.plot(trotter_steps, fids, label=\"fidelity after QREM\")\n",
    "plt.xlabel(\"number of trotter steps\")\n",
    "plt.ylabel(\"fidelity\")\n",
    "plt.grid(linestyle='dotted')"
   ]
  },
  {
   "cell_type": "code",
   "execution_count": null,
   "id": "2405b61e",
   "metadata": {},
   "outputs": [],
   "source": [
    "for step, fid in zip(trotter_steps, raw_fids):\n",
    "    print(step, fid)"
   ]
  },
  {
   "cell_type": "code",
   "execution_count": null,
   "id": "9b1fe17f",
   "metadata": {},
   "outputs": [],
   "source": [
    "for step, fid in zip(trotter_steps, fids):\n",
    "    print(step, fid)"
   ]
  }
 ],
 "metadata": {
  "kernelspec": {
   "display_name": "Python 3 (ipykernel)",
   "language": "python",
   "name": "python3"
  },
  "language_info": {
   "codemirror_mode": {
    "name": "ipython",
    "version": 3
   },
   "file_extension": ".py",
   "mimetype": "text/x-python",
   "name": "python",
   "nbconvert_exporter": "python",
   "pygments_lexer": "ipython3",
   "version": "3.9.7"
  },
  "widgets": {
   "application/vnd.jupyter.widget-state+json": {
    "state": {},
    "version_major": 2,
    "version_minor": 0
   }
  }
 },
 "nbformat": 4,
 "nbformat_minor": 5
}
