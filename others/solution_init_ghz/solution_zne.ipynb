{
 "cells": [
  {
   "cell_type": "markdown",
   "id": "7f7b7f17",
   "metadata": {},
   "source": [
    "# Test Trotterization on FakeJakarta with QREM and ZNE\n",
    "\n",
    "- Status: Incomplete"
   ]
  },
  {
   "cell_type": "markdown",
   "id": "2479c61b",
   "metadata": {},
   "source": [
    "# Import Libiraries"
   ]
  },
  {
   "cell_type": "code",
   "execution_count": 1,
   "id": "6c48acd1",
   "metadata": {},
   "outputs": [],
   "source": [
    "import numpy as np\n",
    "import matplotlib.pyplot as plt\n",
    "import itertools\n",
    "from pprint import pprint\n",
    "# plt.rcParams.update({'font.size': 16})  # enlarge matplotlib fonts"
   ]
  },
  {
   "cell_type": "code",
   "execution_count": 2,
   "id": "d2b9e40b",
   "metadata": {},
   "outputs": [],
   "source": [
    "# Import qubit states Zero (|0>) and One (|1>), and Pauli operators (X, Y, Z)\n",
    "from qiskit.opflow import Zero, One, I, X, Y, Z, CX, Plus\n",
    "from qiskit.opflow.state_fns.dict_state_fn import DictStateFn\n",
    "from qiskit import QuantumCircuit, QuantumRegister, IBMQ, execute, transpile, Aer\n",
    "from qiskit.tools.monitor import job_monitor\n",
    "from qiskit.circuit import Parameter\n",
    "from qiskit.transpiler.passes import RemoveBarriers"
   ]
  },
  {
   "cell_type": "code",
   "execution_count": 3,
   "id": "c96c5a8c",
   "metadata": {},
   "outputs": [
    {
     "name": "stderr",
     "output_type": "stream",
     "text": [
      "/var/folders/vr/d82vcp297v78vk4sb0_nzzdc0000gn/T/ipykernel_31770/3056705909.py:2: DeprecationWarning: The qiskit.ignis package is deprecated and has been supersceded by the qiskit-experiments project. Refer to the migration guide: https://github.com/Qiskit/qiskit-ignis#migration-guide on how to migrate to the new project.\n",
      "  from qiskit.ignis.mitigation.measurement import complete_meas_cal, CompleteMeasFitter\n"
     ]
    }
   ],
   "source": [
    "# Import QREM package\n",
    "from qiskit.ignis.mitigation.measurement import complete_meas_cal, CompleteMeasFitter\n",
    "from qiskit.ignis.mitigation import expectation_value"
   ]
  },
  {
   "cell_type": "code",
   "execution_count": 4,
   "id": "021cc2b7",
   "metadata": {},
   "outputs": [],
   "source": [
    "# Import mitiq for zne\n",
    "import mitiq"
   ]
  },
  {
   "cell_type": "code",
   "execution_count": 5,
   "id": "384a1073",
   "metadata": {},
   "outputs": [],
   "source": [
    "# Import state tomography modules\n",
    "from qiskit.ignis.verification.tomography import state_tomography_circuits\n",
    "from qiskit.quantum_info import state_fidelity"
   ]
  },
  {
   "cell_type": "markdown",
   "id": "5c7579af",
   "metadata": {},
   "source": [
    "# Import Libraries"
   ]
  },
  {
   "cell_type": "code",
   "execution_count": 6,
   "id": "823c2f2e",
   "metadata": {},
   "outputs": [],
   "source": [
    "import sys\n",
    "import importlib\n",
    "sys.path.append(\"./\")\n",
    "import circuit_utils, zne_utils, tomography_utils, sgs_algorithm\n",
    "importlib.reload(circuit_utils)\n",
    "importlib.reload(zne_utils)\n",
    "importlib.reload(tomography_utils)\n",
    "importlib.reload(sgs_algorithm)\n",
    "from circuit_utils import *\n",
    "from zne_utils import *\n",
    "from tomography_utils import *\n",
    "from sgs_algorithm import *"
   ]
  },
  {
   "cell_type": "markdown",
   "id": "d19ba81d",
   "metadata": {},
   "source": [
    "# Classical Simulation"
   ]
  },
  {
   "cell_type": "code",
   "execution_count": 7,
   "id": "b98d553f",
   "metadata": {},
   "outputs": [],
   "source": [
    "# Returns the matrix representation of the XXX Heisenberg model for 3 spin-1/2 particles in a line\n",
    "def H_heis3():\n",
    "    # Interactions (I is the identity matrix; X, Y, and Z are Pauli matricies; ^ is a tensor product)\n",
    "    XXs = (I^X^X) + (X^X^I)\n",
    "    YYs = (I^Y^Y) + (Y^Y^I)\n",
    "    ZZs = (I^Z^Z) + (Z^Z^I)\n",
    "    \n",
    "    # Sum interactions\n",
    "    H = XXs + YYs + ZZs\n",
    "    \n",
    "    # Return Hamiltonian\n",
    "    return H"
   ]
  },
  {
   "cell_type": "code",
   "execution_count": 8,
   "id": "3557e6e5",
   "metadata": {},
   "outputs": [],
   "source": [
    "# Returns the matrix representation of U_heis3(t) for a given time t assuming an XXX Heisenberg Hamiltonian for 3 spins-1/2 particles in a line\n",
    "def U_heis3(t):\n",
    "    # Compute XXX Hamiltonian for 3 spins in a line\n",
    "    H = H_heis3()\n",
    "    \n",
    "    # Return the exponential of -i multipled by time t multipled by the 3 spin XXX Heisenberg Hamilonian \n",
    "    return (t * H).exp_i()"
   ]
  },
  {
   "cell_type": "code",
   "execution_count": 36,
   "id": "2e7a2b5a",
   "metadata": {},
   "outputs": [
    {
     "data": {
      "image/png": "[encoded data removed]",
      "text/plain": [
       "<Figure size 432x288 with 1 Axes>"
      ]
     },
     "metadata": {
      "needs_background": "light"
     },
     "output_type": "display_data"
    }
   ],
   "source": [
    "# Define array of time points\n",
    "ts = np.linspace(0, np.pi, 100)\n",
    "\n",
    "# Define initial state |110>\n",
    "# initial_state = DictStateFn({\"000\": 1, \"111\": 1}, 1 / np.sqrt(2))\n",
    "initial_state = DictStateFn({\"000\": 0,\n",
    "                             \"001\": 0,\n",
    "                             \"010\": 1,\n",
    "                             \"011\": 0,\n",
    "                             \"100\": 0,\n",
    "                             \"101\": 0,\n",
    "                             \"110\": 1,\n",
    "                             \"111\": 0}, 1 / np.sqrt(2))\n",
    "\n",
    "# Compute probability of remaining in |110> state over the array of time points\n",
    " # ~initial_state gives the bra of the initial state (<110|)\n",
    " # @ is short hand for matrix multiplication\n",
    " # U_heis3(t) is the unitary time evolution at time t\n",
    " # t needs to be wrapped with float(t) to avoid a bug\n",
    " # (...).eval() returns the inner product <110|U_heis3(t)|110>\n",
    " #  np.abs(...)**2 is the modulus squared of the innner product which is the expectation value, or probability, of remaining in |110>\n",
    "probs_110 = [np.abs((~initial_state @ U_heis3(float(t)) @ initial_state).eval())**2 for t in ts]\n",
    "\n",
    "# Plot evolution of |110>\n",
    "plt.plot(ts, probs_110)\n",
    "plt.xlabel('time')\n",
    "plt.ylabel(r'probability of state $|010\\rangle + |110\\rangle$')\n",
    "plt.title(r'Evolution of state $|010\\rangle + |110\\rangle$ under $H_{Heis3}$')\n",
    "plt.grid()\n",
    "plt.show()"
   ]
  },
  {
   "cell_type": "markdown",
   "id": "2b869090",
   "metadata": {},
   "source": [
    "# Set Parameters"
   ]
  },
  {
   "cell_type": "code",
   "execution_count": 10,
   "id": "afcf68d8",
   "metadata": {},
   "outputs": [
    {
     "name": "stdout",
     "output_type": "stream",
     "text": [
      "trotter step:  100\n"
     ]
    }
   ],
   "source": [
    "# Combine subcircuits into a single multiqubit gate representing a single trotter step\n",
    "num_qubits = 3\n",
    "\n",
    "# The final time of the state evolution\n",
    "target_time = np.pi\n",
    "\n",
    "# Parameterize variable t to be evaluated at t=pi later\n",
    "dt = Parameter('t')\n",
    "\n",
    "# Convert custom quantum circuit into a gate\n",
    "trot_gate = trotter_gate(dt)\n",
    "\n",
    "# initial layout\n",
    "initial_layout = [5,3,1]\n",
    "\n",
    "# Number of trotter steps\n",
    "num_steps = 100\n",
    "print(\"trotter step: \", num_steps)\n",
    "\n",
    "scale_factors = [1.0, 2.0, 3.0]"
   ]
  },
  {
   "cell_type": "markdown",
   "id": "5646956e",
   "metadata": {},
   "source": [
    "# Prepare Circuits\n",
    "\n",
    "logical circuits = little endian\n",
    "name: lq = logical qubits "
   ]
  },
  {
   "cell_type": "code",
   "execution_count": 22,
   "id": "c905314f",
   "metadata": {},
   "outputs": [
    {
     "name": "stdout",
     "output_type": "stream",
     "text": [
      "created qc\n",
      "created st_qcs (length: 27 )\n",
      "removed barriers from st_qcs\n",
      "created t3_st_qcs (length: 27 )\n",
      "created zne_qcs (length: 81 )\n",
      "created t3_zne_qcs (length: 81 )\n"
     ]
    }
   ],
   "source": [
    "# Initialize quantum circuit for 3 qubits\n",
    "qr = QuantumRegister(num_qubits, name=\"lq\")\n",
    "qc = QuantumCircuit(qr)\n",
    "\n",
    "# Prepare initial state (remember we are only evolving 3 of the 7 qubits on jakarta qubits (q_5, q_3, q_1) corresponding to the state |110>)\n",
    "# make_initial_state(qc, \"110\")  # DO NOT MODIFY (|q_5,q_3,q_1> = |110>)\n",
    "\n",
    "qc.x(1)\n",
    "qc.h(0)\n",
    "\n",
    "subspace_encoder(qc, targets=[0, 1, 2]) # encode\n",
    "trotterize(qc, trot_gate, num_steps, targets=[1, 2]) # Simulate time evolution under H_heis3 Hamiltonian\n",
    "subspace_decoder(qc, targets=[0,1,2]) # decode\n",
    "\n",
    "# Evaluate simulation at target_time (t=pi) meaning each trotter step evolves pi/trotter_steps in time\n",
    "qc = qc.bind_parameters({dt: target_time / num_steps})\n",
    "print(\"created qc\")\n",
    "\n",
    "# Generate state tomography circuits to evaluate fidelity of simulation\n",
    "st_qcs = state_tomography_circuits(qc, [0, 1, 2][::-1])  #! state tomography requires === BIG ENDIAN === \n",
    "print(\"created st_qcs (length:\", len(st_qcs), \")\")\n",
    "\n",
    "# remove barriers\n",
    "st_qcs = [RemoveBarriers()(qc) for qc in st_qcs]\n",
    "print(\"removed barriers from st_qcs\")\n",
    "\n",
    "# optimize circuit\n",
    "t3_st_qcs = transpile(st_qcs, optimization_level=3, basis_gates=[\"sx\", \"cx\", \"rz\"])\n",
    "print(\"created t3_st_qcs (length:\", len(t3_st_qcs), \")\")\n",
    "\n",
    "# zne wrapping\n",
    "zne_qcs = zne_wrapper(t3_st_qcs, scale_factors)\n",
    "print(\"created zne_qcs (length:\", len(zne_qcs), \")\")\n",
    "\n",
    "t3_zne_qcs = transpile(zne_qcs, optimization_level=0, basis_gates=[\"sx\", \"cx\", \"rz\"], initial_layout=initial_layout)\n",
    "print(\"created t3_zne_qcs (length:\", len(t3_zne_qcs), \")\")"
   ]
  },
  {
   "cell_type": "code",
   "execution_count": 23,
   "id": "3f2f5993",
   "metadata": {},
   "outputs": [
    {
     "data": {
      "image/png": "[encoded data removed]",
      "text/plain": [
       "<Figure size 1684.33x927.08 with 1 Axes>"
      ]
     },
     "execution_count": 23,
     "metadata": {},
     "output_type": "execute_result"
    }
   ],
   "source": [
    "t3_zne_qcs[-3].draw(\"mpl\")"
   ]
  },
  {
   "cell_type": "markdown",
   "id": "fc642fd9",
   "metadata": {},
   "source": [
    "# Set Backend"
   ]
  },
  {
   "cell_type": "code",
   "execution_count": 40,
   "id": "f7347fa4",
   "metadata": {},
   "outputs": [],
   "source": [
    "from qiskit.test.mock import FakeJakarta\n",
    "# backend = FakeJakarta()\n",
    "backend = Aer.get_backend(\"qasm_simulator\")\n",
    "\n",
    "# IBMQ.load_account()\n",
    "# provider = IBMQ.get_provider(hub='ibm-q-utokyo', group='internal', project='hirashi-jst')\n",
    "# provider = IBMQ.get_provider(hub='ibm-q-community', group='ibmquantumawards', project='open-science-22')\n",
    "# print(\"provider:\", provider)\n",
    "# backend = provider.get_backend(\"ibmq_jakarta\")"
   ]
  },
  {
   "cell_type": "markdown",
   "id": "c7f6dad0",
   "metadata": {},
   "source": [
    "# Execute Circuits"
   ]
  },
  {
   "cell_type": "code",
   "execution_count": 41,
   "id": "7f97085a",
   "metadata": {
    "scrolled": true
   },
   "outputs": [
    {
     "name": "stdout",
     "output_type": "stream",
     "text": [
      "Job ID 89b246d6-2964-45d2-a17f-23c32226d01e\n"
     ]
    }
   ],
   "source": [
    "shots = 1 << 13\n",
    "reps = 1 # unused\n",
    "# execute: reps = 1\n",
    "job = execute(t3_zne_qcs, backend, shots=shots) # 毎回チェック: ここちゃんと変えた？\n",
    "print('Job ID', job.job_id())"
   ]
  },
  {
   "cell_type": "markdown",
   "id": "a28eaa5a",
   "metadata": {},
   "source": [
    "# QREM"
   ]
  },
  {
   "cell_type": "code",
   "execution_count": 42,
   "id": "240bad4a",
   "metadata": {},
   "outputs": [
    {
     "name": "stdout",
     "output_type": "stream",
     "text": [
      "Job ID fa7a5f57-4a92-4178-acef-eebf3bf02b5d\n"
     ]
    }
   ],
   "source": [
    "# QREM\n",
    "qr = QuantumRegister(num_qubits)\n",
    "meas_calibs, state_labels = complete_meas_cal(qr=qr, circlabel='mcal')\n",
    "cal_job = execute(meas_calibs, backend=backend, shots=shots, optimization_level=3, initial_layout = initial_layout)\n",
    "print('Job ID', cal_job.job_id())"
   ]
  },
  {
   "cell_type": "code",
   "execution_count": 43,
   "id": "52e27c80",
   "metadata": {},
   "outputs": [],
   "source": [
    "cal_results = cal_job.result()\n",
    "meas_fitter = CompleteMeasFitter(cal_results, state_labels, circlabel='mcal')"
   ]
  },
  {
   "cell_type": "code",
   "execution_count": 44,
   "id": "54875158",
   "metadata": {},
   "outputs": [],
   "source": [
    "mit_results = meas_fitter.filter.apply(job.result())"
   ]
  },
  {
   "cell_type": "code",
   "execution_count": 45,
   "id": "016b8e45",
   "metadata": {},
   "outputs": [],
   "source": [
    "zne_expvals = zne_decoder(num_qubits, mit_results, scale_factors)"
   ]
  },
  {
   "cell_type": "markdown",
   "id": "404fed71",
   "metadata": {},
   "source": [
    "# State Tomography"
   ]
  },
  {
   "cell_type": "code",
   "execution_count": 46,
   "id": "ca3ef232",
   "metadata": {},
   "outputs": [],
   "source": [
    "# target_state = (One^One^Zero).to_matrix() # DO NOT CHANGE!!!\n",
    "target_state = initial_state.to_matrix() # DO NOT CHANGE!!!"
   ]
  },
  {
   "cell_type": "code",
   "execution_count": 47,
   "id": "01181376",
   "metadata": {},
   "outputs": [],
   "source": [
    "rho = expvals_to_valid_rho(num_qubits, zne_expvals)"
   ]
  },
  {
   "cell_type": "code",
   "execution_count": 48,
   "id": "078ab308",
   "metadata": {},
   "outputs": [
    {
     "name": "stdout",
     "output_type": "stream",
     "text": [
      "0.9907046610176975\n"
     ]
    }
   ],
   "source": [
    "fidelity = state_fidelity(rho, target_state)\n",
    "print(fidelity)"
   ]
  },
  {
   "cell_type": "code",
   "execution_count": null,
   "id": "ea8d08f5",
   "metadata": {},
   "outputs": [],
   "source": []
  }
 ],
 "metadata": {
  "kernelspec": {
   "display_name": "Python 3 (ipykernel)",
   "language": "python",
   "name": "python3"
  },
  "language_info": {
   "codemirror_mode": {
    "name": "ipython",
    "version": 3
   },
   "file_extension": ".py",
   "mimetype": "text/x-python",
   "name": "python",
   "nbconvert_exporter": "python",
   "pygments_lexer": "ipython3",
   "version": "3.9.7"
  },
  "widgets": {
   "application/vnd.jupyter.widget-state+json": {
    "state": {},
    "version_major": 2,
    "version_minor": 0
   }
  }
 },
 "nbformat": 4,
 "nbformat_minor": 5
}
