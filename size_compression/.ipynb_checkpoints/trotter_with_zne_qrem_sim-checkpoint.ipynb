{
 "cells": [
  {
   "cell_type": "markdown",
   "id": "2479c61b",
   "metadata": {},
   "source": [
    "# Import Libiraries"
   ]
  },
  {
   "cell_type": "code",
   "execution_count": 1,
   "id": "6c48acd1",
   "metadata": {},
   "outputs": [],
   "source": [
    "import re\n",
    "import numpy as np\n",
    "import matplotlib.pyplot as plt\n",
    "import itertools\n",
    "import random\n",
    "import pickle\n",
    "plt.rcParams.update({'font.size': 16})  # enlarge matplotlib fonts"
   ]
  },
  {
   "cell_type": "code",
   "execution_count": 2,
   "id": "d2b9e40b",
   "metadata": {},
   "outputs": [],
   "source": [
    "# Import qubit states Zero (|0>) and One (|1>), and Pauli operators (X, Y, Z)\n",
    "from qiskit.opflow import Zero, One, I, X, Y, Z\n",
    "from qiskit import QuantumCircuit, QuantumRegister, IBMQ, execute, transpile, Aer\n",
    "from qiskit.providers.aer import QasmSimulator\n",
    "from qiskit.tools.monitor import job_monitor\n",
    "from qiskit.circuit import Parameter"
   ]
  },
  {
   "cell_type": "code",
   "execution_count": 3,
   "id": "c96c5a8c",
   "metadata": {},
   "outputs": [
    {
     "name": "stderr",
     "output_type": "stream",
     "text": [
      "/var/folders/vr/d82vcp297v78vk4sb0_nzzdc0000gn/T/ipykernel_19588/4110962823.py:2: DeprecationWarning: The qiskit.ignis package is deprecated and has been supersceded by the qiskit-experiments project. Refer to the migration guide: https://github.com/Qiskit/qiskit-ignis#migration-guide on how to migrate to the new project.\n",
      "  from qiskit.ignis.mitigation.measurement import complete_meas_cal, CompleteMeasFitter\n"
     ]
    }
   ],
   "source": [
    "# Import QREM package\n",
    "from qiskit.ignis.mitigation.measurement import complete_meas_cal, CompleteMeasFitter"
   ]
  },
  {
   "cell_type": "code",
   "execution_count": 4,
   "id": "021cc2b7",
   "metadata": {},
   "outputs": [],
   "source": [
    "# Import mitiq for zne\n",
    "import mitiq"
   ]
  },
  {
   "cell_type": "code",
   "execution_count": 5,
   "id": "384a1073",
   "metadata": {},
   "outputs": [],
   "source": [
    "# Import state tomography modules\n",
    "from qiskit.ignis.verification.tomography import state_tomography_circuits, StateTomographyFitter\n",
    "from qiskit.quantum_info import state_fidelity"
   ]
  },
  {
   "cell_type": "code",
   "execution_count": 6,
   "id": "5bc6e3c4",
   "metadata": {},
   "outputs": [],
   "source": [
    "# Suppress warnings\n",
    "import warnings\n",
    "warnings.filterwarnings('ignore')"
   ]
  },
  {
   "cell_type": "markdown",
   "id": "1994c600",
   "metadata": {},
   "source": [
    "# Trotter Gate"
   ]
  },
  {
   "cell_type": "code",
   "execution_count": 7,
   "id": "eb54d1d5",
   "metadata": {},
   "outputs": [],
   "source": [
    "def trotter_gate(dt, to_instruction = True):\n",
    "    qc = QuantumCircuit(2)\n",
    "    qc.rx(2*dt,0)\n",
    "    qc.rz(2*dt,1)\n",
    "    qc.h(1)\n",
    "    qc.cx(1,0)\n",
    "    qc.rz(-2*dt, 0)\n",
    "    qc.rx(-2*dt, 1)\n",
    "    qc.rz(2*dt, 1)\n",
    "    qc.cx(1,0)\n",
    "    qc.h(1)\n",
    "    qc.rz(2*dt, 0)\n",
    "    return qc.to_instruction() if to_instruction else qc"
   ]
  },
  {
   "cell_type": "code",
   "execution_count": 8,
   "id": "e6932db9-3bd1-4149-9986-ce1b73b4a0d0",
   "metadata": {},
   "outputs": [
    {
     "data": {
      "image/png": "[encoded data removed]",
      "text/plain": [
       "<Figure size 507.852x144.48 with 1 Axes>"
      ]
     },
     "execution_count": 8,
     "metadata": {},
     "output_type": "execute_result"
    }
   ],
   "source": [
    "trotter_gate(np.pi / 6, to_instruction=False).draw(\"mpl\")"
   ]
  },
  {
   "cell_type": "markdown",
   "id": "2b869090",
   "metadata": {},
   "source": [
    "# Set Parameters"
   ]
  },
  {
   "cell_type": "code",
   "execution_count": 9,
   "id": "afcf68d8",
   "metadata": {},
   "outputs": [],
   "source": [
    "# Combine subcircuits into a single multiqubit gate representing a single trotter step\n",
    "num_qubits = 3\n",
    "\n",
    "# The final time of the state evolution\n",
    "target_time = np.pi\n",
    "\n",
    "# Parameterize variable t to be evaluated at t=pi later\n",
    "dt = Parameter('t')\n",
    "# Convert custom quantum circuit into a gate\n",
    "Trot_gate = trotter_gate(dt)\n",
    "\n",
    "# Number of trotter steps\n",
    "trotter_steps = 100  ### CAN BE >= 4"
   ]
  },
  {
   "cell_type": "markdown",
   "id": "e066eeaa",
   "metadata": {},
   "source": [
    "# Make Quantum Circuit"
   ]
  },
  {
   "cell_type": "markdown",
   "id": "7b759d16",
   "metadata": {},
   "source": [
    "- logical → physical\n",
    "- 0       → 5\n",
    "- 1       → 3\n",
    "- 2       → 1"
   ]
  },
  {
   "cell_type": "code",
   "execution_count": 10,
   "id": "b048c5a7",
   "metadata": {},
   "outputs": [],
   "source": [
    "# Initialize quantum circuit for 3 qubits\n",
    "# qr = QuantumRegister(7)\n",
    "qc = QuantumCircuit(3)\n",
    "\n",
    "# Prepare initial state (remember we are only evolving 3 of the 7 qubits on jakarta qubits (q_5, q_3, q_1) corresponding to the state |110>)\n",
    "qc.x([1,0])  # DO NOT MODIFY (|q_5,q_3,q_1> = |110>)\n",
    "\n",
    "qc.x([1]) # encoding\n",
    "\n",
    "# Simulate time evolution under H_heis3 Hamiltonian\n",
    "for _ in range(trotter_steps):\n",
    "    qc.append(Trot_gate, [1, 0])\n",
    "\n",
    "qc.cx(1, 2)\n",
    "qc.cx(0, 1)\n",
    "\n",
    "# Evaluate simulation at target_time (t=pi) meaning each trotter step evolves pi/trotter_steps in time\n",
    "qc = qc.bind_parameters({dt: target_time/trotter_steps})"
   ]
  },
  {
   "cell_type": "code",
   "execution_count": 11,
   "id": "e79f861e",
   "metadata": {},
   "outputs": [],
   "source": [
    "# circuit optimization\n",
    "t3_qc = transpile(qc, optimization_level=3, basis_gates=[\"sx\", \"cx\", \"rz\"])\n",
    "t3_qc = transpile(t3_qc, optimization_level=3, basis_gates=[\"sx\", \"cx\", \"rz\"])"
   ]
  },
  {
   "cell_type": "code",
   "execution_count": 12,
   "id": "f1ea09f9",
   "metadata": {},
   "outputs": [],
   "source": [
    "# Generate state tomography circuits to evaluate fidelity of simulation\n",
    "st_qcs = state_tomography_circuits(t3_qc, [2, 1, 0])"
   ]
  },
  {
   "cell_type": "code",
   "execution_count": 13,
   "id": "cfb2e908",
   "metadata": {},
   "outputs": [
    {
     "data": {
      "image/png": "[encoded data removed]",
      "text/plain": [
       "<Figure size 1411x264.88 with 1 Axes>"
      ]
     },
     "execution_count": 13,
     "metadata": {},
     "output_type": "execute_result"
    }
   ],
   "source": [
    "# Display circuit for confirmation\n",
    "# st_qcs[-1].decompose().draw()  # view decomposition of trotter gates\n",
    "st_qcs[-1].draw(\"mpl\")  # only view trotter gates"
   ]
  },
  {
   "cell_type": "code",
   "execution_count": 14,
   "id": "9ff90c76",
   "metadata": {},
   "outputs": [],
   "source": [
    "def zne_wrapper(qcs, scale_factors = [1.0, 2.0, 3.0]):\n",
    "    \"\"\"\n",
    "    \"\"\"\n",
    "    folded_qcs = [] #! ZNE用の回路\n",
    "    for qc in qcs:\n",
    "        folded_qcs.append([mitiq.zne.scaling.fold_gates_at_random(qc, scale) for scale in scale_factors]) #! ここでmitiqを使用\n",
    "    folded_qcs = list(itertools.chain(*folded_qcs)) #! folded_qcsを平坦化\n",
    "    return folded_qcs"
   ]
  },
  {
   "cell_type": "code",
   "execution_count": 15,
   "id": "fb03c2a7",
   "metadata": {},
   "outputs": [
    {
     "name": "stdout",
     "output_type": "stream",
     "text": [
      "number of circuits:  81\n"
     ]
    }
   ],
   "source": [
    "zne_qcs = zne_wrapper(st_qcs)\n",
    "print(\"number of circuits: \", len(zne_qcs))"
   ]
  },
  {
   "cell_type": "code",
   "execution_count": 16,
   "id": "71df4ef7",
   "metadata": {},
   "outputs": [
    {
     "data": {
      "image/png": "[encoded data removed]",
      "text/plain": [
       "<Figure size 1290.6x264.88 with 1 Axes>"
      ]
     },
     "execution_count": 16,
     "metadata": {},
     "output_type": "execute_result"
    }
   ],
   "source": [
    "zne_qcs[-3].draw(\"mpl\")"
   ]
  },
  {
   "cell_type": "code",
   "execution_count": 17,
   "id": "df4b6687",
   "metadata": {},
   "outputs": [],
   "source": [
    "zne_qcs_jakarta = transpile(zne_qcs, optimization_level=3, basis_gates=[\"sx\", \"cx\", \"rz\"], initial_layout=[5,3,1])\n",
    "zne_qcs_jakarta = transpile(zne_qcs_jakarta, optimization_level=3, basis_gates=[\"sx\", \"cx\", \"rz\"])"
   ]
  },
  {
   "cell_type": "code",
   "execution_count": 18,
   "id": "0962bf2e",
   "metadata": {},
   "outputs": [
    {
     "data": {
      "image/png": "[encoded data removed]",
      "text/plain": [
       "<Figure size 1350.8x445.48 with 1 Axes>"
      ]
     },
     "execution_count": 18,
     "metadata": {},
     "output_type": "execute_result"
    }
   ],
   "source": [
    "zne_qcs_jakarta[-3].draw(\"mpl\")"
   ]
  },
  {
   "cell_type": "markdown",
   "id": "fc642fd9",
   "metadata": {},
   "source": [
    "# Set Backend"
   ]
  },
  {
   "cell_type": "code",
   "execution_count": 19,
   "id": "f7347fa4",
   "metadata": {},
   "outputs": [],
   "source": [
    "from qiskit.test.mock import FakeJakarta\n",
    "backend = FakeJakarta()\n",
    "# backend = Aer.get_backend(\"qasm_simulator\")\n",
    "\n",
    "# IBMQ.load_account()\n",
    "# provider = IBMQ.get_provider(hub='ibm-q-utokyo', group='internal', project='hirashi-jst')\n",
    "# provider = IBMQ.get_provider(hub='ibm-q-community', group='ibmquantumawards', project='open-science-22')\n",
    "# print(\"provider:\", provider)\n",
    "# backend = provider.get_backend(\"ibmq_jakarta\")"
   ]
  },
  {
   "cell_type": "markdown",
   "id": "c7f6dad0",
   "metadata": {},
   "source": [
    "# Set Execute Options"
   ]
  },
  {
   "cell_type": "code",
   "execution_count": 20,
   "id": "c0752d6d",
   "metadata": {},
   "outputs": [],
   "source": [
    "shots = 8192\n",
    "reps = 8"
   ]
  },
  {
   "cell_type": "code",
   "execution_count": 21,
   "id": "eaee7783",
   "metadata": {},
   "outputs": [
    {
     "name": "stdout",
     "output_type": "stream",
     "text": [
      "Job ID 86753140-fac6-4614-9cb2-7b4be1ad5ce0\n",
      "Job ID f0b61f56-dd76-4f0b-9633-1493adb428f7\n",
      "Job ID 2b953154-f477-4598-b89c-79eee1482f25\n",
      "Job ID d496b01d-8545-431b-91bc-40dabd4a5b12\n",
      "Job ID cdf31d53-ba21-48d6-9050-f7110e1b25b0\n",
      "Job ID cbf9d46b-9b69-4ba1-9f85-db3efc67edbb\n",
      "Job ID 37ade382-119b-48f0-8805-78e26e1c6e79\n",
      "Job ID 83c6f065-de22-4b46-87df-f8f9ee8605ef\n"
     ]
    }
   ],
   "source": [
    "jobs = []\n",
    "for _ in range(reps):\n",
    "    # execute\n",
    "    job = execute(st_qcs, backend, shots=shots)\n",
    "    print('Job ID', job.job_id())\n",
    "    jobs.append(job)"
   ]
  },
  {
   "cell_type": "markdown",
   "id": "a28eaa5a",
   "metadata": {},
   "source": [
    "# QREM"
   ]
  },
  {
   "cell_type": "code",
   "execution_count": 22,
   "id": "240bad4a",
   "metadata": {
    "scrolled": true
   },
   "outputs": [
    {
     "name": "stdout",
     "output_type": "stream",
     "text": [
      "Job ID 45d77af9-4940-4780-b60d-4b0008166ba1\n"
     ]
    }
   ],
   "source": [
    "# QREM\n",
    "qr = QuantumRegister(num_qubits)\n",
    "meas_calibs, state_labels = complete_meas_cal(qr=qr, circlabel='mcal')\n",
    "cal_job = execute(meas_calibs, backend=backend, shots=shots, optimization_level=3)\n",
    "print('Job ID', cal_job.job_id())"
   ]
  },
  {
   "cell_type": "markdown",
   "id": "ed0c7d9c",
   "metadata": {},
   "source": [
    "# ====== wait for the job ======"
   ]
  },
  {
   "cell_type": "code",
   "execution_count": 23,
   "id": "6ddc9534",
   "metadata": {},
   "outputs": [],
   "source": [
    "cal_results = cal_job.result()\n",
    "meas_fitter = CompleteMeasFitter(cal_results, state_labels, circlabel='mcal')\n",
    "mit_results = []\n",
    "for job in jobs:\n",
    "    mit_results.append( meas_fitter.filter.apply(job.result()) )"
   ]
  },
  {
   "cell_type": "markdown",
   "id": "404fed71",
   "metadata": {},
   "source": [
    "# State Tomography"
   ]
  },
  {
   "cell_type": "code",
   "execution_count": 18,
   "id": "adec8606",
   "metadata": {},
   "outputs": [],
   "source": [
    "# Compute the state tomography based on the st_qcs quantum circuits and the results from those ciricuits\n",
    "def state_tomo(result, st_qcs):\n",
    "    # The expected final state; necessary to determine state tomography fidelity\n",
    "    target_state = (One^One^Zero).to_matrix()  # DO NOT MODIFY (|q_5,q_3,q_1> = |110>)\n",
    "    # Fit state tomography results\n",
    "    tomo_fitter = StateTomographyFitter(result, st_qcs)\n",
    "    rho_fit = tomo_fitter.fit(method='lstsq')\n",
    "    # Compute fidelity\n",
    "    fid = state_fidelity(rho_fit, target_state)\n",
    "    return fid"
   ]
  },
  {
   "cell_type": "markdown",
   "id": "6e279e3d",
   "metadata": {},
   "source": [
    "# Compute Fidelity"
   ]
  },
  {
   "cell_type": "code",
   "execution_count": 19,
   "id": "80cc4549",
   "metadata": {},
   "outputs": [
    {
     "name": "stdout",
     "output_type": "stream",
     "text": [
      "state tomography fidelity = 0.9008 ± 0.0022\n"
     ]
    }
   ],
   "source": [
    "# Compute tomography fidelities for each repetition\n",
    "fids = []\n",
    "for result in mit_results:\n",
    "    fid = state_tomo(result, st_qcs)\n",
    "    fids.append(fid)\n",
    "    \n",
    "print('state tomography fidelity = {:.4f} \\u00B1 {:.4f}'.format(np.mean(fids), np.std(fids)))"
   ]
  }
 ],
 "metadata": {
  "kernelspec": {
   "display_name": "Python 3 (ipykernel)",
   "language": "python",
   "name": "python3"
  },
  "language_info": {
   "codemirror_mode": {
    "name": "ipython",
    "version": 3
   },
   "file_extension": ".py",
   "mimetype": "text/x-python",
   "name": "python",
   "nbconvert_exporter": "python",
   "pygments_lexer": "ipython3",
   "version": "3.9.7"
  },
  "widgets": {
   "application/vnd.jupyter.widget-state+json": {
    "state": {},
    "version_major": 2,
    "version_minor": 0
   }
  }
 },
 "nbformat": 4,
 "nbformat_minor": 5
}
