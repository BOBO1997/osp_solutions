{
 "cells": [
  {
   "cell_type": "markdown",
   "id": "0257ee60",
   "metadata": {},
   "source": [
    "# 2-qubitで何ができるかを調べる"
   ]
  },
  {
   "cell_type": "code",
   "execution_count": 1,
   "id": "6c48acd1",
   "metadata": {},
   "outputs": [
    {
     "name": "stderr",
     "output_type": "stream",
     "text": [
      "/var/folders/vr/d82vcp297v78vk4sb0_nzzdc0000gn/T/ipykernel_23226/3835349950.py:14: DeprecationWarning: The qiskit.ignis package is deprecated and has been supersceded by the qiskit-experiments project. Refer to the migration guide: https://github.com/Qiskit/qiskit-ignis#migration-guide on how to migrate to the new project.\n",
      "  from qiskit.ignis.verification.tomography import state_tomography_circuits, StateTomographyFitter\n"
     ]
    }
   ],
   "source": [
    "import numpy as np\n",
    "import matplotlib.pyplot as plt\n",
    "plt.rcParams.update({'font.size': 16})  # enlarge matplotlib fonts\n",
    "\n",
    "# Import qubit states Zero (|0>) and One (|1>), and Pauli operators (X, Y, Z)\n",
    "from qiskit.opflow import Zero, One, I, X, Y, Z\n",
    "from qiskit import QuantumCircuit, QuantumRegister, ClassicalRegister, IBMQ, execute, transpile, Aer\n",
    "from qiskit.providers.aer import QasmSimulator\n",
    "from qiskit.tools.monitor import job_monitor\n",
    "from qiskit.circuit import Parameter\n",
    "from qiskit.compiler import transpile\n",
    "\n",
    "# Import state tomography modules\n",
    "from qiskit.ignis.verification.tomography import state_tomography_circuits, StateTomographyFitter\n",
    "from qiskit.quantum_info import state_fidelity\n",
    "\n",
    "# Suppress warnings\n",
    "import warnings\n",
    "warnings.filterwarnings('ignore')"
   ]
  },
  {
   "cell_type": "code",
   "execution_count": 2,
   "id": "81bcbc0a",
   "metadata": {},
   "outputs": [],
   "source": [
    "def trotter_gate(dt):\n",
    "    qc = QuantumCircuit(2)\n",
    "    qc.h(1)\n",
    "    qc.cx(1,0)\n",
    "    qc.h(1)\n",
    "    qc.rz(- 2 * dt, 1)\n",
    "    qc.rz(dt, 0)\n",
    "    qc.h(1)\n",
    "    qc.cx(1,0)\n",
    "    qc.h(1)\n",
    "    qc.rx(dt, [1])\n",
    "\n",
    "    qc.rz(-dt, [0,1])\n",
    "    qc.rx(-dt, [0,1])\n",
    "    return qc.to_instruction()"
   ]
  },
  {
   "cell_type": "code",
   "execution_count": 3,
   "id": "1c210151",
   "metadata": {},
   "outputs": [
    {
     "data": {
      "image/png": "[encoded data removed]",
      "text/plain": [
       "<Figure size 748.652x144.48 with 1 Axes>"
      ]
     },
     "execution_count": 3,
     "metadata": {},
     "output_type": "execute_result"
    }
   ],
   "source": [
    "qc = QuantumCircuit(2)\n",
    "qc.h(1)\n",
    "qc.cx(1,0)\n",
    "qc.h(1)\n",
    "qc.rz(- 2 * np.pi / 6, 1)\n",
    "qc.rz(np.pi / 6, 0)\n",
    "qc.h(1)\n",
    "qc.cx(1,0)\n",
    "qc.h(1)\n",
    "qc.rx(np.pi / 6, [1])\n",
    "qc.barrier()\n",
    "qc.rz(-np.pi / 6, [0,1])\n",
    "qc.rx(-np.pi / 6, [0,1])\n",
    "qc.draw('mpl')"
   ]
  },
  {
   "cell_type": "code",
   "execution_count": 4,
   "id": "afcf68d8",
   "metadata": {},
   "outputs": [],
   "source": [
    "# Combine subcircuits into a single multiqubit gate representing a single trotter step\n",
    "num_qubits = 2\n",
    "\n",
    "# Parameterize variable t to be evaluated at t=pi later\n",
    "dt = Parameter('t')\n",
    "# Convert custom quantum circuit into a gate\n",
    "Trot_gate = trotter_gate(dt)\n",
    "\n",
    "# YOUR TROTTERIZATION GOES HERE -- FINISH (end of example)"
   ]
  },
  {
   "cell_type": "code",
   "execution_count": 5,
   "id": "affb9172",
   "metadata": {},
   "outputs": [],
   "source": [
    "# The final time of the state evolution\n",
    "target_time = np.pi\n",
    "\n",
    "# Number of trotter steps\n",
    "trotter_steps = 4  ### CAN BE >= 4\n",
    "\n",
    "# Initialize quantum circuit for 3 qubits\n",
    "qr = QuantumRegister(2)\n",
    "cr = ClassicalRegister(2)\n",
    "qc = QuantumCircuit(qr, cr)"
   ]
  },
  {
   "cell_type": "code",
   "execution_count": 6,
   "id": "c7ac6a39",
   "metadata": {},
   "outputs": [],
   "source": [
    "# Prepare initial state (remember we are only evolving 3 of the 7 qubits on jakarta qubits (q_5, q_3, q_1) corresponding to the state |110>)\n",
    "# init state |10> (= |110>)\n",
    "qc.x(1)  # DO NOT MODIFY (|q_5,q_3,q_1> = |110>)\n",
    "\n",
    "# Simulate time evolution under H_heis3 Hamiltonian\n",
    "for _ in range(trotter_steps):\n",
    "    qc.append(Trot_gate, [qr[0], qr[1]])\n",
    "\n",
    "# qc.cx(qr[3], qr[1])\n",
    "# qc.cx(qr[5], qr[3])\n",
    "    \n",
    "# Evaluate simulation at target_time (t=pi) meaning each trotter step evolves pi/trotter_steps in time\n",
    "qc = qc.bind_parameters({dt: target_time / trotter_steps})"
   ]
  },
  {
   "cell_type": "code",
   "execution_count": 7,
   "id": "76e857ab",
   "metadata": {},
   "outputs": [
    {
     "data": {
      "text/plain": [
       "<qiskit.circuit.instructionset.InstructionSet at 0x7ff2d98facc0>"
      ]
     },
     "execution_count": 7,
     "metadata": {},
     "output_type": "execute_result"
    }
   ],
   "source": [
    "qc.measure(qr, cr)"
   ]
  },
  {
   "cell_type": "code",
   "execution_count": 14,
   "id": "b15362c6",
   "metadata": {},
   "outputs": [],
   "source": [
    "t0_qc = transpile(qc, optimization_level=0, basis_gates=[\"sx\",\"rz\",\"cx\"])\n",
    "# t0_qc.draw(\"mpl\")"
   ]
  },
  {
   "cell_type": "code",
   "execution_count": 15,
   "id": "3dcb4dd0",
   "metadata": {},
   "outputs": [],
   "source": [
    "t0_qc = t0_qc.reverse_bits()\n",
    "# t0_qc.draw(\"mpl\")"
   ]
  },
  {
   "cell_type": "code",
   "execution_count": 10,
   "id": "da402dd6",
   "metadata": {},
   "outputs": [],
   "source": [
    "shots = 8192\n",
    "reps = 1\n",
    "\n",
    "# WE USE A NOISELESS SIMULATION HERE\n",
    "backend = Aer.get_backend('qasm_simulator')"
   ]
  },
  {
   "cell_type": "code",
   "execution_count": 11,
   "id": "eaee7783",
   "metadata": {},
   "outputs": [
    {
     "name": "stdout",
     "output_type": "stream",
     "text": [
      "Job ID 66ee3342-e888-4276-bd2c-c9f34ef433a9\n"
     ]
    }
   ],
   "source": [
    "jobs = []\n",
    "for _ in range(reps):\n",
    "    # execute\n",
    "    job = execute(t0_qc, backend=backend, shots=shots, optimization_level=0)\n",
    "    print('Job ID', job.job_id())\n",
    "    jobs.append(job)"
   ]
  },
  {
   "cell_type": "code",
   "execution_count": 36,
   "id": "995b7c38",
   "metadata": {},
   "outputs": [
    {
     "name": "stdout",
     "output_type": "stream",
     "text": [
      "number of trotter steps:  1\n",
      "circuit depth:  60\n",
      "pribability distribution:  {'10': 8192}\n",
      "\n",
      "number of trotter steps:  2\n",
      "circuit depth:  114\n",
      "pribability distribution:  {'10': 4009, '01': 4183}\n",
      "\n",
      "number of trotter steps:  3\n",
      "circuit depth:  168\n",
      "pribability distribution:  {'01': 652, '00': 207, '11': 1200, '10': 6133}\n",
      "\n",
      "number of trotter steps:  4\n",
      "circuit depth:  222\n",
      "pribability distribution:  {'01': 763, '11': 2484, '00': 514, '10': 4431}\n",
      "\n",
      "number of trotter steps:  5\n",
      "circuit depth:  276\n",
      "pribability distribution:  {'01': 1663, '10': 2846, '00': 786, '11': 2897}\n",
      "\n",
      "number of trotter steps:  6\n",
      "circuit depth:  330\n",
      "pribability distribution:  {'01': 2654, '00': 767, '10': 1995, '11': 2776}\n",
      "\n",
      "number of trotter steps:  7\n",
      "circuit depth:  384\n",
      "pribability distribution:  {'10': 1344, '00': 726, '11': 2627, '01': 3495}\n",
      "\n",
      "number of trotter steps:  8\n",
      "circuit depth:  438\n",
      "pribability distribution:  {'00': 653, '11': 2425, '10': 1091, '01': 4023}\n",
      "\n",
      "number of trotter steps:  9\n",
      "circuit depth:  492\n",
      "pribability distribution:  {'00': 545, '11': 2293, '10': 806, '01': 4548}\n",
      "\n",
      "number of trotter steps:  10\n",
      "circuit depth:  546\n",
      "pribability distribution:  {'10': 628, '11': 2032, '00': 471, '01': 5061}\n",
      "\n",
      "number of trotter steps:  11\n",
      "circuit depth:  600\n",
      "pribability distribution:  {'01': 5347, '10': 487, '11': 1902, '00': 456}\n",
      "\n",
      "number of trotter steps:  12\n",
      "circuit depth:  654\n",
      "pribability distribution:  {'10': 457, '11': 1811, '00': 367, '01': 5557}\n",
      "\n",
      "number of trotter steps:  13\n",
      "circuit depth:  708\n",
      "pribability distribution:  {'01': 5766, '10': 396, '11': 1685, '00': 345}\n",
      "\n",
      "number of trotter steps:  14\n",
      "circuit depth:  762\n",
      "pribability distribution:  {'01': 5943, '00': 309, '10': 354, '11': 1586}\n",
      "\n"
     ]
    }
   ],
   "source": [
    "counts_01 = []\n",
    "counts_10 = []\n",
    "for trotter_steps in range(1, 15, 1):\n",
    "    \n",
    "    print(\"number of trotter steps: \", trotter_steps)\n",
    "    # Initialize quantum circuit for 3 qubits\n",
    "    qr = QuantumRegister(2)\n",
    "    cr = ClassicalRegister(2)\n",
    "    qc = QuantumCircuit(qr, cr)\n",
    "    \n",
    "    # Prepare initial state (remember we are only evolving 3 of the 7 qubits on jakarta qubits (q_5, q_3, q_1) corresponding to the state |110>)\n",
    "    # init state |10> (= |110>)\n",
    "    qc.x(1)  # DO NOT MODIFY (|q_5,q_3,q_1> = |110>)\n",
    "\n",
    "    # Simulate time evolution under H_heis3 Hamiltonian\n",
    "    for _ in range(trotter_steps):\n",
    "        qc.append(Trot_gate, [qr[0], qr[1]])\n",
    "\n",
    "    # Evaluate simulation at target_time (t=pi) meaning each trotter step evolves pi/trotter_steps in time\n",
    "    qc = qc.bind_parameters({dt: target_time / trotter_steps})\n",
    "    qc.measure(qr, cr)\n",
    "    t0_qc = transpile(qc, optimization_level=0, basis_gates=[\"sx\",\"rz\",\"cx\"])\n",
    "    t0_qc = t0_qc.reverse_bits()\n",
    "    print(\"circuit depth: \", t0_qc.depth())\n",
    "    job = execute(t0_qc, backend=backend, shots=shots, optimization_level=0)\n",
    "    print(\"pribability distribution: \", job.result().get_counts())\n",
    "    counts_01.append(job.result().get_counts().get(\"01\", 0))\n",
    "    counts_10.append(job.result().get_counts().get(\"10\", 0))\n",
    "    print()"
   ]
  },
  {
   "cell_type": "code",
   "execution_count": 39,
   "id": "ebee9c0c",
   "metadata": {},
   "outputs": [
    {
     "data": {
      "text/plain": [
       "Text(0.5, 1.0, 'counts of |10>')"
      ]
     },
     "execution_count": 39,
     "metadata": {},
     "output_type": "execute_result"
    },
    {
     "data": {
      "image/png": "[encoded data removed]",
      "text/plain": [
       "<Figure size 432x288 with 1 Axes>"
      ]
     },
     "metadata": {
      "needs_background": "light"
     },
     "output_type": "display_data"
    }
   ],
   "source": [
    "plt.plot(range(1,15), counts_10)\n",
    "plt.xlabel(\"trotter steps\")\n",
    "plt.ylabel(\"shot counts of 10\")\n",
    "plt.title(\"counts of |10>\")"
   ]
  },
  {
   "cell_type": "code",
   "execution_count": 40,
   "id": "c7f08e79",
   "metadata": {},
   "outputs": [
    {
     "data": {
      "text/plain": [
       "Text(0.5, 1.0, 'counts of |01>')"
      ]
     },
     "execution_count": 40,
     "metadata": {},
     "output_type": "execute_result"
    },
    {
     "data": {
      "image/png": "[encoded data removed]",
      "text/plain": [
       "<Figure size 432x288 with 1 Axes>"
      ]
     },
     "metadata": {
      "needs_background": "light"
     },
     "output_type": "display_data"
    }
   ],
   "source": [
    "plt.plot(range(1,15), counts_01)\n",
    "plt.xlabel(\"trotter steps\")\n",
    "plt.ylabel(\"shot counts of 01\")\n",
    "plt.title(\"counts of |01>\")"
   ]
  },
  {
   "cell_type": "code",
   "execution_count": null,
   "id": "0ad4c506",
   "metadata": {},
   "outputs": [],
   "source": []
  }
 ],
 "metadata": {
  "kernelspec": {
   "display_name": "Python 3 (ipykernel)",
   "language": "python",
   "name": "python3"
  },
  "language_info": {
   "codemirror_mode": {
    "name": "ipython",
    "version": 3
   },
   "file_extension": ".py",
   "mimetype": "text/x-python",
   "name": "python",
   "nbconvert_exporter": "python",
   "pygments_lexer": "ipython3",
   "version": "3.9.7"
  }
 },
 "nbformat": 4,
 "nbformat_minor": 5
}
