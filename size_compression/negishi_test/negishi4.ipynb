{
 "cells": [
  {
   "cell_type": "markdown",
   "id": "0257ee60",
   "metadata": {},
   "source": [
    "# 2-qubitでは|01>が大きくなった。→3 qubitにしたらどうなる？"
   ]
  },
  {
   "cell_type": "code",
   "execution_count": 1,
   "id": "6c48acd1",
   "metadata": {},
   "outputs": [
    {
     "name": "stderr",
     "output_type": "stream",
     "text": [
      "/var/folders/vr/d82vcp297v78vk4sb0_nzzdc0000gn/T/ipykernel_23354/3835349950.py:14: DeprecationWarning: The qiskit.ignis package is deprecated and has been supersceded by the qiskit-experiments project. Refer to the migration guide: https://github.com/Qiskit/qiskit-ignis#migration-guide on how to migrate to the new project.\n",
      "  from qiskit.ignis.verification.tomography import state_tomography_circuits, StateTomographyFitter\n"
     ]
    }
   ],
   "source": [
    "import numpy as np\n",
    "import matplotlib.pyplot as plt\n",
    "plt.rcParams.update({'font.size': 16})  # enlarge matplotlib fonts\n",
    "\n",
    "# Import qubit states Zero (|0>) and One (|1>), and Pauli operators (X, Y, Z)\n",
    "from qiskit.opflow import Zero, One, I, X, Y, Z\n",
    "from qiskit import QuantumCircuit, QuantumRegister, ClassicalRegister, IBMQ, execute, transpile, Aer\n",
    "from qiskit.providers.aer import QasmSimulator\n",
    "from qiskit.tools.monitor import job_monitor\n",
    "from qiskit.circuit import Parameter\n",
    "from qiskit.compiler import transpile\n",
    "\n",
    "# Import state tomography modules\n",
    "from qiskit.ignis.verification.tomography import state_tomography_circuits, StateTomographyFitter\n",
    "from qiskit.quantum_info import state_fidelity\n",
    "\n",
    "# Suppress warnings\n",
    "import warnings\n",
    "warnings.filterwarnings('ignore')"
   ]
  },
  {
   "cell_type": "code",
   "execution_count": 24,
   "id": "81bcbc0a",
   "metadata": {},
   "outputs": [],
   "source": [
    "def trotter_gate(dt, to_instruction = True):\n",
    "    qc = QuantumCircuit(2)\n",
    "    qc.h(1)\n",
    "    qc.cx(1,0)\n",
    "    qc.rx(dt, 1)\n",
    "    qc.rz(- dt, 1)\n",
    "    qc.rz(dt, 0)\n",
    "    qc.cx(1,0)\n",
    "    qc.h(1)\n",
    "    qc.rx(dt, [1])\n",
    "\n",
    "    qc.rz(-dt, [0,1])\n",
    "    qc.rx(-dt, [0,1])\n",
    "    return qc.to_instruction() if to_instruction else qc"
   ]
  },
  {
   "cell_type": "code",
   "execution_count": 25,
   "id": "5d98625c",
   "metadata": {},
   "outputs": [
    {
     "data": {
      "image/png": "[encoded data removed]",
      "text/plain": [
       "<Figure size 628.252x144.48 with 1 Axes>"
      ]
     },
     "execution_count": 25,
     "metadata": {},
     "output_type": "execute_result"
    }
   ],
   "source": [
    "trotter_gate(np.pi / 6, to_instruction=False).draw(\"mpl\")"
   ]
  },
  {
   "cell_type": "code",
   "execution_count": null,
   "id": "4ef61651",
   "metadata": {},
   "outputs": [],
   "source": []
  },
  {
   "cell_type": "code",
   "execution_count": 4,
   "id": "afcf68d8",
   "metadata": {},
   "outputs": [],
   "source": [
    "# Combine subcircuits into a single multiqubit gate representing a single trotter step\n",
    "num_qubits = 3\n",
    "\n",
    "# Parameterize variable t to be evaluated at t=pi later\n",
    "dt = Parameter('t')\n",
    "# Convert custom quantum circuit into a gate\n",
    "Trot_gate = trotter_gate(dt)\n",
    "\n",
    "# YOUR TROTTERIZATION GOES HERE -- FINISH (end of example)"
   ]
  },
  {
   "cell_type": "code",
   "execution_count": 5,
   "id": "affb9172",
   "metadata": {},
   "outputs": [],
   "source": [
    "# The final time of the state evolution\n",
    "target_time = np.pi\n",
    "\n",
    "# Number of trotter steps\n",
    "trotter_steps = 4  ### CAN BE >= 4\n",
    "\n",
    "# Initialize quantum circuit for 3 qubits\n",
    "qr = QuantumRegister(3)\n",
    "cr = ClassicalRegister(3)\n",
    "qc = QuantumCircuit(qr, cr)"
   ]
  },
  {
   "cell_type": "code",
   "execution_count": 6,
   "id": "c7ac6a39",
   "metadata": {},
   "outputs": [],
   "source": [
    "# Prepare initial state (remember we are only evolving 3 of the 7 qubits on jakarta qubits (q_5, q_3, q_1) corresponding to the state |110>)\n",
    "# init state |10> (= |110>)\n",
    "qc.x(1)  # DO NOT MODIFY (|q_5,q_3,q_1> = |110>)\n",
    "\n",
    "# Simulate time evolution under H_heis3 Hamiltonian\n",
    "for _ in range(trotter_steps):\n",
    "    qc.append(Trot_gate, [qr[1], qr[2]])\n",
    "\n",
    "qc.cx(qr[1], qr[0])\n",
    "qc.cx(qr[2], qr[1])\n",
    "    \n",
    "# Evaluate simulation at target_time (t=pi) meaning each trotter step evolves pi/trotter_steps in time\n",
    "qc = qc.bind_parameters({dt: target_time / trotter_steps})"
   ]
  },
  {
   "cell_type": "code",
   "execution_count": 7,
   "id": "76e857ab",
   "metadata": {},
   "outputs": [
    {
     "data": {
      "text/plain": [
       "<qiskit.circuit.instructionset.InstructionSet at 0x7fd6d70fbcc0>"
      ]
     },
     "execution_count": 7,
     "metadata": {},
     "output_type": "execute_result"
    }
   ],
   "source": [
    "qc.measure(qr, cr)"
   ]
  },
  {
   "cell_type": "code",
   "execution_count": 8,
   "id": "b15362c6",
   "metadata": {},
   "outputs": [],
   "source": [
    "t0_qc = transpile(qc, optimization_level=0, basis_gates=[\"sx\",\"rz\",\"cx\"])\n",
    "# t0_qc.draw(\"mpl\")"
   ]
  },
  {
   "cell_type": "code",
   "execution_count": 9,
   "id": "3dcb4dd0",
   "metadata": {},
   "outputs": [],
   "source": [
    "t0_qc = t0_qc.reverse_bits()\n",
    "# t0_qc.draw(\"mpl\")"
   ]
  },
  {
   "cell_type": "code",
   "execution_count": 10,
   "id": "da402dd6",
   "metadata": {},
   "outputs": [],
   "source": [
    "shots = 8192\n",
    "reps = 1\n",
    "\n",
    "# WE USE A NOISELESS SIMULATION HERE\n",
    "backend = Aer.get_backend('qasm_simulator')"
   ]
  },
  {
   "cell_type": "code",
   "execution_count": 11,
   "id": "eaee7783",
   "metadata": {},
   "outputs": [
    {
     "name": "stdout",
     "output_type": "stream",
     "text": [
      "Job ID 779d7bd5-28dd-48b4-b15a-c2055b70f6d4\n"
     ]
    }
   ],
   "source": [
    "jobs = []\n",
    "for _ in range(reps):\n",
    "    # execute\n",
    "    job = execute(t0_qc, backend=backend, shots=shots, optimization_level=0)\n",
    "    print('Job ID', job.job_id())\n",
    "    jobs.append(job)"
   ]
  },
  {
   "cell_type": "code",
   "execution_count": 20,
   "id": "995b7c38",
   "metadata": {},
   "outputs": [
    {
     "name": "stdout",
     "output_type": "stream",
     "text": [
      "number of trotter steps:  1\n",
      "circuit depth:  56\n",
      "pribability distribution:  {'110': 8192}\n",
      "\n",
      "number of trotter steps:  2\n",
      "circuit depth:  82\n",
      "pribability distribution:  {'000': 4106, '011': 4086}\n",
      "\n",
      "number of trotter steps:  3\n",
      "circuit depth:  108\n",
      "pribability distribution:  {'110': 793, '011': 1801, '101': 3905, '000': 1693}\n",
      "\n",
      "number of trotter steps:  4\n",
      "circuit depth:  134\n",
      "pribability distribution:  {'011': 1524, '000': 897, '110': 1245, '101': 4526}\n",
      "\n",
      "number of trotter steps:  5\n",
      "circuit depth:  160\n",
      "pribability distribution:  {'000': 942, '011': 1915, '110': 1264, '101': 4071}\n",
      "\n",
      "number of trotter steps:  6\n",
      "circuit depth:  186\n",
      "pribability distribution:  {'101': 3877, '110': 1251, '011': 1996, '000': 1068}\n",
      "\n",
      "number of trotter steps:  7\n",
      "circuit depth:  212\n",
      "pribability distribution:  {'110': 1144, '011': 1937, '000': 1397, '101': 3714}\n",
      "\n",
      "number of trotter steps:  8\n",
      "circuit depth:  238\n",
      "pribability distribution:  {'110': 1187, '011': 1864, '101': 3605, '000': 1536}\n",
      "\n",
      "number of trotter steps:  9\n",
      "circuit depth:  264\n",
      "pribability distribution:  {'110': 1128, '000': 1667, '101': 3682, '011': 1715}\n",
      "\n",
      "number of trotter steps:  10\n",
      "circuit depth:  290\n",
      "pribability distribution:  {'000': 1843, '110': 1081, '011': 1596, '101': 3672}\n",
      "\n",
      "number of trotter steps:  11\n",
      "circuit depth:  316\n",
      "pribability distribution:  {'000': 1849, '011': 1546, '101': 3690, '110': 1107}\n",
      "\n",
      "number of trotter steps:  12\n",
      "circuit depth:  342\n",
      "pribability distribution:  {'000': 1956, '011': 1365, '110': 1099, '101': 3772}\n",
      "\n",
      "number of trotter steps:  13\n",
      "circuit depth:  368\n",
      "pribability distribution:  {'011': 1334, '000': 1959, '110': 1025, '101': 3874}\n",
      "\n",
      "number of trotter steps:  14\n",
      "circuit depth:  394\n",
      "pribability distribution:  {'110': 1101, '011': 1253, '000': 2046, '101': 3792}\n",
      "\n"
     ]
    }
   ],
   "source": [
    "counts_110 = []\n",
    "# counts_10 = []\n",
    "for trotter_steps in range(1, 15, 1):\n",
    "    \n",
    "    print(\"number of trotter steps: \", trotter_steps)\n",
    "    # Initialize quantum circuit for 3 qubits\n",
    "    qr = QuantumRegister(3)\n",
    "    cr = ClassicalRegister(3)\n",
    "    qc = QuantumCircuit(qr, cr)\n",
    "    \n",
    "    # Prepare initial state (remember we are only evolving 3 of the 7 qubits on jakarta qubits (q_5, q_3, q_1) corresponding to the state |110>)\n",
    "    # init state |10> (= |110>)\n",
    "    qc.x(1)  # DO NOT MODIFY (|q_5,q_3,q_1> = |110>)\n",
    "\n",
    "    # Simulate time evolution under H_heis3 Hamiltonian\n",
    "    for _ in range(0, trotter_steps + 1):\n",
    "        qc.append(Trot_gate, [qr[1], qr[2]])\n",
    "        \n",
    "    qc.cx(qr[1], qr[0])\n",
    "    qc.cx(qr[2], qr[1])\n",
    "\n",
    "    # Evaluate simulation at target_time (t=pi) meaning each trotter step evolves pi/trotter_steps in time\n",
    "    qc = qc.bind_parameters({dt: target_time / trotter_steps})\n",
    "    t0_qc = transpile(qc, optimization_level=0, basis_gates=[\"sx\",\"rz\",\"cx\"])\n",
    "    t0_qc = t0_qc.reverse_bits()\n",
    "    t0_qc.measure(qr, cr)\n",
    "    print(\"circuit depth: \", t0_qc.depth())\n",
    "    \n",
    "    job = execute(t0_qc, backend=backend, shots=shots, optimization_level=0)\n",
    "    print(\"pribability distribution: \", job.result().get_counts())\n",
    "    \n",
    "    counts_110.append(job.result().get_counts().get(\"110\", 0))\n",
    "    # counts_10.append(job.result().get_counts().get(\"10\", 0))\n",
    "    print()"
   ]
  },
  {
   "cell_type": "code",
   "execution_count": 21,
   "id": "ebee9c0c",
   "metadata": {},
   "outputs": [
    {
     "data": {
      "text/plain": [
       "Text(0.5, 1.0, 'counts of |110>')"
      ]
     },
     "execution_count": 21,
     "metadata": {},
     "output_type": "execute_result"
    },
    {
     "data": {
      "image/png": "[encoded data removed]",
      "text/plain": [
       "<Figure size 432x288 with 1 Axes>"
      ]
     },
     "metadata": {
      "needs_background": "light"
     },
     "output_type": "display_data"
    }
   ],
   "source": [
    "plt.plot(range(1,15), counts_110)\n",
    "plt.xlabel(\"trotter steps\")\n",
    "plt.ylabel(\"shot counts of 110\")\n",
    "plt.title(\"counts of |110>\")"
   ]
  },
  {
   "cell_type": "code",
   "execution_count": 15,
   "id": "c7f08e79",
   "metadata": {},
   "outputs": [
    {
     "data": {
      "text/plain": [
       "Text(0.5, 1.0, 'counts of |01>')"
      ]
     },
     "execution_count": 15,
     "metadata": {},
     "output_type": "execute_result"
    },
    {
     "data": {
      "image/png": "[encoded data removed]",
      "text/plain": [
       "<Figure size 432x288 with 1 Axes>"
      ]
     },
     "metadata": {
      "needs_background": "light"
     },
     "output_type": "display_data"
    }
   ],
   "source": [
    "plt.plot(range(1,15), counts_01)\n",
    "plt.xlabel(\"trotter steps\")\n",
    "plt.ylabel(\"shot counts of 01\")\n",
    "plt.title(\"counts of |01>\")"
   ]
  },
  {
   "cell_type": "code",
   "execution_count": null,
   "id": "0ad4c506",
   "metadata": {},
   "outputs": [],
   "source": []
  }
 ],
 "metadata": {
  "kernelspec": {
   "display_name": "Python 3 (ipykernel)",
   "language": "python",
   "name": "python3"
  },
  "language_info": {
   "codemirror_mode": {
    "name": "ipython",
    "version": 3
   },
   "file_extension": ".py",
   "mimetype": "text/x-python",
   "name": "python",
   "nbconvert_exporter": "python",
   "pygments_lexer": "ipython3",
   "version": "3.9.7"
  }
 },
 "nbformat": 4,
 "nbformat_minor": 5
}
