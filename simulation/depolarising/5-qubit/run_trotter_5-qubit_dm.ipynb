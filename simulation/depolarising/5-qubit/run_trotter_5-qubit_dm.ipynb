{
 "cells": [
  {
   "cell_type": "code",
   "execution_count": 1,
   "id": "f793a4a9",
   "metadata": {},
   "outputs": [],
   "source": [
    "import numpy as np\n",
    "import scipy as sp\n",
    "import matplotlib.pyplot as plt\n",
    "from pprint import pprint\n",
    "import pickle\n",
    "import time\n",
    "import datetime"
   ]
  },
  {
   "cell_type": "code",
   "execution_count": 2,
   "id": "77f983ed",
   "metadata": {},
   "outputs": [],
   "source": [
    "# Import qubit states Zero (|0>) and One (|1>), and Pauli operators (X, Y, Z)\n",
    "from qiskit.circuit import QuantumCircuit, QuantumRegister, Parameter\n",
    "# from qiskit.tools.monitor import job_monitor\n",
    "from qiskit.compiler import transpile\n",
    "from qiskit.transpiler.passes import RemoveBarriers"
   ]
  },
  {
   "cell_type": "code",
   "execution_count": 3,
   "id": "ee3ce658",
   "metadata": {},
   "outputs": [],
   "source": [
    "# Import state tomography modules\n",
    "from qiskit_experiments.library import StateTomography\n",
    "from osp_solutions.patch_ignis import rename_qcs_StateTomography_to_ignis\n",
    "from osp_solutions.tomography import StateTomographyFitter\n",
    "from qiskit.quantum_info import state_fidelity"
   ]
  },
  {
   "cell_type": "code",
   "execution_count": 4,
   "id": "6ce3879c",
   "metadata": {},
   "outputs": [],
   "source": [
    "from osp_solutions.circuits import append_block_trotter, append_block_trotter_proposed, append_initial_state, append_block_trotter_aj, append_block_trotter_negishi\n",
    "from osp_solutions.simulator_dm import make_dm_binary, hamiltonian_to_dm, DMExtended\n",
    "from osp_solutions.hamiltonian import Hamiltonian, make_H_Heisenberg\n",
    "from osp_solutions.backend_simulator import result_to_dms"
   ]
  },
  {
   "cell_type": "code",
   "execution_count": 5,
   "id": "d105177a",
   "metadata": {},
   "outputs": [
    {
     "name": "stdout",
     "output_type": "stream",
     "text": [
      "NoiseModel:\n",
      "  Basis gates: ['cx', 'cz', 'h', 'id', 'rx', 'rz', 's', 'sdg', 'sx', 'u1', 'u2', 'u3', 'x']\n",
      "  Instructions with noise: ['sx', 'rz', 'u2', 'rx', 's', 'u1', 'x', 'cz', 'u3', 'h', 'sdg']\n",
      "  All-qubits errors: ['rx', 'rz', 'sx', 'h', 'sdg', 's', 'x', 'u1', 'u2', 'u3', 'cz']\n",
      "\n"
     ]
    }
   ],
   "source": [
    "from qiskit_aer import AerSimulator\n",
    "from qiskit_aer.noise import NoiseModel, pauli_error\n",
    "# from qiskit_ibm_runtime.fake_provider import FakeJakartaV2\n",
    "# backend = AerSimulator.from_backend(FakeJakartaV2())\n",
    "# backend = Aer.get_backend(\"qasm_simulator\")\n",
    "p_dep1 = 1.0 * 1e-4\n",
    "error_dep1 = pauli_error([(\"I\", 1 - 3 * p_dep1 / 4), (\"X\", p_dep1 / 4), (\"Y\", p_dep1 / 4), (\"Z\", p_dep1 / 4)])\n",
    "# error_dep2_local = error_dep1.tensor(error_dep1)\n",
    "\n",
    "p_dep2 = 1.0 * 1e-3\n",
    "error_dep2_global = pauli_error([(\"II\", 1 - 15 * p_dep2 / 16), (\"IX\", p_dep2 / 16), (\"IY\", p_dep2 / 16), (\"IZ\", p_dep2 / 16),\n",
    "                                 (\"XI\", p_dep2 / 16), (\"XX\", p_dep2 / 16), (\"XY\", p_dep2 / 16), (\"XZ\", p_dep2 / 16),\n",
    "                                 (\"YI\", p_dep2 / 16), (\"YX\", p_dep2 / 16), (\"YY\", p_dep2 / 16), (\"YZ\", p_dep2 / 16),\n",
    "                                 (\"ZI\", p_dep2 / 16), (\"ZX\", p_dep2 / 16), (\"ZY\", p_dep2 / 16), (\"ZZ\", p_dep2 / 16)])\n",
    "\n",
    "# print(error_dep2_global)\n",
    "\n",
    "# Add errors to noise model\n",
    "noise_model = NoiseModel()\n",
    "noise_model.add_all_qubit_quantum_error(error_dep1, [\"rx\", \"rz\", \"sx\", \"h\", \"sdg\", \"s\", \"x\", \"u1\", \"u2\", \"u3\"])\n",
    "noise_model.add_all_qubit_quantum_error(error_dep2_global, [\"cz\"])\n",
    "# noise_model.add_all_qubit_quantum_error(error_3, [\"cswap\", \"ccx\"])\n",
    "print(noise_model)\n",
    "print()\n",
    "\n",
    "# Create noisy simulator backend\n",
    "simulator_noisy = AerSimulator(method=\"density_matrix\",\n",
    "                               noise_model=noise_model)\n",
    "simulator_ideal = AerSimulator(method=\"density_matrix\")"
   ]
  },
  {
   "cell_type": "code",
   "execution_count": 6,
   "id": "9ac18b1b",
   "metadata": {},
   "outputs": [
    {
     "name": "stdout",
     "output_type": "stream",
     "text": [
      "trotter step list:  [4, 8, 12, 16, 20, 24, 28, 32, 36, 40, 44, 48, 52, 56, 60, 64, 68, 72, 76, 80, 84, 88, 92, 96]\n"
     ]
    },
    {
     "data": {
      "text/plain": [
       "True"
      ]
     },
     "execution_count": 6,
     "metadata": {},
     "output_type": "execute_result"
    }
   ],
   "source": [
    "num_qubits = 5\n",
    "\n",
    "# The final time of the state evolution\n",
    "time_evolution = np.pi / 2\n",
    "\n",
    "# Parameterize variable t to be evaluated at t=pi later\n",
    "dt = Parameter('t')\n",
    "\n",
    "# initial layout\n",
    "# initial_layout = [5,3,1]\n",
    "initial_layout = list(range(num_qubits))\n",
    "\n",
    "# Number of trotter steps\n",
    "# num_steps_list = [4,10,50,100,200] # ,20,30,40,50] # ,60,70,80,90,100]\n",
    "num_steps_list = list(range(4,100,4))\n",
    "print(\"trotter step list: \", num_steps_list)\n",
    "\n",
    "# scale_factors = [1.0, 2.0, 3.0] # unused for this file\n",
    "\n",
    "# shots = 1 << 13\n",
    "reps = 1\n",
    "\n",
    "state_initial_str = \"11010\" ### specify initial state\n",
    "state_initial_dm = DMExtended(matrix=make_dm_binary(str_binary=state_initial_str, \n",
    "                                                    endian_binary=\"little_endian\", \n",
    "                                                    endian_dm=\"big_endian\")) ### make the density matrix for the initial state\n",
    "\n",
    "H_Heisenberg = make_H_Heisenberg(num_qubits=num_qubits) ### create Heisenberg Hamiltonian in a dictionary format\n",
    "matrix_Heisenberg = hamiltonian_to_dm(hamiltonian=H_Heisenberg) ### convert Heisenberg Hamiltonian to its matrix form\n",
    "\n",
    "U_Heisenberg = DMExtended(sp.linalg.expm(-1.0j * matrix_Heisenberg * time_evolution)) ### prepare the unitary matrix of the Heisenberg Hamiltonian\n",
    "\n",
    "state_target_dm = state_initial_dm.apply_unitary(U_Heisenberg) ### apply the unitary evolution to the density matrix\n",
    "state_target_dm.is_valid()"
   ]
  },
  {
   "cell_type": "code",
   "execution_count": 7,
   "id": "d740f1d4",
   "metadata": {
    "scrolled": true
   },
   "outputs": [
    {
     "name": "stdout",
     "output_type": "stream",
     "text": [
      "trotter steps:  4\n",
      "raw state tomography fidelity = 0.5792 ± 0.0000\n",
      "number of CNOT gates: 48\n",
      "time: 0.02453229099046439\n",
      "\n",
      "trotter steps:  8\n",
      "raw state tomography fidelity = 0.7402 ± 0.1610\n",
      "number of CNOT gates: 96\n",
      "time: 0.02083670801948756\n",
      "\n",
      "trotter steps:  12\n",
      "raw state tomography fidelity = 0.8067 ± 0.1616\n",
      "number of CNOT gates: 144\n",
      "time: 0.027571875019930303\n",
      "\n",
      "trotter steps:  16\n",
      "raw state tomography fidelity = 0.8413 ± 0.1523\n",
      "number of CNOT gates: 192\n",
      "time: 0.038125291001051664\n",
      "\n",
      "trotter steps:  20\n",
      "raw state tomography fidelity = 0.8615 ± 0.1421\n",
      "number of CNOT gates: 240\n",
      "time: 0.04356662498321384\n",
      "\n",
      "trotter steps:  24\n",
      "raw state tomography fidelity = 0.8741 ± 0.1327\n",
      "number of CNOT gates: 288\n",
      "time: 0.04712329199537635\n",
      "\n",
      "trotter steps:  28\n",
      "raw state tomography fidelity = 0.8820 ± 0.1244\n",
      "number of CNOT gates: 336\n",
      "time: 0.05529691698029637\n",
      "\n",
      "trotter steps:  32\n",
      "raw state tomography fidelity = 0.8871 ± 0.1171\n",
      "number of CNOT gates: 384\n",
      "time: 0.12765612499788404\n",
      "\n",
      "trotter steps:  36\n",
      "raw state tomography fidelity = 0.8901 ± 0.1107\n",
      "number of CNOT gates: 432\n",
      "time: 0.07706437492743134\n",
      "\n",
      "trotter steps:  40\n",
      "raw state tomography fidelity = 0.8917 ± 0.1052\n",
      "number of CNOT gates: 480\n",
      "time: 0.08120070805307478\n",
      "\n",
      "trotter steps:  44\n",
      "raw state tomography fidelity = 0.8923 ± 0.1003\n",
      "number of CNOT gates: 528\n",
      "time: 0.09601787501014769\n",
      "\n",
      "trotter steps:  48\n",
      "raw state tomography fidelity = 0.8921 ± 0.0960\n",
      "number of CNOT gates: 576\n",
      "time: 0.09060141700319946\n",
      "\n",
      "trotter steps:  52\n",
      "raw state tomography fidelity = 0.8913 ± 0.0923\n",
      "number of CNOT gates: 624\n",
      "time: 0.09659149998333305\n",
      "\n",
      "trotter steps:  56\n",
      "raw state tomography fidelity = 0.8900 ± 0.0891\n",
      "number of CNOT gates: 672\n",
      "time: 0.10417433292604983\n",
      "\n",
      "trotter steps:  60\n",
      "raw state tomography fidelity = 0.8884 ± 0.0863\n",
      "number of CNOT gates: 720\n",
      "time: 0.11254058300983161\n",
      "\n",
      "trotter steps:  64\n",
      "raw state tomography fidelity = 0.8864 ± 0.0838\n",
      "number of CNOT gates: 768\n",
      "time: 0.12529395800083876\n",
      "\n",
      "trotter steps:  68\n",
      "raw state tomography fidelity = 0.8843 ± 0.0818\n",
      "number of CNOT gates: 816\n",
      "time: 0.14171166706364602\n",
      "\n",
      "trotter steps:  72\n",
      "raw state tomography fidelity = 0.8819 ± 0.0801\n",
      "number of CNOT gates: 864\n",
      "time: 0.2227710000006482\n",
      "\n",
      "trotter steps:  76\n",
      "raw state tomography fidelity = 0.8794 ± 0.0787\n",
      "number of CNOT gates: 912\n",
      "time: 0.13721345795784146\n",
      "\n",
      "trotter steps:  80\n",
      "raw state tomography fidelity = 0.8767 ± 0.0776\n",
      "number of CNOT gates: 960\n",
      "time: 0.14936820790171623\n",
      "\n",
      "trotter steps:  84\n",
      "raw state tomography fidelity = 0.8739 ± 0.0767\n",
      "number of CNOT gates: 1008\n",
      "time: 0.1529356660321355\n",
      "\n",
      "trotter steps:  88\n",
      "raw state tomography fidelity = 0.8711 ± 0.0761\n",
      "number of CNOT gates: 1056\n",
      "time: 0.15530204202514142\n",
      "\n",
      "trotter steps:  92\n",
      "raw state tomography fidelity = 0.8681 ± 0.0757\n",
      "number of CNOT gates: 1104\n",
      "time: 0.17022170790005475\n",
      "\n",
      "trotter steps:  96\n",
      "raw state tomography fidelity = 0.8651 ± 0.0755\n",
      "number of CNOT gates: 1152\n",
      "time: 0.21259016590192914\n",
      "\n"
     ]
    }
   ],
   "source": [
    "fidelities = []\n",
    "nums_cnots = []\n",
    "\n",
    "for num_steps in num_steps_list:\n",
    "    \n",
    "    print(\"trotter steps: \", num_steps)\n",
    "    t1 = time.perf_counter()\n",
    "    \n",
    "    # Initialize quantum circuit for 3 qubits\n",
    "    qr = QuantumRegister(num_qubits, \n",
    "                         name=\"q\")\n",
    "    qc = QuantumCircuit(qr)\n",
    "\n",
    "    # Prepare initial state\n",
    "    append_initial_state(qc=qc, \n",
    "                         state_initial_str=state_initial_str)\n",
    "    append_block_trotter_negishi(qc=qc, \n",
    "                            dt=dt, \n",
    "                            num_steps=num_steps)\n",
    "\n",
    "    # Evaluate simulation at target_time (t=pi) meaning each trotter step evolves pi/trotter_steps in time\n",
    "    qc = qc.assign_parameters({dt: time_evolution / num_steps})\n",
    "    qc_t3 = transpile(RemoveBarriers()(qc), optimization_level=3, basis_gates=[\"sx\", \"cx\", \"rz\"])\n",
    "    qc_t3.save_density_matrix()\n",
    "    \n",
    "    ### execute circuits\n",
    "    result_raw = simulator_noisy.run(qc_t3,\n",
    "                                        shots=0,\n",
    "                                        ).result()\n",
    "    dm_raw = result_to_dms(result=result_raw,\n",
    "                        endian_dm=\"big\")[0]\n",
    "\n",
    "    fidelities.append(state_fidelity(dm_raw, state_target_dm))\n",
    "    nums_cnots.append(qc_t3.count_ops().get(\"cx\"))\n",
    "    \n",
    "    t2 = time.perf_counter()\n",
    "    print('raw state tomography fidelity = {:.4f} \\u00B1 {:.4f}'.format(np.mean(fidelities), np.std(fidelities)))\n",
    "    print(\"number of CNOT gates:\", qc_t3.count_ops().get(\"cx\"))\n",
    "    print(\"time:\", t2 - t1)\n",
    "    print()"
   ]
  },
  {
   "cell_type": "code",
   "execution_count": 8,
   "id": "348e5fd4",
   "metadata": {},
   "outputs": [],
   "source": [
    "with open(\"run_trotter_\"+str(num_qubits)+\"-qubit_dm.pkl\", \"wb\") as f:\n",
    "    pickle.dump({\"num_steps_list\": num_steps_list, \"fidelities\": fidelities, \"nums_cnots\": nums_cnots}, f)"
   ]
  },
  {
   "cell_type": "code",
   "execution_count": 9,
   "id": "3e814d09",
   "metadata": {},
   "outputs": [
    {
     "data": {
      "image/png": "[encoded data removed]",
      "text/plain": [
       "<Figure size 640x480 with 1 Axes>"
      ]
     },
     "metadata": {},
     "output_type": "display_data"
    }
   ],
   "source": [
    "plt.plot(num_steps_list, fidelities)\n",
    "plt.xlabel(\"Trotter steps\")\n",
    "plt.ylabel(\"state fidelity\")\n",
    "plt.show()"
   ]
  },
  {
   "cell_type": "code",
   "execution_count": 10,
   "id": "bd2d0d33",
   "metadata": {},
   "outputs": [],
   "source": [
    "# qc.draw(\"mpl\")"
   ]
  },
  {
   "cell_type": "code",
   "execution_count": 11,
   "id": "356449d9",
   "metadata": {},
   "outputs": [],
   "source": [
    "# t3_st_qcs[0].draw(\"mpl\")"
   ]
  },
  {
   "cell_type": "code",
   "execution_count": 12,
   "id": "4ea9d294",
   "metadata": {},
   "outputs": [
    {
     "name": "stdout",
     "output_type": "stream",
     "text": [
      "AerSimulator('aer_simulator_density_matrix'\n",
      "             noise_model=<NoiseModel on ['sx', 'rz', 'u2', 'rx', 's', 'u1', 'x', 'cz', 'u3', 'h', 'sdg']>)\n"
     ]
    }
   ],
   "source": [
    "print(simulator_noisy)"
   ]
  }
 ],
 "metadata": {
  "kernelspec": {
   "display_name": ".venv (3.11.3)",
   "language": "python",
   "name": "python3"
  },
  "language_info": {
   "codemirror_mode": {
    "name": "ipython",
    "version": 3
   },
   "file_extension": ".py",
   "mimetype": "text/x-python",
   "name": "python",
   "nbconvert_exporter": "python",
   "pygments_lexer": "ipython3",
   "version": "3.11.3"
  }
 },
 "nbformat": 4,
 "nbformat_minor": 5
}
