{
 "cells": [
  {
   "cell_type": "code",
   "execution_count": 1,
   "id": "f793a4a9",
   "metadata": {},
   "outputs": [],
   "source": [
    "import numpy as np\n",
    "import scipy as sp\n",
    "import matplotlib.pyplot as plt\n",
    "from pprint import pprint\n",
    "import pickle\n",
    "import time\n",
    "import datetime"
   ]
  },
  {
   "cell_type": "code",
   "execution_count": 2,
   "id": "77f983ed",
   "metadata": {},
   "outputs": [],
   "source": [
    "# Import qubit states Zero (|0>) and One (|1>), and Pauli operators (X, Y, Z)\n",
    "from qiskit.circuit import QuantumCircuit, QuantumRegister, Parameter\n",
    "# from qiskit.tools.monitor import job_monitor\n",
    "from qiskit.compiler import transpile\n",
    "from qiskit.transpiler.passes import RemoveBarriers"
   ]
  },
  {
   "cell_type": "code",
   "execution_count": 3,
   "id": "ee3ce658",
   "metadata": {},
   "outputs": [],
   "source": [
    "# Import state tomography modules\n",
    "from qiskit_experiments.library import StateTomography\n",
    "from osp_solutions.patch_ignis import rename_qcs_StateTomography_to_ignis\n",
    "from osp_solutions.tomography import StateTomographyFitter\n",
    "from qiskit.quantum_info import state_fidelity"
   ]
  },
  {
   "cell_type": "code",
   "execution_count": 4,
   "id": "6ce3879c",
   "metadata": {},
   "outputs": [],
   "source": [
    "from osp_solutions.circuits import append_block_trotter, append_block_trotter_proposed, append_initial_state"
   ]
  },
  {
   "cell_type": "code",
   "execution_count": 5,
   "id": "d105177a",
   "metadata": {},
   "outputs": [
    {
     "name": "stdout",
     "output_type": "stream",
     "text": [
      "NoiseModel: Ideal\n",
      "\n"
     ]
    }
   ],
   "source": [
    "from qiskit_aer import AerSimulator\n",
    "from qiskit_aer.noise import NoiseModel, pauli_error\n",
    "# from qiskit_ibm_runtime.fake_provider import FakeJakartaV2\n",
    "# backend = AerSimulator.from_backend(FakeJakartaV2())\n",
    "# backend = Aer.get_backend(\"qasm_simulator\")\n",
    "p_dep1 = 0 # 1.0 * 1e-4\n",
    "error_dep1 = pauli_error([(\"I\", 1 - 3 * p_dep1 / 4), (\"X\", p_dep1 / 4), (\"Y\", p_dep1 / 4), (\"Z\", p_dep1 / 4)])\n",
    "# error_dep2_local = error_dep1.tensor(error_dep1)\n",
    "\n",
    "p_dep2 = 0 # 1.0 * 1e-3\n",
    "error_dep2_global = pauli_error([(\"II\", 1 - 15 * p_dep2 / 16), (\"IX\", p_dep2 / 16), (\"IY\", p_dep2 / 16), (\"IZ\", p_dep2 / 16),\n",
    "                                 (\"XI\", p_dep2 / 16), (\"XX\", p_dep2 / 16), (\"XY\", p_dep2 / 16), (\"XZ\", p_dep2 / 16),\n",
    "                                 (\"YI\", p_dep2 / 16), (\"YX\", p_dep2 / 16), (\"YY\", p_dep2 / 16), (\"YZ\", p_dep2 / 16),\n",
    "                                 (\"ZI\", p_dep2 / 16), (\"ZX\", p_dep2 / 16), (\"ZY\", p_dep2 / 16), (\"ZZ\", p_dep2 / 16)])\n",
    "\n",
    "# print(error_dep2_global)\n",
    "\n",
    "# Add errors to noise model\n",
    "noise_model = NoiseModel()\n",
    "noise_model.add_all_qubit_quantum_error(error_dep1, [\"rx\", \"rz\", \"sx\", \"h\", \"sdg\", \"s\", \"x\", \"u1\", \"u2\", \"u3\"])\n",
    "noise_model.add_all_qubit_quantum_error(error_dep2_global, [\"cz\"])\n",
    "# noise_model.add_all_qubit_quantum_error(error_3, [\"cswap\", \"ccx\"])\n",
    "print(noise_model)\n",
    "print()\n",
    "\n",
    "# Create noisy simulator backend\n",
    "simulator_noisy = AerSimulator(method=\"density_matrix\",\n",
    "                               noise_model=noise_model)"
   ]
  },
  {
   "cell_type": "code",
   "execution_count": 6,
   "id": "f9ac9f31",
   "metadata": {},
   "outputs": [],
   "source": [
    "from osp_solutions.simulator_dm import make_dm_binary, hamiltonian_to_dm, DMExtended\n",
    "from osp_solutions.hamiltonian import Hamiltonian, make_H_Heisenberg"
   ]
  },
  {
   "cell_type": "code",
   "execution_count": 7,
   "id": "9ac18b1b",
   "metadata": {},
   "outputs": [
    {
     "name": "stdout",
     "output_type": "stream",
     "text": [
      "trotter step list:  [4, 10, 50, 100]\n"
     ]
    },
    {
     "data": {
      "text/plain": [
       "True"
      ]
     },
     "execution_count": 7,
     "metadata": {},
     "output_type": "execute_result"
    }
   ],
   "source": [
    "num_qubits = 3\n",
    "\n",
    "# The final time of the state evolution\n",
    "time_evolution = np.pi\n",
    "\n",
    "# Parameterize variable t to be evaluated at t=pi later\n",
    "dt = Parameter('t')\n",
    "\n",
    "# initial layout\n",
    "# initial_layout = [5,3,1]\n",
    "initial_layout = list(range(num_qubits))\n",
    "\n",
    "# Number of trotter steps\n",
    "# num_steps_list = [4,6,8,10,20,30] # ,20,30,40,50] # ,60,70,80,90,100]\n",
    "num_steps_list = [4,10,50,100]\n",
    "print(\"trotter step list: \", num_steps_list)\n",
    "\n",
    "# scale_factors = [1.0, 2.0, 3.0] # unused for this file\n",
    "\n",
    "shots = 1 << 13\n",
    "reps = 8\n",
    "\n",
    "state_initial_str = \"101\"\n",
    "state_initial_dm = DMExtended(matrix=make_dm_binary(state_initial_str, \n",
    "                                                    endian_binary=\"little_endian\", \n",
    "                                                    endian_dm=\"big_endian\"))\n",
    "\n",
    "H_Heisenberg = make_H_Heisenberg(num_qubits=num_qubits)\n",
    "matrix_Heisenberg = hamiltonian_to_dm(hamiltonian=H_Heisenberg)\n",
    "\n",
    "U_Heisenberg = DMExtended(sp.linalg.expm(-1.0j * matrix_Heisenberg * time_evolution))\n",
    "\n",
    "state_target_dm = state_initial_dm.apply_unitary(U_Heisenberg)\n",
    "state_target_dm.is_valid()"
   ]
  },
  {
   "cell_type": "code",
   "execution_count": 8,
   "id": "d740f1d4",
   "metadata": {
    "scrolled": true
   },
   "outputs": [
    {
     "name": "stdout",
     "output_type": "stream",
     "text": [
      "trotter steps:  4\n",
      "created qc\n",
      "created st_qcs (length: 27 )\n",
      "removed barriers from st_qcs\n",
      "created t3_st_qcs (length: 27 )\n",
      "raw state tomography fidelity = 0.0003 ± 0.0004\n",
      "time: 1.8446303330129012\n",
      "\n",
      "trotter steps:  10\n",
      "created qc\n",
      "created st_qcs (length: 27 )\n",
      "removed barriers from st_qcs\n",
      "created t3_st_qcs (length: 27 )\n",
      "raw state tomography fidelity = 0.9618 ± 0.0008\n",
      "time: 2.350975167006254\n",
      "\n",
      "trotter steps:  50\n",
      "created qc\n",
      "created st_qcs (length: 27 )\n",
      "removed barriers from st_qcs\n",
      "created t3_st_qcs (length: 27 )\n",
      "raw state tomography fidelity = 0.9960 ± 0.0009\n",
      "time: 5.030599999940023\n",
      "\n",
      "trotter steps:  100\n",
      "created qc\n",
      "created st_qcs (length: 27 )\n",
      "removed barriers from st_qcs\n",
      "created t3_st_qcs (length: 27 )\n",
      "raw state tomography fidelity = 0.9958 ± 0.0010\n",
      "time: 8.33021079201717\n",
      "\n"
     ]
    }
   ],
   "source": [
    "raw_fid_list = []\n",
    "raw_stddev_list = []\n",
    "\n",
    "for num_steps in num_steps_list:\n",
    "    \n",
    "    print(\"trotter steps: \", num_steps)\n",
    "    t1 = time.perf_counter()\n",
    "    \n",
    "    # Initialize quantum circuit for 3 qubits\n",
    "    qr = QuantumRegister(num_qubits, \n",
    "                         name=\"q\")\n",
    "    qc = QuantumCircuit(qr)\n",
    "\n",
    "    # Prepare initial state\n",
    "    append_initial_state(qc=qc, \n",
    "                         state_initial_str=state_initial_str)\n",
    "\n",
    "    append_block_trotter(qc=qc, \n",
    "                         dt=dt, \n",
    "                         num_steps=num_steps)\n",
    "\n",
    "    # Evaluate simulation at target_time (t=pi) meaning each trotter step evolves pi/trotter_steps in time\n",
    "    qc = qc.assign_parameters({dt: time_evolution / num_steps})\n",
    "    print(\"created qc\")\n",
    "\n",
    "    # Generate state tomography circuits to evaluate fidelity of simulation\n",
    "    st_qcs = StateTomography(qc).circuits()  #! state tomography requires === BIG ENDIAN === \n",
    "    st_qcs = rename_qcs_StateTomography_to_ignis(st_qcs)\n",
    "    print(\"created st_qcs (length:\", len(st_qcs), \")\")\n",
    "\n",
    "    # remove barriers\n",
    "    st_qcs = [RemoveBarriers()(qc) for qc in st_qcs]\n",
    "    print(\"removed barriers from st_qcs\")\n",
    "\n",
    "    # optimize circuit\n",
    "    t3_st_qcs = transpile(st_qcs, optimization_level=3, basis_gates=[\"sx\", \"cx\", \"rz\"])\n",
    "    t3_st_qcs = transpile(t3_st_qcs, optimization_level=3, basis_gates=[\"sx\", \"cx\", \"rz\"])\n",
    "    print(\"created t3_st_qcs (length:\", len(t3_st_qcs), \")\")\n",
    "    \n",
    "    ### execute circuits, 8 iterations\n",
    "    raw_fids = []\n",
    "    for _ in range(reps):\n",
    "        raw_results = simulator_noisy.run(t3_st_qcs,\n",
    "                                          shots=shots,\n",
    "                                         ).result()\n",
    "        raw_rho = StateTomographyFitter(raw_results, \n",
    "                                        t3_st_qcs).fit(method='lstsq')\n",
    "        raw_fids.append(state_fidelity(raw_rho, state_target_dm))\n",
    "\n",
    "    raw_fid_list.append(np.mean(raw_fids))\n",
    "    raw_stddev_list.append(np.std(raw_fids))\n",
    "    \n",
    "    t2 = time.perf_counter()\n",
    "    print('raw state tomography fidelity = {:.4f} \\u00B1 {:.4f}'.format(np.mean(raw_fids), np.std(raw_fids)))\n",
    "    print(\"time:\", t2 - t1)\n",
    "    print()"
   ]
  },
  {
   "cell_type": "code",
   "execution_count": 9,
   "id": "348e5fd4",
   "metadata": {},
   "outputs": [],
   "source": [
    "with open(\"run_trotter_\"+str(num_qubits)+\"-qubit.pkl\", \"wb\") as f:\n",
    "    pickle.dump({\"num_steps_list\": num_steps_list, \"fid\": raw_fid_list, \"stddev\": raw_stddev_list}, f)"
   ]
  },
  {
   "cell_type": "code",
   "execution_count": 10,
   "id": "3e814d09",
   "metadata": {},
   "outputs": [
    {
     "data": {
      "text/plain": [
       "Text(0, 0.5, 'state fidelity')"
      ]
     },
     "execution_count": 10,
     "metadata": {},
     "output_type": "execute_result"
    },
    {
     "data": {
      "image/png": "[encoded data removed]",
      "text/plain": [
       "<Figure size 640x480 with 1 Axes>"
      ]
     },
     "metadata": {},
     "output_type": "display_data"
    }
   ],
   "source": [
    "plt.plot(num_steps_list, raw_fid_list)\n",
    "plt.xlabel(\"Trotter steps\")\n",
    "plt.ylabel(\"state fidelity\")"
   ]
  },
  {
   "cell_type": "code",
   "execution_count": 11,
   "id": "bd2d0d33",
   "metadata": {},
   "outputs": [],
   "source": [
    "# qc.draw(\"mpl\")"
   ]
  },
  {
   "cell_type": "code",
   "execution_count": 12,
   "id": "356449d9",
   "metadata": {},
   "outputs": [],
   "source": [
    "# t3_st_qcs[0].draw(\"mpl\")"
   ]
  },
  {
   "cell_type": "code",
   "execution_count": 13,
   "id": "4ea9d294",
   "metadata": {},
   "outputs": [
    {
     "name": "stdout",
     "output_type": "stream",
     "text": [
      "AerSimulator('aer_simulator_density_matrix')\n"
     ]
    }
   ],
   "source": [
    "print(simulator_noisy)"
   ]
  }
 ],
 "metadata": {
  "kernelspec": {
   "display_name": ".venv (3.11.3)",
   "language": "python",
   "name": "python3"
  },
  "language_info": {
   "codemirror_mode": {
    "name": "ipython",
    "version": 3
   },
   "file_extension": ".py",
   "mimetype": "text/x-python",
   "name": "python",
   "nbconvert_exporter": "python",
   "pygments_lexer": "ipython3",
   "version": "3.11.3"
  }
 },
 "nbformat": 4,
 "nbformat_minor": 5
}
