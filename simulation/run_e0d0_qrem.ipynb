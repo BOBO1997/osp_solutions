{
 "cells": [
  {
   "cell_type": "code",
   "execution_count": 1,
   "id": "f793a4a9",
   "metadata": {},
   "outputs": [],
   "source": [
    "import numpy as np\n",
    "import matplotlib.pyplot as plt\n",
    "from pprint import pprint\n",
    "import pickle\n",
    "import time\n",
    "import datetime"
   ]
  },
  {
   "cell_type": "code",
   "execution_count": 2,
   "id": "77f983ed",
   "metadata": {},
   "outputs": [],
   "source": [
    "# Import qubit states Zero (|0>) and One (|1>), and Pauli operators (X, Y, Z)\n",
    "from qiskit.circuit import QuantumCircuit, QuantumRegister\n",
    "# from qiskit.tools.monitor import job_monitor\n",
    "from qiskit.circuit import Parameter\n",
    "from qiskit.compiler import transpile\n",
    "from qiskit.transpiler.passes import RemoveBarriers"
   ]
  },
  {
   "cell_type": "code",
   "execution_count": 3,
   "id": "44204f81",
   "metadata": {},
   "outputs": [],
   "source": [
    "# Import QREM package\n",
    "from libs_qrem import tensored_meas_cal, TensoredMeasFitter\n",
    "from osp_solutions.ignis_expval import expectation_value\n",
    "from osp_solutions.patch_ignis import rename_qcs_StateTomography_to_ignis"
   ]
  },
  {
   "cell_type": "code",
   "execution_count": 4,
   "id": "00fdda1b",
   "metadata": {},
   "outputs": [],
   "source": [
    "# Import mitiq for zne\n",
    "# unused for this file\n",
    "# import mitiq"
   ]
  },
  {
   "cell_type": "code",
   "execution_count": 5,
   "id": "ee3ce658",
   "metadata": {},
   "outputs": [],
   "source": [
    "# Import state tomography modules\n",
    "from qiskit_experiments.library import StateTomography\n",
    "# from qiskit.ignis_tomography import state_tomography_circuits, StateTomographyFitter\n",
    "from qiskit.quantum_info import state_fidelity"
   ]
  },
  {
   "cell_type": "code",
   "execution_count": 6,
   "id": "6ce3879c",
   "metadata": {},
   "outputs": [],
   "source": [
    "from osp_solutions.circuits import trotter_gate, trotterize, make_initial_state, general_subspace_encoder, general_subspace_decoder "
   ]
  },
  {
   "cell_type": "code",
   "execution_count": 7,
   "id": "d105177a",
   "metadata": {},
   "outputs": [],
   "source": [
    "from qiskit_aer import AerSimulator\n",
    "from qiskit_ibm_runtime.fake_provider import FakeJakartaV2\n",
    "backend = AerSimulator.from_backend(FakeJakartaV2())\n",
    "# backend = Aer.get_backend(\"qasm_simulator\")"
   ]
  },
  {
   "cell_type": "code",
   "execution_count": null,
   "id": "9ac18b1b",
   "metadata": {},
   "outputs": [
    {
     "name": "stdout",
     "output_type": "stream",
     "text": [
      "trotter step list:  [1, 2, 3, 4, 5, 6, 7, 8, 9, 10, 20, 30, 40, 50, 60, 70, 80, 90, 100]\n"
     ]
    }
   ],
   "source": [
    "num_qubits = 3\n",
    "\n",
    "# The final time of the state evolution\n",
    "target_time = np.pi\n",
    "\n",
    "# Parameterize variable t to be evaluated at t=pi later\n",
    "dt = Parameter('t')\n",
    "\n",
    "# Convert custom quantum circuit into a gate\n",
    "trot_gate = trotter_gate(dt)\n",
    "\n",
    "# initial layout\n",
    "initial_layout = [5,3,1]\n",
    "\n",
    "# Number of trotter steps\n",
    "num_steps_list = [1,2,3,4,5,6,7,8,9,10,20,30,40,50,60,70,80,90,100]\n",
    "print(\"trotter step list: \", num_steps_list)\n",
    "\n",
    "scale_factors = [1.0, 2.0, 3.0] # unused for this file\n",
    "\n",
    "shots = 1 << 13\n",
    "reps = 8 # unused\n",
    "\n",
    "Zero = np.array([[1,0],\n",
    "                 [0,0]])\n",
    "One = np.array([[0,0],\n",
    "                [0,1]])\n",
    "target_state = np.kron(Zero, np.kron(One, One)) ###! big endian\n",
    "# target_state = (One^One^Zero).to_matrix() # DO NOT CHANGE!!!"
   ]
  },
  {
   "cell_type": "code",
   "execution_count": 9,
   "id": "e3329a5a",
   "metadata": {},
   "outputs": [],
   "source": [
    "# QREM\n",
    "qr = QuantumRegister(num_qubits, name=\"calq\")\n",
    "meas_calibs, state_labels = tensored_meas_cal(qr=qr, circlabel='mcal')\n",
    "# we have to feed initial_layout to calibration matrix\n",
    "cal_results = backend.run(meas_calibs,\n",
    "                          shots=shots,\n",
    "                          # optimization_level=3, \n",
    "                          # initial_layout = initial_layout,\n",
    "                         ).result()\n",
    "# print('Job ID', cal_job.job_id())\n",
    "\n",
    "# retrieved_cal_job = cal_job\n",
    "# cal_results = retrieved_cal_job.result()\n",
    "meas_fitter = TensoredMeasFitter(cal_results, state_labels, circlabel='mcal')\n",
    "\n",
    "from libs_qrem import LeastNormFilter\n",
    "meas_filter = LeastNormFilter(num_qubits, meas_fitter.cal_matrices)"
   ]
  },
  {
   "cell_type": "code",
   "execution_count": null,
   "id": "d740f1d4",
   "metadata": {
    "scrolled": true
   },
   "outputs": [
    {
     "name": "stdout",
     "output_type": "stream",
     "text": [
      "trotter steps:  1\n",
      "created qc\n",
      "created st_qcs (length: 27 )\n",
      "removed barriers from st_qcs\n",
      "created t3_st_qcs (length: 27 )\n",
      "created t3_zne_qcs (length: 27 )\n",
      "qrem state tomography fidelity = 0.9006 ± 0.0012\n",
      "time: 1.6247029170626774\n",
      "\n",
      "trotter steps:  2\n",
      "created qc\n",
      "created st_qcs (length: 27 )\n",
      "removed barriers from st_qcs\n",
      "created t3_st_qcs (length: 27 )\n",
      "created t3_zne_qcs (length: 27 )\n",
      "qrem state tomography fidelity = 0.9006 ± 0.0010\n",
      "time: 1.5503753341035917\n",
      "\n",
      "trotter steps:  3\n",
      "created qc\n",
      "created st_qcs (length: 27 )\n",
      "removed barriers from st_qcs\n",
      "created t3_st_qcs (length: 27 )\n",
      "created t3_zne_qcs (length: 27 )\n",
      "qrem state tomography fidelity = 0.0796 ± 0.0009\n",
      "time: 1.6789659999776632\n",
      "\n",
      "trotter steps:  4\n",
      "created qc\n",
      "created st_qcs (length: 27 )\n",
      "removed barriers from st_qcs\n",
      "created t3_st_qcs (length: 27 )\n",
      "created t3_zne_qcs (length: 27 )\n",
      "qrem state tomography fidelity = 0.0166 ± 0.0003\n",
      "time: 1.7088418749626726\n",
      "\n",
      "trotter steps:  5\n",
      "created qc\n",
      "created st_qcs (length: 27 )\n",
      "removed barriers from st_qcs\n",
      "created t3_st_qcs (length: 27 )\n",
      "created t3_zne_qcs (length: 27 )\n",
      "qrem state tomography fidelity = 0.2269 ± 0.0011\n",
      "time: 1.6895459169754758\n",
      "\n",
      "trotter steps:  6\n",
      "created qc\n",
      "created st_qcs (length: 27 )\n",
      "removed barriers from st_qcs\n",
      "created t3_st_qcs (length: 27 )\n",
      "created t3_zne_qcs (length: 27 )\n",
      "qrem state tomography fidelity = 0.4901 ± 0.0017\n",
      "time: 1.7081052920548245\n",
      "\n",
      "trotter steps:  7\n",
      "created qc\n",
      "created st_qcs (length: 27 )\n",
      "removed barriers from st_qcs\n",
      "created t3_st_qcs (length: 27 )\n",
      "created t3_zne_qcs (length: 27 )\n",
      "qrem state tomography fidelity = 0.6440 ± 0.0018\n",
      "time: 1.7549508749507368\n",
      "\n",
      "trotter steps:  8\n",
      "created qc\n",
      "created st_qcs (length: 27 )\n",
      "removed barriers from st_qcs\n",
      "created t3_st_qcs (length: 27 )\n",
      "created t3_zne_qcs (length: 27 )\n",
      "qrem state tomography fidelity = 0.7268 ± 0.0013\n",
      "time: 1.6882221249397844\n",
      "\n",
      "trotter steps:  9\n",
      "created qc\n",
      "created st_qcs (length: 27 )\n",
      "removed barriers from st_qcs\n",
      "created t3_st_qcs (length: 27 )\n",
      "created t3_zne_qcs (length: 27 )\n",
      "qrem state tomography fidelity = 0.7715 ± 0.0013\n",
      "time: 1.7075531668961048\n",
      "\n",
      "trotter steps:  10\n",
      "created qc\n",
      "created st_qcs (length: 27 )\n",
      "removed barriers from st_qcs\n",
      "created t3_st_qcs (length: 27 )\n",
      "created t3_zne_qcs (length: 27 )\n",
      "qrem state tomography fidelity = 0.7988 ± 0.0015\n",
      "time: 1.7482180829392746\n",
      "\n",
      "trotter steps:  20\n",
      "created qc\n",
      "created st_qcs (length: 27 )\n",
      "removed barriers from st_qcs\n",
      "created t3_st_qcs (length: 27 )\n",
      "created t3_zne_qcs (length: 27 )\n",
      "qrem state tomography fidelity = 0.8432 ± 0.0008\n",
      "time: 1.7340965840267017\n",
      "\n",
      "trotter steps:  30\n",
      "created qc\n",
      "created st_qcs (length: 27 )\n",
      "removed barriers from st_qcs\n",
      "created t3_st_qcs (length: 27 )\n",
      "created t3_zne_qcs (length: 27 )\n",
      "qrem state tomography fidelity = 0.8466 ± 0.0013\n",
      "time: 1.85034970799461\n",
      "\n",
      "trotter steps:  40\n",
      "created qc\n",
      "created st_qcs (length: 27 )\n",
      "removed barriers from st_qcs\n",
      "created t3_st_qcs (length: 27 )\n",
      "created t3_zne_qcs (length: 27 )\n",
      "qrem state tomography fidelity = 0.8464 ± 0.0012\n",
      "time: 1.7909395000897348\n",
      "\n",
      "trotter steps:  50\n",
      "created qc\n",
      "created st_qcs (length: 27 )\n",
      "removed barriers from st_qcs\n",
      "created t3_st_qcs (length: 27 )\n",
      "created t3_zne_qcs (length: 27 )\n",
      "qrem state tomography fidelity = 0.8463 ± 0.0012\n",
      "time: 1.8915639170445502\n",
      "\n",
      "trotter steps:  60\n",
      "created qc\n",
      "created st_qcs (length: 27 )\n",
      "removed barriers from st_qcs\n",
      "created t3_st_qcs (length: 27 )\n",
      "created t3_zne_qcs (length: 27 )\n",
      "qrem state tomography fidelity = 0.8469 ± 0.0012\n",
      "time: 1.850335375056602\n",
      "\n",
      "trotter steps:  70\n",
      "created qc\n",
      "created st_qcs (length: 27 )\n",
      "removed barriers from st_qcs\n",
      "created t3_st_qcs (length: 27 )\n",
      "created t3_zne_qcs (length: 27 )\n",
      "qrem state tomography fidelity = 0.8465 ± 0.0013\n",
      "time: 1.9466879999963567\n",
      "\n",
      "trotter steps:  80\n",
      "created qc\n",
      "created st_qcs (length: 27 )\n",
      "removed barriers from st_qcs\n",
      "created t3_st_qcs (length: 27 )\n",
      "created t3_zne_qcs (length: 27 )\n",
      "qrem state tomography fidelity = 0.8469 ± 0.0014\n",
      "time: 2.002313790959306\n",
      "\n",
      "trotter steps:  90\n",
      "created qc\n",
      "created st_qcs (length: 27 )\n",
      "removed barriers from st_qcs\n",
      "created t3_st_qcs (length: 27 )\n",
      "created t3_zne_qcs (length: 27 )\n",
      "qrem state tomography fidelity = 0.8469 ± 0.0008\n",
      "time: 2.0351320420159027\n",
      "\n",
      "trotter steps:  100\n",
      "created qc\n",
      "created st_qcs (length: 27 )\n",
      "removed barriers from st_qcs\n",
      "created t3_st_qcs (length: 27 )\n",
      "created t3_zne_qcs (length: 27 )\n",
      "qrem state tomography fidelity = 0.8472 ± 0.0012\n",
      "time: 1.975151333026588\n",
      "\n"
     ]
    }
   ],
   "source": [
    "qrem_fid_list = []\n",
    "qrem_stddev_list = []\n",
    "\n",
    "for num_steps in num_steps_list:\n",
    "    \n",
    "    print(\"trotter steps: \", num_steps)\n",
    "    t1 = time.perf_counter()\n",
    "    \n",
    "    # Initialize quantum circuit for 3 qubits\n",
    "    qr = QuantumRegister(num_qubits, name=\"q\")\n",
    "    qc = QuantumCircuit(qr)\n",
    "\n",
    "    # Prepare initial state (remember we are only evolving 3 of the 7 qubits on jakarta qubits (q_5, q_3, q_1) corresponding to the state |110>)\n",
    "    make_initial_state(qc, \"110\")  # DO NOT MODIFY (|q_5,q_3,q_1> = |110>)\n",
    "\n",
    "    general_subspace_encoder(qc, targets=[0, 1, 2]) # encode\n",
    "    trotterize(qc, trot_gate, num_steps, targets=[1, 2]) # Simulate time evolution under H_heis3 Hamiltonian\n",
    "    general_subspace_decoder(qc, targets=[0, 1, 2]) # decode\n",
    "\n",
    "    # Evaluate simulation at target_time (t=pi) meaning each trotter step evolves pi/trotter_steps in time\n",
    "    #! if num_steps > 1:\n",
    "    qc = qc.assign_parameters({dt: target_time / num_steps})\n",
    "    #! print(qc)\n",
    "    print(\"created qc\")\n",
    "\n",
    "    # Generate state tomography circuits to evaluate fidelity of simulation\n",
    "    st_qcs = StateTomography(qc).circuits()  #! state tomography requires === BIG ENDIAN === \n",
    "    st_qcs = rename_qcs_StateTomography_to_ignis(st_qcs)\n",
    "    # from osp_solutions.tomography import state_tomography_circuits\n",
    "    from osp_solutions.tomography import StateTomographyFitter\n",
    "    # st_qcs = state_tomography_circuits(qc, [0, 1, 2][::-1])  #! state tomography requires === BIG ENDIAN === \n",
    "    print(\"created st_qcs (length:\", len(st_qcs), \")\")\n",
    "\n",
    "    # remove barriers\n",
    "    st_qcs = [RemoveBarriers()(qc) for qc in st_qcs]\n",
    "    print(\"removed barriers from st_qcs\")\n",
    "\n",
    "    # optimize circuit\n",
    "    t3_st_qcs = transpile(st_qcs, optimization_level=3, basis_gates=[\"sx\", \"cx\", \"rz\"])\n",
    "    t3_st_qcs = transpile(t3_st_qcs, optimization_level=3, basis_gates=[\"sx\", \"cx\", \"rz\"])\n",
    "    print(\"created t3_st_qcs (length:\", len(t3_st_qcs), \")\")\n",
    "\n",
    "    # zne wrapping\n",
    "    zne_qcs = t3_st_qcs\n",
    "    # zne_qcs = zne_wrapper(t3_st_qcs, scale_factors = scale_factors, pt = False)\n",
    "    # print(\"created zne_qcs (length:\", len(zne_qcs), \")\")\n",
    "\n",
    "    # optimization_level must be 0\n",
    "    # feed initial_layout here to see the picture of the circuits before casting the job\n",
    "    t3_zne_qcs = transpile(zne_qcs, \n",
    "                           optimization_level=0, \n",
    "                           basis_gates=[\"sx\", \"cx\", \"rz\"], \n",
    "                           initial_layout=initial_layout)\n",
    "    print(\"created t3_zne_qcs (length:\", len(t3_zne_qcs), \")\")\n",
    "    \n",
    "    ### execute circuits, 8 iterations\n",
    "    qrem_fids = []\n",
    "    for _ in range(reps):\n",
    "        raw_results = backend.run(t3_zne_qcs, \n",
    "                                  # backend, \n",
    "                                  shots=shots, \n",
    "                                  optimization_level=0,\n",
    "                                 ).result()\n",
    "        mit_results = meas_filter.apply(raw_results) ### QREM\n",
    "        qrem_rho = StateTomographyFitter(raw_results, t3_zne_qcs).fit(method='lstsq')\n",
    "        qrem_fids.append(state_fidelity(qrem_rho, target_state))\n",
    "\n",
    "    qrem_fid_list.append(np.mean(qrem_fids))\n",
    "    qrem_stddev_list.append(np.std(qrem_fids))\n",
    "    \n",
    "    t2 = time.perf_counter()\n",
    "    print('qrem state tomography fidelity = {:.4f} \\u00B1 {:.4f}'.format(np.mean(qrem_fids), np.std(qrem_fids)))\n",
    "    print(\"time:\", t2 - t1)\n",
    "    print()"
   ]
  },
  {
   "cell_type": "code",
   "execution_count": 12,
   "id": "348e5fd4",
   "metadata": {},
   "outputs": [],
   "source": [
    "with open(\"e0d0_qrem.pkl\", \"wb\") as f:\n",
    "    pickle.dump({\"num_steps_list\": num_steps_list, \"fid\": qrem_fid_list, \"stddev\": qrem_stddev_list}, f)"
   ]
  },
  {
   "cell_type": "code",
   "execution_count": 13,
   "id": "3e814d09",
   "metadata": {},
   "outputs": [
    {
     "data": {
      "text/plain": [
       "[<matplotlib.lines.Line2D at 0x16731da90>]"
      ]
     },
     "execution_count": 13,
     "metadata": {},
     "output_type": "execute_result"
    },
    {
     "data": {
      "image/png": "[encoded data removed]",
      "text/plain": [
       "<Figure size 640x480 with 1 Axes>"
      ]
     },
     "metadata": {},
     "output_type": "display_data"
    }
   ],
   "source": [
    "plt.plot(num_steps_list, qrem_fid_list)"
   ]
  },
  {
   "cell_type": "code",
   "execution_count": 14,
   "id": "356449d9",
   "metadata": {},
   "outputs": [
    {
     "data": {
      "image/png": "[encoded data removed]",
      "text/plain": [
       "<Figure size 2278.86x785.944 with 1 Axes>"
      ]
     },
     "execution_count": 14,
     "metadata": {},
     "output_type": "execute_result"
    }
   ],
   "source": [
    "t3_st_qcs[0].draw(\"mpl\")"
   ]
  },
  {
   "cell_type": "code",
   "execution_count": 18,
   "id": "4ea9d294",
   "metadata": {},
   "outputs": [
    {
     "name": "stdout",
     "output_type": "stream",
     "text": [
      "AerSimulator('aer_simulator_from(fake_jakarta)'\n",
      "             noise_model=<NoiseModel on ['reset', 'x', 'id', 'sx', 'measure', 'cx']>)\n"
     ]
    }
   ],
   "source": [
    "print(backend)"
   ]
  }
 ],
 "metadata": {
  "kernelspec": {
   "display_name": ".venv (3.11.3)",
   "language": "python",
   "name": "python3"
  },
  "language_info": {
   "codemirror_mode": {
    "name": "ipython",
    "version": 3
   },
   "file_extension": ".py",
   "mimetype": "text/x-python",
   "name": "python",
   "nbconvert_exporter": "python",
   "pygments_lexer": "ipython3",
   "version": "3.11.3"
  }
 },
 "nbformat": 4,
 "nbformat_minor": 5
}
