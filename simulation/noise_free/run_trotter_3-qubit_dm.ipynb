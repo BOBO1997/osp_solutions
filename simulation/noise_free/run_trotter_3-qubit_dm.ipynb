{
 "cells": [
  {
   "cell_type": "code",
   "execution_count": 1,
   "id": "f793a4a9",
   "metadata": {},
   "outputs": [],
   "source": [
    "import numpy as np\n",
    "import scipy as sp\n",
    "import matplotlib.pyplot as plt\n",
    "from pprint import pprint\n",
    "import pickle\n",
    "import time\n",
    "import datetime"
   ]
  },
  {
   "cell_type": "code",
   "execution_count": 2,
   "id": "77f983ed",
   "metadata": {},
   "outputs": [],
   "source": [
    "# Import qubit states Zero (|0>) and One (|1>), and Pauli operators (X, Y, Z)\n",
    "from qiskit.circuit import QuantumCircuit, QuantumRegister, Parameter\n",
    "# from qiskit.tools.monitor import job_monitor\n",
    "from qiskit.compiler import transpile\n",
    "from qiskit.transpiler.passes import RemoveBarriers"
   ]
  },
  {
   "cell_type": "code",
   "execution_count": 3,
   "id": "ee3ce658",
   "metadata": {},
   "outputs": [],
   "source": [
    "# Import state tomography modules\n",
    "from qiskit_experiments.library import StateTomography\n",
    "from osp_solutions.patch_ignis import rename_qcs_StateTomography_to_ignis\n",
    "from osp_solutions.tomography import StateTomographyFitter\n",
    "from qiskit.quantum_info import state_fidelity"
   ]
  },
  {
   "cell_type": "code",
   "execution_count": 4,
   "id": "6ce3879c",
   "metadata": {},
   "outputs": [],
   "source": [
    "from osp_solutions.circuits import append_block_trotter, append_block_trotter_proposed, append_initial_state, append_block_trotter_aj, append_block_trotter_negishi\n",
    "from osp_solutions.simulator_dm import make_dm_binary, hamiltonian_to_dm, DMExtended\n",
    "from osp_solutions.hamiltonian import Hamiltonian, make_H_Heisenberg\n",
    "from osp_solutions.backend_simulator import result_to_dms"
   ]
  },
  {
   "cell_type": "code",
   "execution_count": 5,
   "id": "d105177a",
   "metadata": {},
   "outputs": [
    {
     "name": "stdout",
     "output_type": "stream",
     "text": [
      "NoiseModel: Ideal\n",
      "\n"
     ]
    }
   ],
   "source": [
    "from qiskit_aer import AerSimulator\n",
    "from qiskit_aer.noise import NoiseModel, pauli_error\n",
    "# from qiskit_ibm_runtime.fake_provider import FakeJakartaV2\n",
    "# backend = AerSimulator.from_backend(FakeJakartaV2())\n",
    "# backend = Aer.get_backend(\"qasm_simulator\")\n",
    "p_dep1 = 0 # 1.0 * 1e-4\n",
    "error_dep1 = pauli_error([(\"I\", 1 - 3 * p_dep1 / 4), (\"X\", p_dep1 / 4), (\"Y\", p_dep1 / 4), (\"Z\", p_dep1 / 4)])\n",
    "# error_dep2_local = error_dep1.tensor(error_dep1)\n",
    "\n",
    "p_dep2 = 0 # 1.0 * 1e-3\n",
    "error_dep2_global = pauli_error([(\"II\", 1 - 15 * p_dep2 / 16), (\"IX\", p_dep2 / 16), (\"IY\", p_dep2 / 16), (\"IZ\", p_dep2 / 16),\n",
    "                                 (\"XI\", p_dep2 / 16), (\"XX\", p_dep2 / 16), (\"XY\", p_dep2 / 16), (\"XZ\", p_dep2 / 16),\n",
    "                                 (\"YI\", p_dep2 / 16), (\"YX\", p_dep2 / 16), (\"YY\", p_dep2 / 16), (\"YZ\", p_dep2 / 16),\n",
    "                                 (\"ZI\", p_dep2 / 16), (\"ZX\", p_dep2 / 16), (\"ZY\", p_dep2 / 16), (\"ZZ\", p_dep2 / 16)])\n",
    "\n",
    "# print(error_dep2_global)\n",
    "\n",
    "# Add errors to noise model\n",
    "noise_model = NoiseModel()\n",
    "noise_model.add_all_qubit_quantum_error(error_dep1, [\"rx\", \"rz\", \"sx\", \"h\", \"sdg\", \"s\", \"x\", \"u1\", \"u2\", \"u3\"])\n",
    "noise_model.add_all_qubit_quantum_error(error_dep2_global, [\"cz\"])\n",
    "# noise_model.add_all_qubit_quantum_error(error_3, [\"cswap\", \"ccx\"])\n",
    "print(noise_model)\n",
    "print()\n",
    "\n",
    "# Create noisy simulator backend\n",
    "simulator_noisy = AerSimulator(method=\"density_matrix\",\n",
    "                               noise_model=noise_model)\n",
    "simulator_ideal = AerSimulator(method=\"density_matrix\")"
   ]
  },
  {
   "cell_type": "markdown",
   "id": "a9d75341",
   "metadata": {},
   "source": [
    "# Theoretical"
   ]
  },
  {
   "cell_type": "code",
   "execution_count": 6,
   "id": "9ac18b1b",
   "metadata": {},
   "outputs": [
    {
     "name": "stdout",
     "output_type": "stream",
     "text": [
      "trotter step list:  [4, 10, 50, 100, 200]\n"
     ]
    },
    {
     "data": {
      "text/plain": [
       "True"
      ]
     },
     "execution_count": 6,
     "metadata": {},
     "output_type": "execute_result"
    }
   ],
   "source": [
    "num_qubits = 3\n",
    "\n",
    "# The final time of the state evolution\n",
    "time_evolution = np.pi / 3\n",
    "\n",
    "# Parameterize variable t to be evaluated at t=pi later\n",
    "dt = Parameter('t')\n",
    "\n",
    "# initial layout\n",
    "# initial_layout = [5,3,1]\n",
    "initial_layout = list(range(num_qubits))\n",
    "\n",
    "# Number of trotter steps\n",
    "num_steps_list = [4,10,50,100,200] # ,20,30,40,50] # ,60,70,80,90,100]\n",
    "# num_steps_list = [100]\n",
    "print(\"trotter step list: \", num_steps_list)\n",
    "\n",
    "# scale_factors = [1.0, 2.0, 3.0] # unused for this file\n",
    "\n",
    "# shots = 1 << 13\n",
    "reps = 1\n",
    "\n",
    "state_initial_str = \"110\" ### specify initial state\n",
    "state_initial_dm = DMExtended(matrix=make_dm_binary(str_binary=state_initial_str, \n",
    "                                                    endian_binary=\"little_endian\", \n",
    "                                                    endian_dm=\"big_endian\")) ### make the density matrix for the initial state\n",
    "\n",
    "H_Heisenberg = make_H_Heisenberg(num_qubits=num_qubits) ### create Heisenberg Hamiltonian in a dictionary format\n",
    "matrix_Heisenberg = hamiltonian_to_dm(hamiltonian=H_Heisenberg) ### convert Heisenberg Hamiltonian to its matrix form\n",
    "\n",
    "U_Heisenberg = DMExtended(sp.linalg.expm(-1.0j * matrix_Heisenberg * time_evolution)) ### prepare the unitary matrix of the Heisenberg Hamiltonian\n",
    "\n",
    "state_target_dm = state_initial_dm.apply_unitary(U_Heisenberg) ### apply the unitary evolution to the density matrix\n",
    "state_target_dm.is_valid()"
   ]
  },
  {
   "cell_type": "code",
   "execution_count": 7,
   "id": "877b06ef",
   "metadata": {},
   "outputs": [
    {
     "data": {
      "text/latex": [
       "$$\n",
       "\n",
       "\\begin{bmatrix}\n",
       "0 & 0 & 0 & 0 & 0 & 0 & 0 & 0  \\\\\n",
       " 0 & 0 & 0 & 0 & 0 & 0 & 0 & 0  \\\\\n",
       " 0 & 0 & 0 & 0 & 0 & 0 & 0 & 0  \\\\\n",
       " 0 & 0 & 0 & 1 & 0 & 0 & 0 & 0  \\\\\n",
       " 0 & 0 & 0 & 0 & 0 & 0 & 0 & 0  \\\\\n",
       " 0 & 0 & 0 & 0 & 0 & 0 & 0 & 0  \\\\\n",
       " 0 & 0 & 0 & 0 & 0 & 0 & 0 & 0  \\\\\n",
       " 0 & 0 & 0 & 0 & 0 & 0 & 0 & 0  \\\\\n",
       " \\end{bmatrix}\n",
       "$$"
      ],
      "text/plain": [
       "<IPython.core.display.Latex object>"
      ]
     },
     "execution_count": 7,
     "metadata": {},
     "output_type": "execute_result"
    }
   ],
   "source": [
    "state_initial_dm.draw(\"latex\")"
   ]
  },
  {
   "cell_type": "code",
   "execution_count": 8,
   "id": "7b6847f6",
   "metadata": {},
   "outputs": [
    {
     "data": {
      "text/latex": [
       "$$\n",
       "\n",
       "\\begin{bmatrix}\n",
       "0 & 0 & 0 & 0 & 0 & 0 & 0 & 0  \\\\\n",
       " 0 & 0 & 0 & 0 & 0 & 0 & 0 & 0  \\\\\n",
       " 0 & 0 & 0 & 0 & 0 & 0 & 0 & 0  \\\\\n",
       " 0 & 0 & 0 & \\frac{1}{4} & 0 & 0 & \\frac{\\sqrt{3} i}{4} & 0  \\\\\n",
       " 0 & 0 & 0 & 0 & 0 & 0 & 0 & 0  \\\\\n",
       " 0 & 0 & 0 & 0 & 0 & 0 & 0 & 0  \\\\\n",
       " 0 & 0 & 0 & - \\frac{\\sqrt{3} i}{4} & 0 & 0 & \\frac{3}{4} & 0  \\\\\n",
       " 0 & 0 & 0 & 0 & 0 & 0 & 0 & 0  \\\\\n",
       " \\end{bmatrix}\n",
       "$$"
      ],
      "text/plain": [
       "<IPython.core.display.Latex object>"
      ]
     },
     "execution_count": 8,
     "metadata": {},
     "output_type": "execute_result"
    }
   ],
   "source": [
    "state_target_dm.draw(\"latex\")"
   ]
  },
  {
   "cell_type": "markdown",
   "id": "873596e2",
   "metadata": {},
   "source": [
    "# Run Trotter -> compute fidelity"
   ]
  },
  {
   "cell_type": "code",
   "execution_count": 9,
   "id": "d740f1d4",
   "metadata": {
    "scrolled": true
   },
   "outputs": [
    {
     "name": "stdout",
     "output_type": "stream",
     "text": [
      "trotter steps:  4\n",
      "trace norm: 0.5399675373633599\n",
      "raw state tomography fidelity = 0.9271 ± 0.0000\n",
      "time: 0.015426583006046712\n",
      "\n",
      "trotter steps:  10\n",
      "trace norm: 0.20639277677287404\n",
      "raw state tomography fidelity = 0.9894 ± 0.0000\n",
      "time: 0.01038116600830108\n",
      "\n",
      "trotter steps:  50\n",
      "trace norm: 0.04065900810200465\n",
      "raw state tomography fidelity = 0.9996 ± 0.0000\n",
      "time: 0.04262141592334956\n",
      "\n",
      "trotter steps:  100\n",
      "trace norm: 0.02030280967866756\n",
      "raw state tomography fidelity = 0.9999 ± 0.0000\n",
      "time: 0.07590479194186628\n",
      "\n",
      "trotter steps:  200\n",
      "trace norm: 0.010145251463603046\n",
      "raw state tomography fidelity = 1.0000 ± 0.0000\n",
      "time: 0.14636308304034173\n",
      "\n"
     ]
    }
   ],
   "source": [
    "fidelities_list = []\n",
    "stddevs_list = []\n",
    "\n",
    "for num_steps in num_steps_list:\n",
    "    \n",
    "    print(\"trotter steps: \", num_steps)\n",
    "    t1 = time.perf_counter()\n",
    "    \n",
    "    # Initialize quantum circuit for 3 qubits\n",
    "    qr = QuantumRegister(num_qubits, \n",
    "                         name=\"q\")\n",
    "    qc = QuantumCircuit(qr)\n",
    "\n",
    "    # Prepare initial state\n",
    "    append_initial_state(qc=qc, \n",
    "                         state_initial_str=state_initial_str)\n",
    "    append_block_trotter_negishi(qc=qc, \n",
    "                            dt=dt,\n",
    "                            num_steps=num_steps,\n",
    "                            to_instruction=False)\n",
    "\n",
    "    # Evaluate simulation at target_time (t=pi) meaning each trotter step evolves pi/trotter_steps in time\n",
    "    qc = qc.assign_parameters({dt: time_evolution / num_steps})\n",
    "    qc_t3 = transpile(RemoveBarriers()(qc), optimization_level=0, basis_gates=[\"sx\", \"cx\", \"rz\"])\n",
    "    # qc_t3 = RemoveBarriers()(qc)\n",
    "    qc_t3.save_density_matrix()\n",
    "    \n",
    "    ### execute circuits\n",
    "    fidelities = []\n",
    "    for _ in range(reps):\n",
    "        result_raw = simulator_ideal.run(qc_t3,\n",
    "                                         shots=0,\n",
    "                                         optimization_level=0,\n",
    "                                         ).result()\n",
    "        dm_raw = result_to_dms(result=result_raw,\n",
    "                               endian_dm=\"big\")[0]\n",
    "        assert dm_raw.is_valid()\n",
    "        \n",
    "        fidelities.append(state_fidelity(dm_raw, state_target_dm))\n",
    "        # fidelity = np.trace(sqrtmh(dm_raw) @ state_target_dm @ sqrtmh(dm_raw)) ** 2\n",
    "        tn = sp.linalg.norm(state_target_dm - dm_raw, ord='nuc')\n",
    "        # print(\"fidelity:\", fidelity)\n",
    "        print(\"trace norm:\", tn)\n",
    "\n",
    "    fidelities_list.append(np.mean(fidelities))\n",
    "    stddevs_list.append(np.std(fidelities))\n",
    "    \n",
    "    t2 = time.perf_counter()\n",
    "    print('raw state tomography fidelity = {:.4f} \\u00B1 {:.4f}'.format(np.mean(fidelities), np.std(fidelities)))\n",
    "    print(\"time:\", t2 - t1)\n",
    "    print()"
   ]
  },
  {
   "cell_type": "code",
   "execution_count": 10,
   "id": "3e814d09",
   "metadata": {},
   "outputs": [
    {
     "data": {
      "image/png": "[encoded data removed]",
      "text/plain": [
       "<Figure size 640x480 with 1 Axes>"
      ]
     },
     "metadata": {},
     "output_type": "display_data"
    }
   ],
   "source": [
    "plt.plot(num_steps_list, fidelities_list)\n",
    "plt.xlabel(\"Trotter steps\")\n",
    "plt.ylabel(\"state fidelity\")\n",
    "plt.show()"
   ]
  },
  {
   "cell_type": "code",
   "execution_count": 11,
   "id": "348e5fd4",
   "metadata": {},
   "outputs": [],
   "source": [
    "with open(\"run_trotter_\"+str(num_qubits)+\"-qubit_dm.pkl\", \"wb\") as f:\n",
    "    pickle.dump({\"num_steps_list\": num_steps_list, \"fid\": fidelities_list, \"stddev\": stddevs_list}, f)"
   ]
  },
  {
   "cell_type": "code",
   "execution_count": 12,
   "id": "bd2d0d33",
   "metadata": {},
   "outputs": [
    {
     "data": {
      "image/png": "[encoded data removed]",
      "text/plain": [
       "<Figure size 1708.89x284.278 with 1 Axes>"
      ]
     },
     "execution_count": 12,
     "metadata": {},
     "output_type": "execute_result"
    }
   ],
   "source": [
    "qr = QuantumRegister(num_qubits, \n",
    "                         name=\"q\")\n",
    "qc = QuantumCircuit(qr)\n",
    "\n",
    "# Prepare initial state\n",
    "append_initial_state(qc=qc, \n",
    "                        state_initial_str=state_initial_str)\n",
    "append_block_trotter_aj(qc=qc, \n",
    "                        dt=dt,\n",
    "                        num_steps=1,\n",
    "                        to_instruction=False)\n",
    "\n",
    "# Evaluate simulation at target_time (t=pi) meaning each trotter step evolves pi/trotter_steps in time\n",
    "qc = qc.assign_parameters({dt: time_evolution / 1})\n",
    "qc_t3 = transpile(RemoveBarriers()(qc), optimization_level=3, basis_gates=[\"sx\", \"cx\", \"rz\"])\n",
    "# qc_t3 = transpile(RemoveBarriers()(qc_t3), optimization_level=3, basis_gates=[\"sx\", \"cx\", \"rz\"])\n",
    "# qc_t3 = transpile(RemoveBarriers()(qc_t3), optimization_level=3, basis_gates=[\"sx\", \"cx\", \"rz\"])\n",
    "qc_t3.draw(\"mpl\")"
   ]
  },
  {
   "cell_type": "code",
   "execution_count": 13,
   "id": "3e2aa004",
   "metadata": {},
   "outputs": [
    {
     "data": {
      "text/latex": [
       "$$\n",
       "\n",
       "\\begin{bmatrix}\n",
       "i & 0 & 0 & 0  \\\\\n",
       " 0 & i & 0 & 0  \\\\\n",
       " 0 & 0 & i & 0  \\\\\n",
       " 0 & 0 & 0 & i  \\\\\n",
       " \\end{bmatrix}\n",
       "$$"
      ],
      "text/plain": [
       "<IPython.core.display.Latex object>"
      ]
     },
     "execution_count": 13,
     "metadata": {},
     "output_type": "execute_result"
    }
   ],
   "source": [
    "qc = QuantumCircuit(2)\n",
    "\n",
    "qc.cx(0, 1)\n",
    "\n",
    "qc.rx(2 * dt, 0)\n",
    "qc.h(0)\n",
    "qc.rz(- 2 * dt, 1)\n",
    "\n",
    "qc.cx(0, 1)\n",
    "\n",
    "qc.s(0)\n",
    "qc.h(0)\n",
    "qc.rz(- 2 * dt, 1)\n",
    "\n",
    "qc.cx(0, 1)\n",
    "\n",
    "qc.rx(- np.pi / 2, 0)\n",
    "qc.rx(np.pi / 2, 1)\n",
    "\n",
    "time_evolution = np.pi / 2\n",
    "qc = qc.assign_parameters({dt: time_evolution / 1})\n",
    "\n",
    "from qiskit.quantum_info import Operator\n",
    "U = Operator(qc)\n",
    "# print(U.data) \n",
    "\n",
    "U.draw(\"latex\")\n",
    "# qc.save_unitary()\n",
    "\n",
    "# result = simulator_ideal.run(qc,\n",
    "#                              shots=0,\n",
    "#                             ).result()\n",
    "# result.get_unitary(qc)"
   ]
  },
  {
   "cell_type": "code",
   "execution_count": null,
   "id": "15944d09",
   "metadata": {},
   "outputs": [],
   "source": []
  },
  {
   "cell_type": "code",
   "execution_count": null,
   "id": "24d292d5",
   "metadata": {},
   "outputs": [],
   "source": []
  }
 ],
 "metadata": {
  "kernelspec": {
   "display_name": ".venv (3.11.3)",
   "language": "python",
   "name": "python3"
  },
  "language_info": {
   "codemirror_mode": {
    "name": "ipython",
    "version": 3
   },
   "file_extension": ".py",
   "mimetype": "text/x-python",
   "name": "python",
   "nbconvert_exporter": "python",
   "pygments_lexer": "ipython3",
   "version": "3.11.3"
  }
 },
 "nbformat": 4,
 "nbformat_minor": 5
}
