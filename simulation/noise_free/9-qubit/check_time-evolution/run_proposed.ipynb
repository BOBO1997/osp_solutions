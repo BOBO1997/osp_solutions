{
 "cells": [
  {
   "cell_type": "code",
   "execution_count": 1,
   "id": "f793a4a9",
   "metadata": {},
   "outputs": [],
   "source": [
    "import numpy as np\n",
    "import scipy as sp\n",
    "import matplotlib.pyplot as plt\n",
    "import pickle\n",
    "import time"
   ]
  },
  {
   "cell_type": "code",
   "execution_count": 2,
   "id": "77f983ed",
   "metadata": {},
   "outputs": [],
   "source": [
    "# Import qubit states Zero (|0>) and One (|1>), and Pauli operators (X, Y, Z)\n",
    "from qiskit.circuit import QuantumCircuit, Parameter\n",
    "# from qiskit.tools.monitor import job_monitor\n",
    "from qiskit.compiler import transpile\n",
    "from qiskit.transpiler.passes import RemoveBarriers\n",
    "from qiskit.quantum_info import state_fidelity"
   ]
  },
  {
   "cell_type": "code",
   "execution_count": 3,
   "id": "6ce3879c",
   "metadata": {},
   "outputs": [],
   "source": [
    "from osp_solutions.circuits import append_block_trotter_proposed, append_initial_state, append_block_trotter_negishi\n",
    "from osp_solutions.simulator_dm import make_dm_binary, hamiltonian_to_dm, DMExtended\n",
    "from osp_solutions.hamiltonian import Hamiltonian, make_H_Heisenberg\n",
    "from osp_solutions.backend_simulator import result_to_dms\n",
    "from setting import *"
   ]
  },
  {
   "cell_type": "code",
   "execution_count": 4,
   "id": "d105177a",
   "metadata": {},
   "outputs": [
    {
     "name": "stdout",
     "output_type": "stream",
     "text": [
      "NoiseModel: Ideal\n",
      "\n"
     ]
    }
   ],
   "source": [
    "from qiskit_aer import AerSimulator\n",
    "from qiskit_aer.noise import NoiseModel, pauli_error\n",
    "# from qiskit_ibm_runtime.fake_provider import FakeJakartaV2\n",
    "# backend = AerSimulator.from_backend(FakeJakartaV2())\n",
    "# backend = Aer.get_backend(\"qasm_simulator\")\n",
    "###? p_dep1 = 1.0 * 1e-4\n",
    "error_dep1 = pauli_error([(\"I\", 1 - 3 * p_dep1 / 4), (\"X\", p_dep1 / 4), (\"Y\", p_dep1 / 4), (\"Z\", p_dep1 / 4)])\n",
    "# error_dep2_local = error_dep1.tensor(error_dep1)\n",
    "\n",
    "###? p_dep2 = 1.0 * 1e-3\n",
    "error_dep2_global = pauli_error([(\"II\", 1 - 15 * p_dep2 / 16), (\"IX\", p_dep2 / 16), (\"IY\", p_dep2 / 16), (\"IZ\", p_dep2 / 16),\n",
    "                                 (\"XI\", p_dep2 / 16), (\"XX\", p_dep2 / 16), (\"XY\", p_dep2 / 16), (\"XZ\", p_dep2 / 16),\n",
    "                                 (\"YI\", p_dep2 / 16), (\"YX\", p_dep2 / 16), (\"YY\", p_dep2 / 16), (\"YZ\", p_dep2 / 16),\n",
    "                                 (\"ZI\", p_dep2 / 16), (\"ZX\", p_dep2 / 16), (\"ZY\", p_dep2 / 16), (\"ZZ\", p_dep2 / 16)])\n",
    "\n",
    "# print(error_dep2_global)\n",
    "\n",
    "# Add errors to noise model\n",
    "noise_model = NoiseModel()\n",
    "noise_model.add_all_qubit_quantum_error(error_dep1, [\"rx\", \"rz\", \"sx\", \"h\", \"sdg\", \"s\", \"x\", \"u1\", \"u2\", \"u3\"])\n",
    "noise_model.add_all_qubit_quantum_error(error_dep2_global, [\"cz\"])\n",
    "# noise_model.add_all_qubit_quantum_error(error_3, [\"cswap\", \"ccx\"])\n",
    "print(noise_model)\n",
    "print()\n",
    "\n",
    "# Create noisy simulator backend\n",
    "simulator_noisy = AerSimulator(method=\"density_matrix\",\n",
    "                               noise_model=noise_model)\n",
    "simulator_ideal = AerSimulator(method=\"density_matrix\")"
   ]
  },
  {
   "cell_type": "code",
   "execution_count": 6,
   "id": "9ac18b1b",
   "metadata": {},
   "outputs": [
    {
     "name": "stdout",
     "output_type": "stream",
     "text": [
      "trotter step list:  [4, 8, 12, 16, 20, 24, 28, 32, 36, 40, 44, 48, 52, 56, 60, 64, 68, 72, 76, 80, 84, 88, 92, 96]\n"
     ]
    },
    {
     "data": {
      "text/plain": [
       "True"
      ]
     },
     "execution_count": 6,
     "metadata": {},
     "output_type": "execute_result"
    }
   ],
   "source": [
    "###? num_qubits = 5\n",
    "\n",
    "# The final time of the state evolution\n",
    "###? time_evolution = np.pi\n",
    "\n",
    "# Parameterize variable t to be evaluated at t=pi later\n",
    "dt = Parameter('t')\n",
    "\n",
    "# initial layout\n",
    "# initial_layout = [5,3,1]\n",
    "###? initial_layout = list(range(num_qubits))\n",
    "\n",
    "# Number of trotter steps\n",
    "# num_steps_list = [4,10,50,100,200] # ,20,30,40,50] # ,60,70,80,90,100]\n",
    "###? num_steps_list = list(range(4,100,4))\n",
    "print(\"trotter step list: \", num_steps_list)\n",
    "\n",
    "###? lmd = 1.0\n",
    "\n",
    "###? state_initial_str = \"10101\" ### specify initial state\n",
    "state_initial_dm = DMExtended(matrix=make_dm_binary(str_binary=state_initial_str, \n",
    "                                                    endian_binary=\"little_endian\", \n",
    "                                                    endian_dm=\"big_endian\")) ### make the density matrix for the initial state\n",
    "\n",
    "H_Heisenberg = make_H_Heisenberg(num_qubits=num_qubits) ### create Heisenberg Hamiltonian in a dictionary format\n",
    "matrix_Heisenberg = hamiltonian_to_dm(hamiltonian=H_Heisenberg) ### convert Heisenberg Hamiltonian to its matrix form\n",
    "\n",
    "U_Heisenberg = DMExtended(sp.linalg.expm(-1.0j * matrix_Heisenberg * time_evolution)) ### prepare the unitary matrix of the Heisenberg Hamiltonian\n",
    "\n",
    "state_target_dm = state_initial_dm.apply_unitary(U_Heisenberg) ### apply the unitary evolution to the density matrix\n",
    "state_target_dm.is_valid()"
   ]
  },
  {
   "cell_type": "code",
   "execution_count": null,
   "id": "d740f1d4",
   "metadata": {
    "scrolled": true
   },
   "outputs": [
    {
     "name": "stdout",
     "output_type": "stream",
     "text": [
      "trotter steps:  4\n",
      "raw state tomography fidelity = 0.0150 ± 0.0000\n",
      "number of CNOT gates: None\n",
      "time: 0.4015725830104202\n",
      "\n",
      "trotter steps:  8\n",
      "raw state tomography fidelity = 0.0116 ± 0.0034\n",
      "number of CNOT gates: 112\n",
      "time: 0.5921392089221627\n",
      "\n",
      "trotter steps:  12\n",
      "raw state tomography fidelity = 0.0159 ± 0.0067\n",
      "number of CNOT gates: 168\n",
      "time: 0.5857439580140635\n",
      "\n",
      "trotter steps:  16\n",
      "raw state tomography fidelity = 0.0704 ± 0.0945\n",
      "number of CNOT gates: 224\n",
      "time: 0.6310939169488847\n",
      "\n",
      "trotter steps:  20\n",
      "raw state tomography fidelity = 0.1606 ± 0.1992\n",
      "number of CNOT gates: 280\n",
      "time: 0.7061514580855146\n",
      "\n",
      "trotter steps:  24\n",
      "raw state tomography fidelity = 0.2509 ± 0.2718\n",
      "number of CNOT gates: 336\n",
      "time: 0.9514268749626353\n",
      "\n",
      "trotter steps:  28\n",
      "raw state tomography fidelity = 0.3298 ± 0.3173\n",
      "number of CNOT gates: 392\n",
      "time: 0.8857988340314478\n",
      "\n",
      "trotter steps:  32\n",
      "raw state tomography fidelity = 0.3964 ± 0.3451\n",
      "number of CNOT gates: 448\n",
      "time: 0.9254810409620404\n",
      "\n",
      "trotter steps:  36\n",
      "raw state tomography fidelity = 0.4521 ± 0.3615\n",
      "number of CNOT gates: 504\n",
      "time: 1.0109683750197291\n",
      "\n",
      "trotter steps:  40\n",
      "raw state tomography fidelity = 0.4990 ± 0.3707\n",
      "number of CNOT gates: 560\n",
      "time: 1.1086089160526171\n",
      "\n",
      "trotter steps:  44\n",
      "raw state tomography fidelity = 0.5389 ± 0.3753\n",
      "number of CNOT gates: 616\n",
      "time: 1.1666713340673596\n",
      "\n",
      "trotter steps:  48\n",
      "raw state tomography fidelity = 0.5730 ± 0.3767\n",
      "number of CNOT gates: 672\n",
      "time: 1.1601328330580145\n",
      "\n",
      "trotter steps:  52\n",
      "raw state tomography fidelity = 0.6026 ± 0.3762\n",
      "number of CNOT gates: 728\n",
      "time: 1.5079426249722019\n",
      "\n",
      "trotter steps:  56\n",
      "raw state tomography fidelity = 0.6284 ± 0.3742\n",
      "number of CNOT gates: 784\n",
      "time: 1.3259490000782534\n",
      "\n",
      "trotter steps:  60\n",
      "raw state tomography fidelity = 0.6511 ± 0.3714\n",
      "number of CNOT gates: 840\n",
      "time: 1.3802327080629766\n",
      "\n",
      "trotter steps:  64\n",
      "raw state tomography fidelity = 0.6712 ± 0.3679\n",
      "number of CNOT gates: 896\n",
      "time: 1.4478725410299376\n",
      "\n",
      "trotter steps:  68\n",
      "raw state tomography fidelity = 0.6892 ± 0.3641\n",
      "number of CNOT gates: 952\n",
      "time: 1.492308208020404\n",
      "\n",
      "trotter steps:  72\n",
      "raw state tomography fidelity = 0.7053 ± 0.3600\n",
      "number of CNOT gates: 1008\n",
      "time: 1.6267186249606311\n",
      "\n",
      "trotter steps:  76\n",
      "raw state tomography fidelity = 0.7198 ± 0.3558\n",
      "number of CNOT gates: 1064\n",
      "time: 1.6343068339629099\n",
      "\n",
      "trotter steps:  80\n",
      "raw state tomography fidelity = 0.7329 ± 0.3515\n",
      "number of CNOT gates: 1120\n",
      "time: 1.7898660840000957\n",
      "\n",
      "trotter steps:  84\n",
      "raw state tomography fidelity = 0.7449 ± 0.3472\n",
      "number of CNOT gates: 1176\n",
      "time: 1.9466225419891998\n",
      "\n",
      "trotter steps:  88\n",
      "raw state tomography fidelity = 0.7559 ± 0.3429\n",
      "number of CNOT gates: 1232\n",
      "time: 2.2462307499954477\n",
      "\n",
      "trotter steps:  92\n",
      "raw state tomography fidelity = 0.7660 ± 0.3387\n",
      "number of CNOT gates: 1288\n",
      "time: 2.0134295830503106\n",
      "\n",
      "trotter steps:  96\n",
      "raw state tomography fidelity = 0.7752 ± 0.3345\n",
      "number of CNOT gates: 1344\n",
      "time: 2.2157606659457088\n",
      "\n"
     ]
    }
   ],
   "source": [
    "fidelities = []\n",
    "\n",
    "for time_evolution in times_evolution_discrete:\n",
    "    \n",
    "    print(\"trotter steps: \", num_steps)\n",
    "    t1 = time.perf_counter()\n",
    "    \n",
    "    # Initialize quantum circuit for 3 qubits\n",
    "    qc = QuantumCircuit(num_qubits)\n",
    "\n",
    "    # Prepare initial state\n",
    "    append_initial_state(qc=qc, \n",
    "                         state_initial_str=state_initial_str)\n",
    "    append_block_trotter_proposed(qc=qc, \n",
    "                                  dt=dt,  ###!\n",
    "                                  lmd= lmd, ### !\n",
    "                                  num_steps=num_steps, ###!\n",
    "                                 )\n",
    "\n",
    "    # Evaluate simulation at target_time (t=pi) meaning each trotter step evolves pi/trotter_steps in time\n",
    "    qc = qc.assign_parameters({dt: time_evolution / num_steps})\n",
    "    qc_t3 = transpile(RemoveBarriers()(qc), optimization_level=3, basis_gates=[\"sx\", \"cx\", \"rz\"])\n",
    "    qc_t3.save_density_matrix()\n",
    "    \n",
    "    ### execute circuits\n",
    "    result_raw = simulator_noisy.run(qc_t3,\n",
    "                                     shots=0,\n",
    "                                    ).result()\n",
    "    dm_raw = result_to_dms(result=result_raw,\n",
    "                        endian_dm=\"big\")[0]\n",
    "\n",
    "    fidelities.append(state_fidelity(dm_raw, state_target_dm))\n",
    "    \n",
    "    t2 = time.perf_counter()\n",
    "    print('raw state tomography fidelity = {:.4f} \\u00B1 {:.4f}'.format(np.mean(fidelities), np.std(fidelities)))\n",
    "    print(\"number of CNOT gates:\", qc_t3.count_ops().get(\"cx\"))\n",
    "    print(\"time:\", t2 - t1)\n",
    "    print()"
   ]
  },
  {
   "cell_type": "code",
   "execution_count": null,
   "id": "3e814d09",
   "metadata": {},
   "outputs": [
    {
     "data": {
      "image/png": "[encoded data removed]",
      "text/plain": [
       "<Figure size 640x480 with 1 Axes>"
      ]
     },
     "metadata": {},
     "output_type": "display_data"
    }
   ],
   "source": [
    "plt.plot(times_evolution_discrete, fidelities)\n",
    "plt.xlabel(\"Trotter steps\")\n",
    "plt.ylabel(\"state fidelity\")\n",
    "plt.show()"
   ]
  },
  {
   "cell_type": "code",
   "execution_count": null,
   "id": "348e5fd4",
   "metadata": {},
   "outputs": [],
   "source": [
    "with open(\"run_proposed.pkl\", \"wb\") as f:\n",
    "    pickle.dump({\"fidelities\": fidelities}, f)"
   ]
  },
  {
   "cell_type": "code",
   "execution_count": 12,
   "id": "4ea9d294",
   "metadata": {},
   "outputs": [
    {
     "name": "stdout",
     "output_type": "stream",
     "text": [
      "AerSimulator('aer_simulator_density_matrix')\n"
     ]
    }
   ],
   "source": [
    "print(simulator_noisy)"
   ]
  }
 ],
 "metadata": {
  "kernelspec": {
   "display_name": ".venv (3.11.3)",
   "language": "python",
   "name": "python3"
  },
  "language_info": {
   "codemirror_mode": {
    "name": "ipython",
    "version": 3
   },
   "file_extension": ".py",
   "mimetype": "text/x-python",
   "name": "python",
   "nbconvert_exporter": "python",
   "pygments_lexer": "ipython3",
   "version": "3.11.3"
  }
 },
 "nbformat": 4,
 "nbformat_minor": 5
}
