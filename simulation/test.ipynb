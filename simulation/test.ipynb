{
 "cells": [
  {
   "cell_type": "code",
   "execution_count": 1,
   "id": "7a21afcc",
   "metadata": {},
   "outputs": [],
   "source": [
    "from qiskit_aer import AerSimulator\n",
    "from qiskit_ibm_runtime.fake_provider import FakePerth\n",
    "\n",
    "backend = AerSimulator.from_backend(FakePerth())"
   ]
  },
  {
   "cell_type": "code",
   "execution_count": 2,
   "id": "f88264a1",
   "metadata": {},
   "outputs": [
    {
     "data": {
      "text/html": [
       "<div>\n",
       "<style scoped>\n",
       "    .dataframe tbody tr th:only-of-type {\n",
       "        vertical-align: middle;\n",
       "    }\n",
       "\n",
       "    .dataframe tbody tr th {\n",
       "        vertical-align: top;\n",
       "    }\n",
       "\n",
       "    .dataframe thead th {\n",
       "        text-align: right;\n",
       "    }\n",
       "</style>\n",
       "<table border=\"1\" class=\"dataframe\">\n",
       "  <thead>\n",
       "    <tr style=\"text-align: right;\">\n",
       "      <th></th>\n",
       "      <th>name</th>\n",
       "      <th>experiment</th>\n",
       "      <th>components</th>\n",
       "      <th>value</th>\n",
       "      <th>quality</th>\n",
       "      <th>backend</th>\n",
       "      <th>run_time</th>\n",
       "      <th>trace</th>\n",
       "      <th>eigvals</th>\n",
       "      <th>raw_eigvals</th>\n",
       "      <th>rescaled_psd</th>\n",
       "      <th>fitter_metadata</th>\n",
       "      <th>conditional_probability</th>\n",
       "      <th>positive</th>\n",
       "    </tr>\n",
       "  </thead>\n",
       "  <tbody>\n",
       "    <tr>\n",
       "      <th>ab5160bd</th>\n",
       "      <td>state</td>\n",
       "      <td>StateTomography</td>\n",
       "      <td>[Q0, Q1]</td>\n",
       "      <td>DensityMatrix([[ 0.46158854+0.j        , -0.00...</td>\n",
       "      <td>None</td>\n",
       "      <td>aer_simulator_from(fake_perth)</td>\n",
       "      <td>None</td>\n",
       "      <td>1.0</td>\n",
       "      <td>[0.9012193847177918, 0.04288754643423723, 0.03...</td>\n",
       "      <td>[0.9012193847177918, 0.04288754643423723, 0.03...</td>\n",
       "      <td>False</td>\n",
       "      <td>{'fitter': 'linear_inversion', 'fitter_time': ...</td>\n",
       "      <td>1.0</td>\n",
       "      <td>True</td>\n",
       "    </tr>\n",
       "    <tr>\n",
       "      <th>c77f0071</th>\n",
       "      <td>state_fidelity</td>\n",
       "      <td>StateTomography</td>\n",
       "      <td>[Q0, Q1]</td>\n",
       "      <td>0.900391</td>\n",
       "      <td>None</td>\n",
       "      <td>aer_simulator_from(fake_perth)</td>\n",
       "      <td>None</td>\n",
       "      <td>None</td>\n",
       "      <td>None</td>\n",
       "      <td>None</td>\n",
       "      <td>None</td>\n",
       "      <td>None</td>\n",
       "      <td>None</td>\n",
       "      <td>None</td>\n",
       "    </tr>\n",
       "    <tr>\n",
       "      <th>e73b8546</th>\n",
       "      <td>positive</td>\n",
       "      <td>StateTomography</td>\n",
       "      <td>[Q0, Q1]</td>\n",
       "      <td>True</td>\n",
       "      <td>None</td>\n",
       "      <td>aer_simulator_from(fake_perth)</td>\n",
       "      <td>None</td>\n",
       "      <td>None</td>\n",
       "      <td>None</td>\n",
       "      <td>None</td>\n",
       "      <td>None</td>\n",
       "      <td>None</td>\n",
       "      <td>None</td>\n",
       "      <td>None</td>\n",
       "    </tr>\n",
       "  </tbody>\n",
       "</table>\n",
       "</div>"
      ],
      "text/plain": [
       "                    name       experiment components  \\\n",
       "ab5160bd           state  StateTomography   [Q0, Q1]   \n",
       "c77f0071  state_fidelity  StateTomography   [Q0, Q1]   \n",
       "e73b8546        positive  StateTomography   [Q0, Q1]   \n",
       "\n",
       "                                                      value quality  \\\n",
       "ab5160bd  DensityMatrix([[ 0.46158854+0.j        , -0.00...    None   \n",
       "c77f0071                                           0.900391    None   \n",
       "e73b8546                                               True    None   \n",
       "\n",
       "                                 backend run_time trace  \\\n",
       "ab5160bd  aer_simulator_from(fake_perth)     None   1.0   \n",
       "c77f0071  aer_simulator_from(fake_perth)     None  None   \n",
       "e73b8546  aer_simulator_from(fake_perth)     None  None   \n",
       "\n",
       "                                                    eigvals  \\\n",
       "ab5160bd  [0.9012193847177918, 0.04288754643423723, 0.03...   \n",
       "c77f0071                                               None   \n",
       "e73b8546                                               None   \n",
       "\n",
       "                                                raw_eigvals rescaled_psd  \\\n",
       "ab5160bd  [0.9012193847177918, 0.04288754643423723, 0.03...        False   \n",
       "c77f0071                                               None         None   \n",
       "e73b8546                                               None         None   \n",
       "\n",
       "                                            fitter_metadata  \\\n",
       "ab5160bd  {'fitter': 'linear_inversion', 'fitter_time': ...   \n",
       "c77f0071                                               None   \n",
       "e73b8546                                               None   \n",
       "\n",
       "         conditional_probability positive  \n",
       "ab5160bd                     1.0     True  \n",
       "c77f0071                    None     None  \n",
       "e73b8546                    None     None  "
      ]
     },
     "metadata": {},
     "output_type": "display_data"
    }
   ],
   "source": [
    "import qiskit\n",
    "from qiskit_experiments.framework import ParallelExperiment\n",
    "from qiskit_experiments.library import StateTomography\n",
    "\n",
    "# GHZ State preparation circuit\n",
    "nq = 2\n",
    "qc_ghz = qiskit.QuantumCircuit(nq)\n",
    "qc_ghz.h(0)\n",
    "qc_ghz.s(0)\n",
    "for i in range(1, nq):\n",
    "    qc_ghz.cx(0, i)\n",
    "\n",
    "# QST Experiment\n",
    "qstexp1 = StateTomography(qc_ghz)\n",
    "qstdata1 = qstexp1.run(backend, seed_simulation=100).block_for_results()\n",
    "\n",
    "# Print results\n",
    "display(qstdata1.analysis_results(dataframe=True))"
   ]
  },
  {
   "cell_type": "code",
   "execution_count": 3,
   "id": "a2662688",
   "metadata": {},
   "outputs": [
    {
     "name": "stderr",
     "output_type": "stream",
     "text": [
      "/var/folders/3y/9xkj6zgn3751vblkg4bk0d680000gp/T/ipykernel_11738/2060375500.py:1: DeprecationWarning: Leaving `dataframe` unset or setting it to `False` for `ExperimentData.analysis_results` is deprecated as of qiskit-experiments 0.9.0. Future releases may change the default to `True` and remove the option to set the value to `False`.\n",
      "  qstdata1.analysis_results(1).value\n",
      "/var/folders/3y/9xkj6zgn3751vblkg4bk0d680000gp/T/ipykernel_11738/2060375500.py:1: DeprecationWarning: Accessing analysis results via a numerical index is deprecated and will be removed in a future release. Use the ID or name of the analysis result instead.\n",
      "  qstdata1.analysis_results(1).value\n"
     ]
    },
    {
     "data": {
      "text/plain": [
       "0.9003906249999999"
      ]
     },
     "execution_count": 3,
     "metadata": {},
     "output_type": "execute_result"
    }
   ],
   "source": [
    "qstdata1.analysis_results(1).value"
   ]
  },
  {
   "cell_type": "code",
   "execution_count": 6,
   "id": "e8191aa6",
   "metadata": {},
   "outputs": [
    {
     "data": {
      "text/plain": [
       "{'__init_args__': OrderedDict([('circuit',\n",
       "               <qiskit.circuit.quantumcircuit.QuantumCircuit at 0x1356c6c50>)]),\n",
       " '__init_kwargs__': OrderedDict([('backend', None),\n",
       "              ('physical_qubits', None),\n",
       "              ('measurement_basis',\n",
       "               <PauliMeasurementBasis: PauliMeasurementBasis>),\n",
       "              ('measurement_indices', None),\n",
       "              ('basis_indices', None),\n",
       "              ('conditional_circuit_clbits', False),\n",
       "              ('analysis', 'default'),\n",
       "              ('target', 'default')]),\n",
       " '_type': 'StateTomography',\n",
       " '_num_qubits': 2,\n",
       " '_physical_qubits': (0, 1),\n",
       " '_experiment_options': Options(max_circuits=None, basis_indices=None),\n",
       " '_transpile_options': Options(optimization_level=0),\n",
       " '_run_options': Options(meas_level=<MeasLevel.CLASSIFIED: 2>),\n",
       " '_set_experiment_options': set(),\n",
       " '_set_transpile_options': set(),\n",
       " '_set_run_options': set(),\n",
       " '_set_analysis_options': set(),\n",
       " '_analysis': <qiskit_experiments.library.tomography.qst_analysis.StateTomographyAnalysis at 0x1354eb9d0>,\n",
       " '_backend': None,\n",
       " '_backend_data': None,\n",
       " '_backend_run': False,\n",
       " '_circuit': <qiskit.circuit.quantumcircuit.QuantumCircuit at 0x1356c6c50>,\n",
       " '_cond_clbits': None,\n",
       " '_meas_circ_basis': <PauliMeasurementBasis: PauliMeasurementBasis>,\n",
       " '_meas_indices': (0, 1),\n",
       " '_meas_physical_qubits': (0, 1),\n",
       " '_prep_circ_basis': None,\n",
       " '_prep_indices': (),\n",
       " '_prep_physical_qubits': ()}"
      ]
     },
     "execution_count": 6,
     "metadata": {},
     "output_type": "execute_result"
    }
   ],
   "source": [
    "qstexp1.__dict__"
   ]
  },
  {
   "cell_type": "code",
   "execution_count": 7,
   "id": "af4758db",
   "metadata": {},
   "outputs": [
    {
     "data": {
      "text/plain": [
       "{'_experiment': <qiskit_experiments.library.tomography.qst_experiment.StateTomography at 0x1359eca10>,\n",
       " '_db_data': ExperimentData(experiment_id='27fe16fa-e558-4a22-84dc-533a9ee41ada', parent_id=None, experiment_type='StateTomography', backend='aer_simulator_from(fake_perth)', tags=[], job_ids=['7c3f3e78-6eea-4d48-a36d-2fe15bff3239'], share_level=None, metadata={'physical_qubits': [0, 1], 'device_components': [<Qubit(Q0)>, <Qubit(Q1)>], 'm_qubits': [0, 1], '_source': {'class': 'qiskit_experiments.framework.experiment_data.ExperimentData', 'metadata_version': 1, 'qiskit_version': {'qiskit': '2.2.1', 'qiskit-experiments': '0.12.0'}}}, figure_names=[], notes=None, hub=None, group=None, project=None, owner=None, creation_datetime=None, start_datetime=datetime.datetime(2025, 10, 18, 15, 18, 44, 548312), end_datetime=datetime.datetime(2025, 10, 18, 15, 18, 44, 591475), updated_datetime=None),\n",
       " '_backend': AerSimulator('aer_simulator_from(fake_perth)'\n",
       "              noise_model=<NoiseModel on ['id', 'measure', 'x', 'sx', 'reset', 'cx']>),\n",
       " '_backend_data': <qiskit_experiments.framework.backend_data.BackendData at 0x1356fc250>,\n",
       " '_provider': None,\n",
       " '_service': None,\n",
       " '_auto_save': False,\n",
       " '_created_in_db': False,\n",
       " '_extra_data': {},\n",
       " 'verbose': True,\n",
       " '_jobs': <qiskit_experiments.database_service.utils.ThreadSafeOrderedDict at 0x135d7b110>,\n",
       " '_job_futures': <qiskit_experiments.database_service.utils.ThreadSafeOrderedDict at 0x135d79010>,\n",
       " '_running_time': None,\n",
       " '_analysis_callbacks': <qiskit_experiments.database_service.utils.ThreadSafeOrderedDict at 0x135d78750>,\n",
       " '_analysis_futures': <qiskit_experiments.database_service.utils.ThreadSafeOrderedDict at 0x135d78050>,\n",
       " '_analysis_executor': <concurrent.futures.thread.ThreadPoolExecutor at 0x135d7b210>,\n",
       " '_monitor_executor': <concurrent.futures.thread.ThreadPoolExecutor at 0x135d6ee90>,\n",
       " '_result_data': <qiskit_experiments.database_service.utils.ThreadSafeList at 0x135d6ee10>,\n",
       " '_figures': <qiskit_experiments.database_service.utils.ThreadSafeOrderedDict at 0x135da9410>,\n",
       " '_analysis_results': <qiskit_experiments.framework.analysis_result_table.AnalysisResultTable at 0x135d6ec90>,\n",
       " '_artifacts': <qiskit_experiments.database_service.utils.ThreadSafeOrderedDict at 0x123db4e10>,\n",
       " '_deleted_figures': deque([]),\n",
       " '_deleted_analysis_results': deque([]),\n",
       " '_deleted_artifacts': set(),\n",
       " '_child_data': <qiskit_experiments.database_service.utils.ThreadSafeOrderedDict at 0x134b003d0>}"
      ]
     },
     "execution_count": 7,
     "metadata": {},
     "output_type": "execute_result"
    }
   ],
   "source": [
    "qstdata1.__dict__"
   ]
  },
  {
   "cell_type": "code",
   "execution_count": null,
   "id": "9406c377",
   "metadata": {},
   "outputs": [],
   "source": []
  }
 ],
 "metadata": {
  "kernelspec": {
   "display_name": ".venv (3.11.3)",
   "language": "python",
   "name": "python3"
  },
  "language_info": {
   "codemirror_mode": {
    "name": "ipython",
    "version": 3
   },
   "file_extension": ".py",
   "mimetype": "text/x-python",
   "name": "python",
   "nbconvert_exporter": "python",
   "pygments_lexer": "ipython3",
   "version": "3.11.3"
  }
 },
 "nbformat": 4,
 "nbformat_minor": 5
}
