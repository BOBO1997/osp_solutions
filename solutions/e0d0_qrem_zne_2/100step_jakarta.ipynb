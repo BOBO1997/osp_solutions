{
 "cells": [
  {
   "cell_type": "markdown",
   "id": "7f7b7f17",
   "metadata": {},
   "source": [
    "# Test Trotterization on FakeJakarta with QREM and ZNE\n",
    "\n",
    "- Status: OK"
   ]
  },
  {
   "cell_type": "markdown",
   "id": "2479c61b",
   "metadata": {},
   "source": [
    "# Import Libiraries"
   ]
  },
  {
   "cell_type": "code",
   "execution_count": 1,
   "id": "6c48acd1",
   "metadata": {},
   "outputs": [],
   "source": [
    "import numpy as np\n",
    "import matplotlib.pyplot as plt\n",
    "import itertools\n",
    "from pprint import pprint\n",
    "import pickle\n",
    "import time\n",
    "import datetime"
   ]
  },
  {
   "cell_type": "code",
   "execution_count": 2,
   "id": "d2b9e40b",
   "metadata": {},
   "outputs": [],
   "source": [
    "# Import qubit states Zero (|0>) and One (|1>), and Pauli operators (X, Y, Z)\n",
    "from qiskit.opflow import Zero, One, I, X, Y, Z\n",
    "from qiskit import QuantumCircuit, QuantumRegister, IBMQ, execute, transpile, Aer\n",
    "from qiskit.tools.monitor import job_monitor\n",
    "from qiskit.circuit import Parameter\n",
    "from qiskit.transpiler.passes import RemoveBarriers"
   ]
  },
  {
   "cell_type": "code",
   "execution_count": 3,
   "id": "c96c5a8c",
   "metadata": {},
   "outputs": [
    {
     "name": "stderr",
     "output_type": "stream",
     "text": [
      "/var/folders/vr/d82vcp297v78vk4sb0_nzzdc0000gn/T/ipykernel_43145/3056705909.py:2: DeprecationWarning: The qiskit.ignis package is deprecated and has been supersceded by the qiskit-experiments project. Refer to the migration guide: https://github.com/Qiskit/qiskit-ignis#migration-guide on how to migrate to the new project.\n",
      "  from qiskit.ignis.mitigation.measurement import complete_meas_cal, CompleteMeasFitter\n"
     ]
    }
   ],
   "source": [
    "# Import QREM package\n",
    "from qiskit.ignis.mitigation.measurement import complete_meas_cal, CompleteMeasFitter\n",
    "from qiskit.ignis.mitigation import expectation_value"
   ]
  },
  {
   "cell_type": "code",
   "execution_count": 4,
   "id": "021cc2b7",
   "metadata": {},
   "outputs": [],
   "source": [
    "# Import mitiq for zne\n",
    "import mitiq"
   ]
  },
  {
   "cell_type": "code",
   "execution_count": 5,
   "id": "384a1073",
   "metadata": {},
   "outputs": [],
   "source": [
    "# Import state tomography modules\n",
    "from qiskit.ignis.verification.tomography import state_tomography_circuits\n",
    "from qiskit.quantum_info import state_fidelity"
   ]
  },
  {
   "cell_type": "markdown",
   "id": "5c7579af",
   "metadata": {},
   "source": [
    "# Import Libraries"
   ]
  },
  {
   "cell_type": "code",
   "execution_count": 6,
   "id": "823c2f2e",
   "metadata": {},
   "outputs": [],
   "source": [
    "import sys\n",
    "import importlib\n",
    "sys.path.append(\"../utils/\")\n",
    "import circuit_utils, zne_utils, tomography_utils, sgs_algorithm\n",
    "importlib.reload(circuit_utils)\n",
    "importlib.reload(zne_utils)\n",
    "importlib.reload(tomography_utils)\n",
    "importlib.reload(sgs_algorithm)\n",
    "from circuit_utils import *\n",
    "from zne_utils import *\n",
    "from tomography_utils import *\n",
    "from sgs_algorithm import *"
   ]
  },
  {
   "cell_type": "markdown",
   "id": "2b869090",
   "metadata": {},
   "source": [
    "# Set Parameters"
   ]
  },
  {
   "cell_type": "code",
   "execution_count": 7,
   "id": "afcf68d8",
   "metadata": {},
   "outputs": [
    {
     "name": "stdout",
     "output_type": "stream",
     "text": [
      "trotter step:  100\n"
     ]
    }
   ],
   "source": [
    "# Combine subcircuits into a single multiqubit gate representing a single trotter step\n",
    "num_qubits = 3\n",
    "\n",
    "# The final time of the state evolution\n",
    "target_time = np.pi\n",
    "\n",
    "# Parameterize variable t to be evaluated at t=pi later\n",
    "dt = Parameter('t')\n",
    "\n",
    "# Convert custom quantum circuit into a gate\n",
    "trot_gate = trotter_gate(dt)\n",
    "\n",
    "# initial layout\n",
    "initial_layout = [5,3,1]\n",
    "\n",
    "# Number of trotter steps\n",
    "num_steps = 100\n",
    "print(\"trotter step: \", num_steps)\n",
    "\n",
    "scale_factors = [1.0, 2.0, 3.0]"
   ]
  },
  {
   "cell_type": "markdown",
   "id": "5646956e",
   "metadata": {},
   "source": [
    "# Prepare Circuits\n",
    "\n",
    "logical circuits = little endian\n",
    "name: lq = logical qubits "
   ]
  },
  {
   "cell_type": "code",
   "execution_count": 8,
   "id": "c905314f",
   "metadata": {},
   "outputs": [
    {
     "name": "stdout",
     "output_type": "stream",
     "text": [
      "created qc\n",
      "created st_qcs (length: 27 )\n",
      "removed barriers from st_qcs\n",
      "created t3_st_qcs (length: 27 )\n",
      "created zne_qcs (length: 81 )\n",
      "created t3_zne_qcs (length: 81 )\n"
     ]
    }
   ],
   "source": [
    "# Initialize quantum circuit for 3 qubits\n",
    "qr = QuantumRegister(num_qubits, name=\"q\")\n",
    "qc = QuantumCircuit(qr)\n",
    "\n",
    "# Prepare initial state (remember we are only evolving 3 of the 7 qubits on jakarta qubits (q_5, q_3, q_1) corresponding to the state |110>)\n",
    "make_initial_state(qc, \"110\")  # DO NOT MODIFY (|q_5,q_3,q_1> = |110>)\n",
    "\n",
    "general_subspace_encoder(qc, targets=[0, 1, 2]) # encode\n",
    "trotterize(qc, trot_gate, num_steps, targets=[1, 2]) # Simulate time evolution under H_heis3 Hamiltonian\n",
    "general_subspace_decoder(qc, targets=[0, 1, 2]) # decode\n",
    "\n",
    "# Evaluate simulation at target_time (t=pi) meaning each trotter step evolves pi/trotter_steps in time\n",
    "qc = qc.bind_parameters({dt: target_time / num_steps})\n",
    "print(\"created qc\")\n",
    "\n",
    "# Generate state tomography circuits to evaluate fidelity of simulation\n",
    "st_qcs = state_tomography_circuits(qc, [0, 1, 2][::-1])  #! state tomography requires === BIG ENDIAN === \n",
    "print(\"created st_qcs (length:\", len(st_qcs), \")\")\n",
    "\n",
    "# remove barriers\n",
    "st_qcs = [RemoveBarriers()(qc) for qc in st_qcs]\n",
    "print(\"removed barriers from st_qcs\")\n",
    "\n",
    "# optimize circuit\n",
    "t3_st_qcs = transpile(st_qcs, optimization_level=3, basis_gates=[\"sx\", \"cx\", \"rz\"])\n",
    "t3_st_qcs = transpile(t3_st_qcs, optimization_level=3, basis_gates=[\"sx\", \"cx\", \"rz\"])\n",
    "print(\"created t3_st_qcs (length:\", len(t3_st_qcs), \")\")\n",
    "\n",
    "# zne wrapping\n",
    "zne_qcs = zne_wrapper(t3_st_qcs, scale_factors = scale_factors, pt = False)\n",
    "print(\"created zne_qcs (length:\", len(zne_qcs), \")\")\n",
    "\n",
    "# optimization_level must be 0\n",
    "# feed initial_layout here to see the picture of the circuits before casting the job\n",
    "t3_zne_qcs = transpile(zne_qcs, optimization_level=0, basis_gates=[\"sx\", \"cx\", \"rz\"], initial_layout=initial_layout)\n",
    "print(\"created t3_zne_qcs (length:\", len(t3_zne_qcs), \")\")"
   ]
  },
  {
   "cell_type": "code",
   "execution_count": 9,
   "id": "3f2f5993",
   "metadata": {},
   "outputs": [
    {
     "data": {
      "image/png": "[encoded data removed]",
      "text/plain": [
       "<Figure size 1684.33x927.08 with 1 Axes>"
      ]
     },
     "execution_count": 9,
     "metadata": {},
     "output_type": "execute_result"
    }
   ],
   "source": [
    "t3_zne_qcs[-3].draw(\"mpl\")"
   ]
  },
  {
   "cell_type": "markdown",
   "id": "fc642fd9",
   "metadata": {},
   "source": [
    "# Set Backend"
   ]
  },
  {
   "cell_type": "code",
   "execution_count": 10,
   "id": "f7347fa4",
   "metadata": {},
   "outputs": [
    {
     "name": "stdout",
     "output_type": "stream",
     "text": [
      "provider: <AccountProvider for IBMQ(hub='ibm-q-community', group='ibmquantumawards', project='open-science-22')>\n",
      "ibmq_jakarta\n"
     ]
    }
   ],
   "source": [
    "# from qiskit.test.mock import FakeJakarta\n",
    "# backend = FakeJakarta()\n",
    "# backend = Aer.get_backend(\"qasm_simulator\")\n",
    "\n",
    "IBMQ.load_account()\n",
    "provider = IBMQ.get_provider(hub='ibm-q-utokyo', group='internal', project='hirashi-jst')\n",
    "provider = IBMQ.get_provider(hub='ibm-q-community', group='ibmquantumawards', project='open-science-22')\n",
    "print(\"provider:\", provider)\n",
    "backend = provider.get_backend(\"ibmq_jakarta\")\n",
    "print(str(backend))"
   ]
  },
  {
   "cell_type": "markdown",
   "id": "c7f6dad0",
   "metadata": {},
   "source": [
    "# Execute Circuits"
   ]
  },
  {
   "cell_type": "code",
   "execution_count": 11,
   "id": "7f97085a",
   "metadata": {
    "scrolled": true
   },
   "outputs": [
    {
     "name": "stdout",
     "output_type": "stream",
     "text": [
      "Job ID 6256919c7ec04e14bfb0629a\n",
      "Job ID 625691a0bca2b96c6977c21b\n",
      "Job ID 625691a38233e8048dad1fa9\n",
      "Job ID 625691a49def428bb1a98e9f\n",
      "Job ID 625691a7bca2b968f677c21c\n",
      "Job ID 625691aa8233e85128ad1fac\n",
      "Job ID 625691aca218784f3c6486a9\n",
      "Job ID 625691afbca2b99ba277c21d\n"
     ]
    }
   ],
   "source": [
    "shots = 1 << 13\n",
    "reps = 8 # unused\n",
    "jobs = []\n",
    "for _ in range(reps):\n",
    "    #! CHECK: run t3_zne_qcs, with optimization_level = 0 and straightforward initial_layout\n",
    "    job = execute(t3_zne_qcs, backend, shots=shots, optimization_level=0)\n",
    "    print('Job ID', job.job_id())\n",
    "    jobs.append(job)"
   ]
  },
  {
   "cell_type": "markdown",
   "id": "a28eaa5a",
   "metadata": {},
   "source": [
    "# QREM"
   ]
  },
  {
   "cell_type": "code",
   "execution_count": 12,
   "id": "240bad4a",
   "metadata": {},
   "outputs": [
    {
     "name": "stdout",
     "output_type": "stream",
     "text": [
      "Job ID 625691b0a21878b7026486aa\n"
     ]
    },
    {
     "data": {
      "image/png": "[encoded data removed]",
      "text/plain": [
       "<Figure size 357.54x264.88 with 1 Axes>"
      ]
     },
     "execution_count": 12,
     "metadata": {},
     "output_type": "execute_result"
    }
   ],
   "source": [
    "# QREM\n",
    "qr = QuantumRegister(num_qubits, name=\"calq\")\n",
    "meas_calibs, state_labels = complete_meas_cal(qr=qr, circlabel='mcal')\n",
    "# we have to feed initial_layout to calibration matrix\n",
    "cal_job = execute(meas_calibs, backend=backend, shots=shots, optimization_level=3, initial_layout = initial_layout)\n",
    "print('Job ID', cal_job.job_id())\n",
    "meas_calibs[0].draw(\"mpl\")"
   ]
  },
  {
   "cell_type": "code",
   "execution_count": 13,
   "id": "a12e04fa",
   "metadata": {},
   "outputs": [
    {
     "name": "stdout",
     "output_type": "stream",
     "text": [
      "2022-04-13 18:02:41.626168\n"
     ]
    }
   ],
   "source": [
    "dt_now = datetime.datetime.now()\n",
    "print(dt_now)"
   ]
  },
  {
   "cell_type": "code",
   "execution_count": 14,
   "id": "e6ec7996",
   "metadata": {},
   "outputs": [
    {
     "name": "stdout",
     "output_type": "stream",
     "text": [
      "job_ids_ibmq_jakarta_100step_20220413_180241_.pkl\n"
     ]
    }
   ],
   "source": [
    "filename = \"job_ids_\" + str(backend) + \"_100step_\" + dt_now.strftime('%Y%m%d_%H%M%S') + \"_.pkl\"\n",
    "print(filename)"
   ]
  },
  {
   "cell_type": "code",
   "execution_count": 15,
   "id": "5eaa8f84",
   "metadata": {},
   "outputs": [
    {
     "name": "stderr",
     "output_type": "stream",
     "text": [
      "/var/folders/vr/d82vcp297v78vk4sb0_nzzdc0000gn/T/ipykernel_43145/3450182954.py:2: DeprecationWarning: The `backends` provider attribute is deprecated. Please use `provider.backend` (singular) instead. You can continue to use `provider.backends()` to retrieve all backends.\n",
      "  pickle.dump({\"jobs\": jobs, \"cal_job\": cal_job}, f)\n"
     ]
    }
   ],
   "source": [
    "with open(\"jobs_\" + str(backend) + \"_100step_\" + dt_now.strftime('%Y%m%d_%H%M%S') + \"_.pkl\", \"wb\") as f:\n",
    "    pickle.dump({\"jobs\": jobs, \"cal_job\": cal_job}, f)"
   ]
  },
  {
   "cell_type": "code",
   "execution_count": 16,
   "id": "3f82efcf",
   "metadata": {},
   "outputs": [],
   "source": [
    "with open(filename, \"wb\") as f:\n",
    "    pickle.dump({\"job_ids\": [job.job_id() for job in jobs], \"cal_job_id\": cal_job.job_id()}, f)"
   ]
  },
  {
   "cell_type": "code",
   "execution_count": 17,
   "id": "a3432b79",
   "metadata": {},
   "outputs": [],
   "source": [
    "with open(\"properties_\" + str(backend) + \"_\" + dt_now.strftime('%Y%m%d_%H%M%S') + \"_.pkl\", \"wb\") as f:\n",
    "    pickle.dump(backend.properties(), f)"
   ]
  },
  {
   "cell_type": "markdown",
   "id": "df0d929b",
   "metadata": {},
   "source": [
    "# ============ wait for results ============"
   ]
  },
  {
   "cell_type": "markdown",
   "id": "56ce5827",
   "metadata": {},
   "source": [
    "# Retrieve Jobs"
   ]
  },
  {
   "cell_type": "code",
   "execution_count": null,
   "id": "94e6df3a",
   "metadata": {},
   "outputs": [],
   "source": [
    "filename = \"\" # change here\n",
    "with open(filename, \"rb\") as f:\n",
    "    job_ids_dict = pickle.load(f)\n",
    "    job_ids = job_ids_dict[\"job_ids\"]\n",
    "    cal_job_id = job_ids_dict[\"cal_job_id\"]"
   ]
  },
  {
   "cell_type": "code",
   "execution_count": null,
   "id": "35afebca",
   "metadata": {},
   "outputs": [],
   "source": [
    "retrieved_jobs = []\n",
    "for job_id in job_ids:\n",
    "    retrieved_jobs.append(backend.retrieve_job(job_id))\n",
    "retrieved_cal_job = backend.retrieve_job(cal_job_id)"
   ]
  },
  {
   "cell_type": "markdown",
   "id": "404fed71",
   "metadata": {},
   "source": [
    "# State Tomography"
   ]
  },
  {
   "cell_type": "code",
   "execution_count": null,
   "id": "52e27c80",
   "metadata": {},
   "outputs": [],
   "source": [
    "cal_results = retrieved_cal_job.result()\n",
    "meas_fitter = CompleteMeasFitter(cal_results, state_labels, circlabel='mcal')"
   ]
  },
  {
   "cell_type": "code",
   "execution_count": null,
   "id": "54875158",
   "metadata": {},
   "outputs": [],
   "source": [
    "target_state = (One^One^Zero).to_matrix() # DO NOT CHANGE!!!"
   ]
  },
  {
   "cell_type": "code",
   "execution_count": null,
   "id": "016b8e45",
   "metadata": {},
   "outputs": [],
   "source": [
    "fids = []\n",
    "for job in retrieved_jobs:\n",
    "    mit_results = meas_fitter.filter.apply(job.result())\n",
    "    zne_expvals = zne_decoder(num_qubits, mit_results, scale_factors = scale_factors)\n",
    "    rho = expvals_to_valid_rho(num_qubits, zne_expvals)\n",
    "    fid = state_fidelity(rho, target_state)\n",
    "    fids.append(fid)\n",
    "    \n",
    "print('state tomography fidelity = {:.4f} \\u00B1 {:.4f}'.format(np.mean(fids), np.std(fids)))"
   ]
  }
 ],
 "metadata": {
  "kernelspec": {
   "display_name": "Python 3 (ipykernel)",
   "language": "python",
   "name": "python3"
  },
  "language_info": {
   "codemirror_mode": {
    "name": "ipython",
    "version": 3
   },
   "file_extension": ".py",
   "mimetype": "text/x-python",
   "name": "python",
   "nbconvert_exporter": "python",
   "pygments_lexer": "ipython3",
   "version": "3.9.7"
  },
  "widgets": {
   "application/vnd.jupyter.widget-state+json": {
    "state": {},
    "version_major": 2,
    "version_minor": 0
   }
  }
 },
 "nbformat": 4,
 "nbformat_minor": 5
}
