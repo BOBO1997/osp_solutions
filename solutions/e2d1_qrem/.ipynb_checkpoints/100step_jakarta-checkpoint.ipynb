{
 "cells": [
  {
   "cell_type": "markdown",
   "id": "7f7b7f17",
   "metadata": {},
   "source": [
    "# Run Trotterization on ibmq_jakarta with QREM\n",
    "\n",
    "In this notebook we run the proposed Trotterization method on ibmq_jakarta with\n",
    "- quantum readout error mitigation (QREM)\n",
    "\n",
    "Here is the rough workflow of this notebook.\n",
    "For the details, please see the comments in each section.\n",
    "\n",
    "1. We first construct the quantum circuit with $100$ iterations of the proposed Trotter step.\\\n",
    "Each Trotter step has two CNOT gates and decoder also has two CNOT gates.\\\n",
    "Hence at this stage, the created quantum circuit contains $202$ CNOT gates connected in series.\n",
    "2. Next, we use the `state_tomography_circuits` function to make a batch of circuits for state tomography.\\\n",
    "This circuit list consists of 27 circuits with different measurement basis.\n",
    "3. Then, we optimize the circuit list by `transpile` function with `optimization_level=3` option.\\\n",
    "After this step, the $200$ CNOT gates in each circuit are optimized into only $5$ CNOT gates.\n",
    "4. We run this optimized circuit list on ibmq_jakarta, as well as the complete readout calibration circuits.\n",
    "5. When the jobs are retrieved from the ibmq_jakarta, the results are mitigated by QREM process and passed to `state_tomo` function to compute the mitigated fidelity."
   ]
  },
  {
   "cell_type": "markdown",
   "id": "2479c61b",
   "metadata": {},
   "source": [
    "# Import Libiraries\n",
    "\n",
    "Here we use `qiskit` and `mitiq` package in addition to the built-in libraries."
   ]
  },
  {
   "cell_type": "code",
   "execution_count": 1,
   "id": "6c48acd1",
   "metadata": {},
   "outputs": [],
   "source": [
    "import numpy as np\n",
    "import matplotlib.pyplot as plt\n",
    "from pprint import pprint\n",
    "import pickle\n",
    "import time\n",
    "import datetime"
   ]
  },
  {
   "cell_type": "code",
   "execution_count": 2,
   "id": "d2b9e40b",
   "metadata": {},
   "outputs": [],
   "source": [
    "# Import qubit states Zero (|0>) and One (|1>), and Pauli operators (X, Y, Z)\n",
    "from qiskit.opflow import Zero, One\n",
    "from qiskit import QuantumCircuit, QuantumRegister, IBMQ, execute, transpile, Aer\n",
    "from qiskit.tools.monitor import job_monitor\n",
    "from qiskit.circuit import Parameter\n",
    "from qiskit.transpiler.passes import RemoveBarriers"
   ]
  },
  {
   "cell_type": "code",
   "execution_count": 3,
   "id": "c96c5a8c",
   "metadata": {},
   "outputs": [
    {
     "name": "stderr",
     "output_type": "stream",
     "text": [
      "/var/folders/vr/d82vcp297v78vk4sb0_nzzdc0000gn/T/ipykernel_39010/3056705909.py:2: DeprecationWarning: The qiskit.ignis package is deprecated and has been supersceded by the qiskit-experiments project. Refer to the migration guide: https://github.com/Qiskit/qiskit-ignis#migration-guide on how to migrate to the new project.\n",
      "  from qiskit.ignis.mitigation.measurement import complete_meas_cal, CompleteMeasFitter\n"
     ]
    }
   ],
   "source": [
    "# Import QREM package\n",
    "from qiskit.ignis.mitigation.measurement import complete_meas_cal, CompleteMeasFitter\n",
    "from qiskit.ignis.mitigation import expectation_value"
   ]
  },
  {
   "cell_type": "code",
   "execution_count": 4,
   "id": "021cc2b7",
   "metadata": {},
   "outputs": [],
   "source": [
    "# Import mitiq for zne\n",
    "# unused for this file\n",
    "import mitiq"
   ]
  },
  {
   "cell_type": "code",
   "execution_count": 5,
   "id": "384a1073",
   "metadata": {},
   "outputs": [],
   "source": [
    "# Import state tomography modules\n",
    "from qiskit.ignis.verification.tomography import state_tomography_circuits, StateTomographyFitter\n",
    "from qiskit.quantum_info import state_fidelity"
   ]
  },
  {
   "cell_type": "markdown",
   "id": "5c7579af",
   "metadata": {},
   "source": [
    "# Import Libraries\n",
    "\n",
    "Let's briefly review the self-made functions imported from the files in `utils` directory.\n",
    "The functions used in this notebook are commented in red text as below.\n",
    "\n",
    "1. `circuit_utils.py`: The functions to compose the quantum circuits.\n",
    "    - <font color=\"Red\">[used in this notebook]</font>`trot_gate(dt: Parameter) -> Instruction`: Create and return the circuit instruction of the one trotter step with rotation angle `dt`.\n",
    "    - <font color=\"Red\">[used in this notebook]</font>`trotterize(qc: QuantumCirucit, trot_gate: Instruction, num_steps: int, targets: List[int]) -> None`: Add Trotter iteration `num_steps` times to the quantum circuit.\n",
    "    - <font color=\"Red\">[used in this notebook]</font>`make_initial_state(qc: QuantumCircuit, initial_state: str) -> None`: Add the initial state according to the input string written in little endian.\n",
    "    - `general_subspace_encoder(qc: QuantumCircuit, targets: List[int]) -> None`: Add gates that encode 3-particle system into 2-qubit space in a rigorous way.\n",
    "    - `general_subspace_decoder(qc: QuantumCircuit, targets: List[int]) -> None`: Add gates that decode 2-qubit space into 3-particle system in a rigorous way.\n",
    "    - `subspace_encoder(qc: QuantumCircuit, targets: List[int]) -> None`: Add the gates that encode 3-particle system into 2-qubit space assuming the initial state is limited to the superposition of $\\{|000\\rangle, |110\\rangle, |101\\rangle, |011\\rangle\\}$.\n",
    "    - <font color=\"Red\">[used in this notebook]</font>`subspace_decoder(qc: QuantumCircuit, targets: List[int]) -> None`: Add the gates that decode 2-qubit space into 3-particle system assuming the resulting state after Trotterization is limited to the superposition of $\\{|000\\rangle, |110\\rangle, |101\\rangle, |011\\rangle\\}$.\n",
    "    - <font color=\"Red\">[used in this notebook]</font>`subspace_encoder_init110(qc: QuantumCircuit, targets: List[int]) -> None`: Add the gates that encode 3-particle system into 2-qubit space assuming the initial state is $|110\\rangle$.\n",
    "    - `subspace_decoder_init110(qc: QuantumCircuit, targets: List[int]) -> None`: Add the gates that decode 2-qubit space into 3-particle system assuming the resulting state after Trotterization is limited to the initial state $|110\\rangle$.\n",
    "\n",
    "2. `zne_utils.py`: The functions to wrap the quantum circuits with zero-noise extrapolation (ZNE) to predict the ideal expectation values without error via classical post-processing.\n",
    "    - `zne_wrapper(qcs: List[QuantumCircuit], scale_factors = [1.0, 2.0, 3.0], pt = False) -> List[QuantumCirucit]`: Given a list of quantum circuit `qcs`, this function wrap each quantum circuit in `qcs` with the zero-noise extrapolation (ZNE) circuits with different noise scaling factors. Finally this funcion returns the flatten 1d-list of quantum circuits. If `pt=True`, the Pauli Twirling is enabled in the ZNE circuits.\n",
    "    - `zne_decoder(n: int, result: Result, scale_factors=[1.0, 2.0, 3.0], fac_type=\"lin\") -> List[float]`: Given the qubit size and results of the zero-noise extrapolation (ZNE) circuits, this function computes the expectation value of each observable in the results.\n",
    "\n",
    "3. `tomography_utils.py`: The functions that used for reconstruct the density matrix instead of `StateTomographyFitter`. Since the `StateTomographyFitter` only takes probability distributions, we need the density matrix recovery function from expectation values.\n",
    "    - `expvals_to_valid_rho(n: int, zne_expvals: List[float])`: This function takes the system size and the expectation values of the tomography circuis to construct the valid density matrix that can be fed to `qiskit.quantum_info.state_fidelity` function."
   ]
  },
  {
   "cell_type": "code",
   "execution_count": 6,
   "id": "823c2f2e",
   "metadata": {},
   "outputs": [],
   "source": [
    "import sys\n",
    "import importlib\n",
    "sys.path.append(\"../utils/\")\n",
    "import circuit_utils, zne_utils, tomography_utils\n",
    "importlib.reload(circuit_utils)\n",
    "importlib.reload(zne_utils) # unused for this file\n",
    "importlib.reload(tomography_utils) # unused for this file\n",
    "from circuit_utils import *\n",
    "from zne_utils import zne_wrapper, zne_decoder\n",
    "from tomography_utils import expvals_to_valid_rho"
   ]
  },
  {
   "cell_type": "markdown",
   "id": "2b869090",
   "metadata": {},
   "source": [
    "# Set Parameters\n",
    "\n",
    "Here we set the parameters for the given problem setting and our proposed approach.\n",
    "- `num_qubits`: The system size for the given problem setting.\n",
    "- `target_time`: The final time of the state evolution for the given problem setting.\n",
    "- `dt`: The rotation angle for one Trotter step in the proposed method.\n",
    "- `trot_gate`: The instruction of the Trotter iteration circuit.\n",
    "- `initial_layout`: The mapping from virtual qubits to physical qubits.\n",
    "- `num_steps`: The number of of the Trotter iterations.\n",
    "- `scale_factors`: The scaling factors of the zero-noise extrapolation method. This is not used in this notebook."
   ]
  },
  {
   "cell_type": "code",
   "execution_count": 7,
   "id": "afcf68d8",
   "metadata": {},
   "outputs": [
    {
     "name": "stdout",
     "output_type": "stream",
     "text": [
      "trotter step:  100\n"
     ]
    }
   ],
   "source": [
    "num_qubits = 3\n",
    "\n",
    "# The final time of the state evolution\n",
    "target_time = np.pi\n",
    "\n",
    "# Parameterize variable t to be evaluated at t=pi later\n",
    "dt = Parameter('t')\n",
    "\n",
    "# Convert custom quantum circuit into a gate\n",
    "trot_gate = trotter_gate(dt)\n",
    "\n",
    "# initial layout\n",
    "initial_layout = [5,3,1]\n",
    "\n",
    "# Number of trotter steps\n",
    "num_steps = 100\n",
    "print(\"trotter step: \", num_steps)\n",
    "\n",
    "scale_factors = [1.0, 2.0, 3.0] # unused for this file"
   ]
  },
  {
   "cell_type": "markdown",
   "id": "5646956e",
   "metadata": {},
   "source": [
    "# Prepare Circuits\n",
    "\n",
    "TODO: 数式を入れる!!!!\n",
    "Here we prepare the quantum circuits.\n",
    "1. We firstly encode the 3-qubit initial state $|110\\rangle$ into two qubit state $|0\\rangle|10\\rangle$.\\\n",
    "For the specific initial state $|110\\rangle$, we can just apply X gate to the first qubit.\n",
    "2. Trotterization, decode\n",
    "2. make state tomography circuits\n",
    "3. optimize the circuits\n",
    "4. put the virtual qubits onto the physical qubits"
   ]
  },
  {
   "cell_type": "code",
   "execution_count": 8,
   "id": "c905314f",
   "metadata": {},
   "outputs": [
    {
     "name": "stdout",
     "output_type": "stream",
     "text": [
      "created qc\n",
      "created st_qcs (length: 27 )\n",
      "removed barriers from st_qcs\n",
      "created t3_st_qcs (length: 27 )\n",
      "created t3_zne_qcs (length: 27 )\n"
     ]
    }
   ],
   "source": [
    "# Initialize quantum circuit for 3 qubits\n",
    "qr = QuantumRegister(num_qubits, name=\"q\")\n",
    "qc = QuantumCircuit(qr)\n",
    "\n",
    "# Prepare initial state (remember we are only evolving 3 of the 7 qubits on jakarta qubits (q_5, q_3, q_1) corresponding to the state |110>)\n",
    "make_initial_state(qc, \"110\")  # DO NOT MODIFY (|q_5,q_3,q_1> = |110>)\n",
    "\n",
    "subspace_encoder_init110(qc, targets=[0, 1, 2]) # encode\n",
    "trotterize(qc, trot_gate, num_steps, targets=[1, 2]) # Simulate time evolution under H_heis3 Hamiltonian\n",
    "subspace_decoder(qc, targets=[0, 1, 2]) # decode\n",
    "\n",
    "# Evaluate simulation at target_time (t=pi) meaning each trotter step evolves pi/trotter_steps in time\n",
    "qc = qc.bind_parameters({dt: target_time / num_steps})\n",
    "print(\"created qc\")\n",
    "\n",
    "# Generate state tomography circuits to evaluate fidelity of simulation\n",
    "st_qcs = state_tomography_circuits(qc, [0, 1, 2][::-1])  #! state tomography requires === BIG ENDIAN === \n",
    "print(\"created st_qcs (length:\", len(st_qcs), \")\")\n",
    "\n",
    "# remove barriers\n",
    "st_qcs = [RemoveBarriers()(qc) for qc in st_qcs]\n",
    "print(\"removed barriers from st_qcs\")\n",
    "\n",
    "# optimize circuit\n",
    "t3_st_qcs = transpile(st_qcs, optimization_level=3, basis_gates=[\"sx\", \"cx\", \"rz\"])\n",
    "t3_st_qcs = transpile(t3_st_qcs, optimization_level=3, basis_gates=[\"sx\", \"cx\", \"rz\"])\n",
    "print(\"created t3_st_qcs (length:\", len(t3_st_qcs), \")\")\n",
    "\n",
    "# zne wrapping\n",
    "zne_qcs = t3_st_qcs\n",
    "# zne_qcs = zne_wrapper(t3_st_qcs, scale_factors = scale_factors, pt = False)\n",
    "# print(\"created zne_qcs (length:\", len(zne_qcs), \")\")\n",
    "\n",
    "# optimization_level must be 0\n",
    "# feed initial_layout here to see the picture of the circuits before casting the job\n",
    "t3_zne_qcs = transpile(zne_qcs, optimization_level=0, basis_gates=[\"sx\", \"cx\", \"rz\"], initial_layout=initial_layout)\n",
    "print(\"created t3_zne_qcs (length:\", len(t3_zne_qcs), \")\")"
   ]
  },
  {
   "cell_type": "code",
   "execution_count": 9,
   "id": "3f2f5993",
   "metadata": {},
   "outputs": [
    {
     "data": {
      "image/png": "[encoded data removed]",
      "text/plain": [
       "<Figure size 1563.93x445.48 with 1 Axes>"
      ]
     },
     "execution_count": 9,
     "metadata": {},
     "output_type": "execute_result"
    }
   ],
   "source": [
    "t3_zne_qcs[-3].draw(\"mpl\")"
   ]
  },
  {
   "cell_type": "markdown",
   "id": "fc642fd9",
   "metadata": {},
   "source": [
    "# Set Backend\n",
    "\n",
    "We use\n",
    "- Noise-free simulator: `qasm_simulator`\n",
    "- Mock Jakarta simulator: `fake_jakarta`\n",
    "- Real device: `ibmq_jakarta`\n",
    "\n",
    "for different purpose.\n",
    "\n",
    "Here, the `ibmq_jakarta` is selected."
   ]
  },
  {
   "cell_type": "code",
   "execution_count": 10,
   "id": "f7347fa4",
   "metadata": {},
   "outputs": [
    {
     "name": "stdout",
     "output_type": "stream",
     "text": [
      "provider: <AccountProvider for IBMQ(hub='ibm-q-community', group='ibmquantumawards', project='open-science-22')>\n",
      "ibmq_jakarta\n"
     ]
    }
   ],
   "source": [
    "# from qiskit.test.mock import FakeJakarta\n",
    "# backend = FakeJakarta()\n",
    "# backend = Aer.get_backend(\"qasm_simulator\")\n",
    "\n",
    "IBMQ.load_account()\n",
    "provider = IBMQ.get_provider(hub='ibm-q-community', group='ibmquantumawards', project='open-science-22')\n",
    "print(\"provider:\", provider)\n",
    "backend = provider.get_backend(\"ibmq_jakarta\")\n",
    "print(str(backend))"
   ]
  },
  {
   "cell_type": "markdown",
   "id": "c7f6dad0",
   "metadata": {},
   "source": [
    "# Execute Circuits\n",
    "\n",
    "We repeat same experiments `reps=8` times to take the avarage afterwards.\\\n",
    "Each circuit in an experiment is executed with $8192$ shots."
   ]
  },
  {
   "cell_type": "code",
   "execution_count": 11,
   "id": "7f97085a",
   "metadata": {
    "scrolled": true
   },
   "outputs": [
    {
     "name": "stdout",
     "output_type": "stream",
     "text": [
      "Job ID 6255be3442d2a412e97d4292\n",
      "Job ID 6255be369def42e43ca98b24\n",
      "Job ID 6255be38d8e31a08ac8b4e36\n",
      "Job ID 6255be3bd8e31a03818b4e37\n",
      "Job ID 6255be3da218787790648319\n",
      "Job ID 6255be3f9def42024fa98b25\n",
      "Job ID 6255be41bca2b9353f77be98\n",
      "Job ID 6255be438233e841ecad1c22\n"
     ]
    }
   ],
   "source": [
    "shots = 1 << 13\n",
    "reps = 8 # unused\n",
    "jobs = []\n",
    "for _ in range(reps):\n",
    "    #! CHECK: run t3_zne_qcs, with optimization_level = 0 and straightforward initial_layout\n",
    "    job = execute(t3_zne_qcs, backend, shots=shots, optimization_level=0)\n",
    "    print('Job ID', job.job_id())\n",
    "    jobs.append(job)"
   ]
  },
  {
   "cell_type": "markdown",
   "id": "a28eaa5a",
   "metadata": {},
   "source": [
    "# QREM\n",
    "\n",
    "We also run the calibration circuits for the quantum readout error mitigation (QREM)."
   ]
  },
  {
   "cell_type": "code",
   "execution_count": 12,
   "id": "240bad4a",
   "metadata": {},
   "outputs": [
    {
     "name": "stdout",
     "output_type": "stream",
     "text": [
      "Job ID 6255be45bca2b9124677be99\n"
     ]
    },
    {
     "data": {
      "image/png": "[encoded data removed]",
      "text/plain": [
       "<Figure size 357.54x264.88 with 1 Axes>"
      ]
     },
     "execution_count": 12,
     "metadata": {},
     "output_type": "execute_result"
    }
   ],
   "source": [
    "# QREM\n",
    "qr = QuantumRegister(num_qubits, name=\"calq\")\n",
    "meas_calibs, state_labels = complete_meas_cal(qr=qr, circlabel='mcal')\n",
    "# we have to feed initial_layout to calibration matrix\n",
    "cal_job = execute(meas_calibs, backend=backend, shots=shots, optimization_level=3, initial_layout = initial_layout)\n",
    "print('Job ID', cal_job.job_id())\n",
    "meas_calibs[0].draw(\"mpl\")"
   ]
  },
  {
   "cell_type": "markdown",
   "id": "8c9cc325",
   "metadata": {},
   "source": [
    "# Save Jobs\n",
    "\n",
    "We save the jobs and job ids as pickle files as well as the device property information."
   ]
  },
  {
   "cell_type": "code",
   "execution_count": 13,
   "id": "7ba190e6",
   "metadata": {},
   "outputs": [
    {
     "name": "stdout",
     "output_type": "stream",
     "text": [
      "2022-04-13 03:00:38.945453\n"
     ]
    }
   ],
   "source": [
    "dt_now = datetime.datetime.now()\n",
    "print(dt_now)"
   ]
  },
  {
   "cell_type": "code",
   "execution_count": 14,
   "id": "d974fee9",
   "metadata": {},
   "outputs": [
    {
     "name": "stdout",
     "output_type": "stream",
     "text": [
      "job_ids_ibmq_jakarta_100step_20220413_030038_.pkl\n"
     ]
    }
   ],
   "source": [
    "filename = \"job_ids_\" + str(backend) + \"_100step_\" + dt_now.strftime('%Y%m%d_%H%M%S') + \"_.pkl\"\n",
    "print(filename)"
   ]
  },
  {
   "cell_type": "code",
   "execution_count": 15,
   "id": "22930d45",
   "metadata": {},
   "outputs": [
    {
     "name": "stderr",
     "output_type": "stream",
     "text": [
      "/var/folders/vr/d82vcp297v78vk4sb0_nzzdc0000gn/T/ipykernel_39010/3450182954.py:2: DeprecationWarning: The `backends` provider attribute is deprecated. Please use `provider.backend` (singular) instead. You can continue to use `provider.backends()` to retrieve all backends.\n",
      "  pickle.dump({\"jobs\": jobs, \"cal_job\": cal_job}, f)\n"
     ]
    }
   ],
   "source": [
    "with open(\"jobs_\" + str(backend) + \"_100step_\" + dt_now.strftime('%Y%m%d_%H%M%S') + \"_.pkl\", \"wb\") as f:\n",
    "    pickle.dump({\"jobs\": jobs, \"cal_job\": cal_job}, f)"
   ]
  },
  {
   "cell_type": "code",
   "execution_count": 16,
   "id": "1885b76a",
   "metadata": {},
   "outputs": [],
   "source": [
    "with open(filename, \"wb\") as f:\n",
    "    pickle.dump({\"job_ids\": [job.job_id() for job in jobs], \"cal_job_id\": cal_job.job_id()}, f)"
   ]
  },
  {
   "cell_type": "code",
   "execution_count": 17,
   "id": "7918db50",
   "metadata": {},
   "outputs": [],
   "source": [
    "with open(\"properties_\" + str(backend) + \"_\" + dt_now.strftime('%Y%m%d_%H%M%S') + \"_.pkl\", \"wb\") as f:\n",
    "    pickle.dump(backend.properties(), f)"
   ]
  },
  {
   "cell_type": "markdown",
   "id": "0b465cd7",
   "metadata": {},
   "source": [
    "# ============ wait for results ============"
   ]
  },
  {
   "cell_type": "markdown",
   "id": "a5f8bd96",
   "metadata": {},
   "source": [
    "# Retrieve Jobs\n",
    "\n",
    "Please set the variable `filename` to the same string as printed above, if you restart this notebook from here."
   ]
  },
  {
   "cell_type": "code",
   "execution_count": null,
   "id": "4259ef25",
   "metadata": {},
   "outputs": [],
   "source": [
    "# filename = \"\" # change here\n",
    "with open(filename, \"rb\") as f:\n",
    "    job_ids_dict = pickle.load(f)\n",
    "    job_ids = job_ids_dict[\"job_ids\"]\n",
    "    cal_job_id = job_ids_dict[\"cal_job_id\"]"
   ]
  },
  {
   "cell_type": "code",
   "execution_count": null,
   "id": "63f187d0",
   "metadata": {},
   "outputs": [],
   "source": [
    "retrieved_jobs = []\n",
    "for job_id in job_ids:\n",
    "    retrieved_jobs.append(backend.retrieve_job(job_id))\n",
    "retrieved_cal_job = backend.retrieve_job(cal_job_id)"
   ]
  },
  {
   "cell_type": "markdown",
   "id": "404fed71",
   "metadata": {},
   "source": [
    "# State Tomography\n",
    "\n",
    "Here we process the measurement outcomes for each job in the following way.\n",
    "1. Apply measurement error mitigation (quantum readout error mitigation, QREM)\n",
    "2. Apply zero-noise extrapolation (ZNE)\n",
    "3. Reconstruct the valid density matrix\n",
    "4. Compute the state fidelity"
   ]
  },
  {
   "cell_type": "code",
   "execution_count": null,
   "id": "f93dda19",
   "metadata": {},
   "outputs": [],
   "source": [
    "# make the complete QREM fitter\n",
    "cal_results = retrieved_cal_job.result()\n",
    "meas_fitter = CompleteMeasFitter(cal_results, state_labels, circlabel='mcal')"
   ]
  },
  {
   "cell_type": "code",
   "execution_count": null,
   "id": "54875158",
   "metadata": {},
   "outputs": [],
   "source": [
    "# set the target state\n",
    "target_state = (One^One^Zero).to_matrix() # DO NOT CHANGE!!!"
   ]
  },
  {
   "cell_type": "code",
   "execution_count": null,
   "id": "016b8e45",
   "metadata": {},
   "outputs": [],
   "source": [
    "fids = []\n",
    "for job in retrieved_jobs:\n",
    "    mit_results = meas_fitter.filter.apply(job.result()) # apply QREM\n",
    "    rho = StateTomographyFitter(mit_results, t3_zne_qcs).fit(method='lstsq')\n",
    "    fid = state_fidelity(rho, target_state)\n",
    "    fids.append(fid)\n",
    "    \n",
    "print('state tomography fidelity = {:.4f} \\u00B1 {:.4f}'.format(np.mean(fids), np.std(fids)))"
   ]
  },
  {
   "cell_type": "code",
   "execution_count": null,
   "id": "d3801da1",
   "metadata": {},
   "outputs": [],
   "source": [
    "import qiskit.tools.jupyter\n",
    "%qiskit_version_table"
   ]
  }
 ],
 "metadata": {
  "kernelspec": {
   "display_name": "Python 3 (ipykernel)",
   "language": "python",
   "name": "python3"
  },
  "language_info": {
   "codemirror_mode": {
    "name": "ipython",
    "version": 3
   },
   "file_extension": ".py",
   "mimetype": "text/x-python",
   "name": "python",
   "nbconvert_exporter": "python",
   "pygments_lexer": "ipython3",
   "version": "3.9.7"
  },
  "widgets": {
   "application/vnd.jupyter.widget-state+json": {
    "state": {},
    "version_major": 2,
    "version_minor": 0
   }
  }
 },
 "nbformat": 4,
 "nbformat_minor": 5
}
